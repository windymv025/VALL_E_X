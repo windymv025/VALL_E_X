{
 "cells": [
  {
   "cell_type": "code",
   "execution_count": 1,
   "id": "6e3c72a5",
   "metadata": {
    "execution": {
     "iopub.execute_input": "2024-10-18T11:48:16.063328Z",
     "iopub.status.busy": "2024-10-18T11:48:16.062890Z",
     "iopub.status.idle": "2024-10-18T11:48:17.059345Z",
     "shell.execute_reply": "2024-10-18T11:48:17.058073Z"
    },
    "papermill": {
     "duration": 1.004239,
     "end_time": "2024-10-18T11:48:17.061662",
     "exception": false,
     "start_time": "2024-10-18T11:48:16.057423",
     "status": "completed"
    },
    "tags": []
   },
   "outputs": [],
   "source": [
    "!rm -rf /kaggle/working/*"
   ]
  },
  {
   "cell_type": "code",
   "execution_count": 2,
   "id": "670bfb10",
   "metadata": {
    "_cell_guid": "b1076dfc-b9ad-4769-8c92-a6c4dae69d19",
    "_uuid": "8f2839f25d086af736a60e9eeb907d3b93b6e0e5",
    "execution": {
     "iopub.execute_input": "2024-10-18T11:48:17.070672Z",
     "iopub.status.busy": "2024-10-18T11:48:17.070323Z",
     "iopub.status.idle": "2024-10-18T11:48:21.684129Z",
     "shell.execute_reply": "2024-10-18T11:48:21.682796Z"
    },
    "papermill": {
     "duration": 4.621045,
     "end_time": "2024-10-18T11:48:21.686673",
     "exception": false,
     "start_time": "2024-10-18T11:48:17.065628",
     "status": "completed"
    },
    "tags": []
   },
   "outputs": [
    {
     "name": "stdout",
     "output_type": "stream",
     "text": [
      "Cloning into 'VALL_E_X'...\r\n",
      "remote: Enumerating objects: 230, done.\u001b[K\r\n",
      "remote: Counting objects: 100% (230/230), done.\u001b[K\r\n",
      "remote: Compressing objects: 100% (189/189), done.\u001b[K\r\n",
      "remote: Total 230 (delta 47), reused 214 (delta 31), pack-reused 0 (from 0)\u001b[K\r\n",
      "Receiving objects: 100% (230/230), 15.25 MiB | 26.12 MiB/s, done.\r\n",
      "Resolving deltas: 100% (47/47), done.\r\n",
      "renamed '/kaggle/working/VALL_E_X/LICENSE' -> '/kaggle/working/LICENSE'\r\n",
      "renamed '/kaggle/working/VALL_E_X/README.md' -> '/kaggle/working/README.md'\r\n",
      "renamed '/kaggle/working/VALL_E_X/customs' -> '/kaggle/working/customs'\r\n",
      "renamed '/kaggle/working/VALL_E_X/data' -> '/kaggle/working/data'\r\n",
      "renamed '/kaggle/working/VALL_E_X/descriptions.py' -> '/kaggle/working/descriptions.py'\r\n",
      "renamed '/kaggle/working/VALL_E_X/examples.py' -> '/kaggle/working/examples.py'\r\n",
      "renamed '/kaggle/working/VALL_E_X/exp' -> '/kaggle/working/exp'\r\n",
      "renamed '/kaggle/working/VALL_E_X/images' -> '/kaggle/working/images'\r\n",
      "renamed '/kaggle/working/VALL_E_X/infer.ipynb' -> '/kaggle/working/infer.ipynb'\r\n",
      "renamed '/kaggle/working/VALL_E_X/launch-ui.py' -> '/kaggle/working/launch-ui.py'\r\n",
      "renamed '/kaggle/working/VALL_E_X/macros.py' -> '/kaggle/working/macros.py'\r\n",
      "renamed '/kaggle/working/VALL_E_X/makedata.ipynb' -> '/kaggle/working/makedata.ipynb'\r\n",
      "renamed '/kaggle/working/VALL_E_X/model-card.md' -> '/kaggle/working/model-card.md'\r\n",
      "renamed '/kaggle/working/VALL_E_X/models' -> '/kaggle/working/models'\r\n",
      "renamed '/kaggle/working/VALL_E_X/modules' -> '/kaggle/working/modules'\r\n",
      "renamed '/kaggle/working/VALL_E_X/nltk_data' -> '/kaggle/working/nltk_data'\r\n",
      "renamed '/kaggle/working/VALL_E_X/presets' -> '/kaggle/working/presets'\r\n",
      "renamed '/kaggle/working/VALL_E_X/prompts' -> '/kaggle/working/prompts'\r\n",
      "renamed '/kaggle/working/VALL_E_X/requirements.txt' -> '/kaggle/working/requirements.txt'\r\n",
      "renamed '/kaggle/working/VALL_E_X/test.py' -> '/kaggle/working/test.py'\r\n",
      "renamed '/kaggle/working/VALL_E_X/train.py' -> '/kaggle/working/train.py'\r\n",
      "renamed '/kaggle/working/VALL_E_X/train_utils' -> '/kaggle/working/train_utils'\r\n",
      "renamed '/kaggle/working/VALL_E_X/utils' -> '/kaggle/working/utils'\r\n"
     ]
    }
   ],
   "source": [
    "!git clone https://github.com/windymv025/VALL_E_X.git\n",
    "!mv -v /kaggle/working/VALL_E_X/* /kaggle/working/\n",
    "!rm -rf VALL_E_X"
   ]
  },
  {
   "cell_type": "code",
   "execution_count": 3,
   "id": "aee02f01",
   "metadata": {
    "execution": {
     "iopub.execute_input": "2024-10-18T11:48:21.699113Z",
     "iopub.status.busy": "2024-10-18T11:48:21.698730Z",
     "iopub.status.idle": "2024-10-18T11:49:19.670857Z",
     "shell.execute_reply": "2024-10-18T11:49:19.669797Z"
    },
    "papermill": {
     "duration": 57.981266,
     "end_time": "2024-10-18T11:49:19.673452",
     "exception": false,
     "start_time": "2024-10-18T11:48:21.692186",
     "status": "completed"
    },
    "tags": []
   },
   "outputs": [],
   "source": [
    "!pip install -q -r requirements.txt"
   ]
  },
  {
   "cell_type": "code",
   "execution_count": 4,
   "id": "d6e3a184",
   "metadata": {
    "execution": {
     "iopub.execute_input": "2024-10-18T11:49:19.685851Z",
     "iopub.status.busy": "2024-10-18T11:49:19.685509Z",
     "iopub.status.idle": "2024-10-18T11:49:19.690359Z",
     "shell.execute_reply": "2024-10-18T11:49:19.689598Z"
    },
    "papermill": {
     "duration": 0.013814,
     "end_time": "2024-10-18T11:49:19.692777",
     "exception": false,
     "start_time": "2024-10-18T11:49:19.678963",
     "status": "completed"
    },
    "tags": []
   },
   "outputs": [],
   "source": [
    "input_dataset_path = '/kaggle/input/vivos-vietnamese-speech-dataset-ljspeech-format/vivos'\n",
    "input_train_path = f'{input_dataset_path}/train'\n",
    "input_test_path = f'{input_dataset_path}/test'\n",
    "prompt_file_name = 'audio_ann_sum.txt'\n",
    "\n",
    "# dataset_path = 'vivos_datasets'\n",
    "# train_path = f'{dataset_path}/train'\n",
    "# test_path = f'{dataset_path}/test'"
   ]
  },
  {
   "cell_type": "code",
   "execution_count": 5,
   "id": "9793eb64",
   "metadata": {
    "execution": {
     "iopub.execute_input": "2024-10-18T11:49:19.704857Z",
     "iopub.status.busy": "2024-10-18T11:49:19.704573Z",
     "iopub.status.idle": "2024-10-18T11:49:21.671192Z",
     "shell.execute_reply": "2024-10-18T11:49:21.670080Z"
    },
    "papermill": {
     "duration": 1.975192,
     "end_time": "2024-10-18T11:49:21.673667",
     "exception": false,
     "start_time": "2024-10-18T11:49:19.698475",
     "status": "completed"
    },
    "tags": []
   },
   "outputs": [
    {
     "name": "stdout",
     "output_type": "stream",
     "text": [
      "mkdir: missing operand\r\n",
      "Try 'mkdir --help' for more information.\r\n",
      "mkdir: missing operand\r\n",
      "Try 'mkdir --help' for more information.\r\n"
     ]
    }
   ],
   "source": [
    "!mkdir -p $train_path\n",
    "!mkdir -p $test_path"
   ]
  },
  {
   "cell_type": "code",
   "execution_count": 6,
   "id": "ff3ece1b",
   "metadata": {
    "execution": {
     "iopub.execute_input": "2024-10-18T11:49:21.687532Z",
     "iopub.status.busy": "2024-10-18T11:49:21.687180Z",
     "iopub.status.idle": "2024-10-18T11:49:26.076048Z",
     "shell.execute_reply": "2024-10-18T11:49:26.075068Z"
    },
    "papermill": {
     "duration": 4.398011,
     "end_time": "2024-10-18T11:49:26.078461",
     "exception": false,
     "start_time": "2024-10-18T11:49:21.680450",
     "status": "completed"
    },
    "tags": []
   },
   "outputs": [],
   "source": [
    "import shutil\n",
    "import os\n",
    "import h5py\n",
    "import glob\n",
    "import torch\n",
    "import torchaudio\n",
    "\n",
    "# import torch_xla\n",
    "# import torch_xla.core.xla_model as xm\n",
    "\n",
    "# print(f'PyTorch can access {xm.xla_device()} TPU cores')\n",
    "# tpu_device = xm.xla_device()\n",
    "\n",
    "# torch_xla.device_count()"
   ]
  },
  {
   "cell_type": "code",
   "execution_count": 7,
   "id": "900540c2",
   "metadata": {
    "execution": {
     "iopub.execute_input": "2024-10-18T11:49:26.091112Z",
     "iopub.status.busy": "2024-10-18T11:49:26.090666Z",
     "iopub.status.idle": "2024-10-18T11:50:00.674322Z",
     "shell.execute_reply": "2024-10-18T11:50:00.673279Z"
    },
    "papermill": {
     "duration": 34.592637,
     "end_time": "2024-10-18T11:50:00.676891",
     "exception": false,
     "start_time": "2024-10-18T11:49:26.084254",
     "status": "completed"
    },
    "tags": []
   },
   "outputs": [
    {
     "name": "stdout",
     "output_type": "stream",
     "text": [
      "Downloading...\r\n",
      "From (original): https://drive.google.com/uc?id=10gdQWvP-K_e1undkvv0p2b7SU6I4Egyl\r\n",
      "From (redirected): https://drive.google.com/uc?id=10gdQWvP-K_e1undkvv0p2b7SU6I4Egyl&confirm=t&uuid=da3af224-2df8-4b61-b5f0-74a8f0598aef\r\n",
      "To: /kaggle/working/vallex-checkpoint.pt\r\n",
      "100%|██████████████████████████████████████| 1.48G/1.48G [00:16<00:00, 89.8MB/s]\r\n"
     ]
    }
   ],
   "source": [
    "!pip install -q gdown\n",
    "!gdown 10gdQWvP-K_e1undkvv0p2b7SU6I4Egyl"
   ]
  },
  {
   "cell_type": "code",
   "execution_count": 8,
   "id": "06666c0f",
   "metadata": {
    "execution": {
     "iopub.execute_input": "2024-10-18T11:50:00.704880Z",
     "iopub.status.busy": "2024-10-18T11:50:00.704061Z",
     "iopub.status.idle": "2024-10-18T11:50:04.862134Z",
     "shell.execute_reply": "2024-10-18T11:50:04.860704Z"
    },
    "papermill": {
     "duration": 4.174612,
     "end_time": "2024-10-18T11:50:04.864561",
     "exception": false,
     "start_time": "2024-10-18T11:50:00.689949",
     "status": "completed"
    },
    "tags": []
   },
   "outputs": [],
   "source": [
    "!mkdir -p checkpoints\n",
    "!cp vallex-checkpoint.pt checkpoints/vallex-checkpoint_modified.pt\n",
    "!mv vallex-checkpoint.pt checkpoints/vallex-checkpoint.pt"
   ]
  },
  {
   "cell_type": "code",
   "execution_count": 9,
   "id": "a110952f",
   "metadata": {
    "execution": {
     "iopub.execute_input": "2024-10-18T11:50:04.893717Z",
     "iopub.status.busy": "2024-10-18T11:50:04.893349Z",
     "iopub.status.idle": "2024-10-18T11:50:04.897543Z",
     "shell.execute_reply": "2024-10-18T11:50:04.896741Z"
    },
    "papermill": {
     "duration": 0.02051,
     "end_time": "2024-10-18T11:50:04.899480",
     "exception": false,
     "start_time": "2024-10-18T11:50:04.878970",
     "status": "completed"
    },
    "tags": []
   },
   "outputs": [],
   "source": [
    "# !python -X utf8 launch-ui.py\n",
    "# --keep-last-k 2 \\"
   ]
  },
  {
   "cell_type": "code",
   "execution_count": 10,
   "id": "e5244bba",
   "metadata": {
    "execution": {
     "iopub.execute_input": "2024-10-18T11:50:04.925704Z",
     "iopub.status.busy": "2024-10-18T11:50:04.925397Z",
     "iopub.status.idle": "2024-10-18T13:49:31.548142Z",
     "shell.execute_reply": "2024-10-18T13:49:31.546830Z"
    },
    "papermill": {
     "duration": 7166.640325,
     "end_time": "2024-10-18T13:49:31.552320",
     "exception": false,
     "start_time": "2024-10-18T11:50:04.911995",
     "status": "completed"
    },
    "tags": []
   },
   "outputs": [
    {
     "name": "stdout",
     "output_type": "stream",
     "text": [
      "Operating System: Linux\r\n",
      "Downloading: \"https://dl.fbaipublicfiles.com/encodec/v0/encodec_24khz-d7cc33bc.th\" to /root/.cache/torch/hub/checkpoints/encodec_24khz-d7cc33bc.th\r\n",
      "100%|███████████████████████████████████████| 88.9M/88.9M [00:00<00:00, 179MB/s]\r\n",
      "2024-10-18 11:50:35,401 INFO [train.py:861] Training started\r\n",
      "2024-10-18 11:50:35,402 INFO [train.py:880] Device: cuda:0\r\n",
      "2024-10-18 11:50:35,403 INFO [train.py:881] {'best_train_loss': inf, 'best_valid_loss': inf, 'best_train_epoch': -1, 'best_valid_epoch': -1, 'batch_idx_train': 0, 'log_interval': 100, 'reset_interval': 200, 'valid_interval': 10000, 'world_size': 1, 'master_port': 12354, 'tensorboard': True, 'num_epochs': 100, 'start_epoch': 1, 'start_batch': 0, 'exp_dir': PosixPath('exp/valle_dev'), 'optimizer_name': 'ScaledAdam', 'scheduler_name': 'Eden', 'base_lr': 0.005, 'warmup_steps': 200, 'seed': 42, 'inf_check': False, 'save_every_n': 10, 'keep_last_k': 2, 'average_period': 0, 'accumulate_grad_steps': 1, 'dtype': 'bfloat16', 'filter_min_duration': 0.0, 'filter_max_duration': 20.0, 'train_stage': 0, 'visualize': True, 'oom_check': True, 'train_dir': '/kaggle/input/vivos-vietnamese-speech-dataset-ljspeech-format/vivos/train', 'valid_dir': '/kaggle/input/vivos-vietnamese-speech-dataset-ljspeech-format/vivos/test', 'checkpoint_path': None, 'model_name': 'VALL-E', 'decoder_dim': 1024, 'nhead': 16, 'num_decoder_layers': 12, 'scale_factor': 1.0, 'norm_first': True, 'add_prenet': False, 'prefix_mode': 0, 'share_embedding': True, 'prepend_bos': False, 'num_quantizers': 8, 'scaling_xformers': False}\r\n",
      "2024-10-18 11:50:35,403 INFO [train.py:883] About to create model\r\n",
      "config.yaml: 100%|█████████████████████████████| 503/503 [00:00<00:00, 3.24MB/s]\r\n",
      "pytorch_model.bin: 100%|████████████████████| 40.4M/40.4M [00:00<00:00, 174MB/s]\r\n",
      "2024-10-18 11:50:39,524 INFO [train.py:887] Number of model parameters: 370539524\r\n",
      "2024-10-18 11:50:51,676 INFO [utils.py:237] Saving checkpoint to exp/valle_dev/checkpoint-10.pt\r\n",
      "2024-10-18 11:51:09,403 INFO [utils.py:237] Saving checkpoint to exp/valle_dev/checkpoint-20.pt\r\n",
      "2024-10-18 11:51:27,320 INFO [utils.py:237] Saving checkpoint to exp/valle_dev/checkpoint-30.pt\r\n",
      "2024-10-18 11:51:45,896 INFO [utils.py:237] Saving checkpoint to exp/valle_dev/checkpoint-40.pt\r\n",
      "2024-10-18 11:52:08,375 INFO [utils.py:237] Saving checkpoint to exp/valle_dev/checkpoint-50.pt\r\n",
      "2024-10-18 11:52:33,732 INFO [utils.py:237] Saving checkpoint to exp/valle_dev/checkpoint-60.pt\r\n",
      "2024-10-18 11:52:52,032 INFO [utils.py:237] Saving checkpoint to exp/valle_dev/checkpoint-70.pt\r\n",
      "2024-10-18 11:53:10,370 INFO [utils.py:237] Saving checkpoint to exp/valle_dev/checkpoint-80.pt\r\n",
      "2024-10-18 11:53:28,424 INFO [utils.py:237] Saving checkpoint to exp/valle_dev/checkpoint-90.pt\r\n",
      "2024-10-18 11:53:56,977 INFO [utils.py:237] Saving checkpoint to exp/valle_dev/checkpoint-100.pt\r\n",
      "2024-10-18 11:54:06,210 INFO [train.py:774] Epoch 1, batch 100, train_loss[loss=3.156, ArTop10Accuracy=0.7427, NarTop10Accuracy=0.6508, over 991.00 frames. ], tot_loss[loss=3.339, ArTop10Accuracy=0.7312, NarTop10Accuracy=0.5875, over 444.10 frames. ], batch size: 4, lr: 3.75e-03\r\n",
      "2024-10-18 11:54:15,313 INFO [utils.py:237] Saving checkpoint to exp/valle_dev/checkpoint-110.pt\r\n",
      "2024-10-18 11:54:43,755 INFO [utils.py:237] Saving checkpoint to exp/valle_dev/checkpoint-120.pt\r\n",
      "2024-10-18 11:55:02,218 INFO [utils.py:237] Saving checkpoint to exp/valle_dev/checkpoint-130.pt\r\n",
      "2024-10-18 11:55:20,752 INFO [utils.py:237] Saving checkpoint to exp/valle_dev/checkpoint-140.pt\r\n",
      "2024-10-18 11:55:39,342 INFO [utils.py:237] Saving checkpoint to exp/valle_dev/checkpoint-150.pt\r\n",
      "2024-10-18 11:55:58,052 INFO [utils.py:237] Saving checkpoint to exp/valle_dev/checkpoint-160.pt\r\n",
      "2024-10-18 11:56:18,573 INFO [utils.py:237] Saving checkpoint to exp/valle_dev/checkpoint-170.pt\r\n",
      "2024-10-18 11:56:36,762 INFO [utils.py:237] Saving checkpoint to exp/valle_dev/checkpoint-180.pt\r\n",
      "2024-10-18 11:56:55,045 INFO [utils.py:237] Saving checkpoint to exp/valle_dev/checkpoint-190.pt\r\n",
      "2024-10-18 11:57:17,998 INFO [utils.py:237] Saving checkpoint to exp/valle_dev/checkpoint-200.pt\r\n",
      "2024-10-18 11:57:26,861 INFO [train.py:774] Epoch 1, batch 200, train_loss[loss=3.178, ArTop10Accuracy=0.7536, NarTop10Accuracy=0.5949, over 1319.00 frames. ], tot_loss[loss=3.276, ArTop10Accuracy=0.7475, NarTop10Accuracy=0.5947, over 720.18 frames. ], batch size: 5, lr: 5.00e-03\r\n",
      "2024-10-18 11:57:35,984 INFO [utils.py:237] Saving checkpoint to exp/valle_dev/checkpoint-210.pt\r\n",
      "2024-10-18 11:57:57,868 INFO [utils.py:237] Saving checkpoint to exp/valle_dev/checkpoint-220.pt\r\n",
      "2024-10-18 11:58:25,855 INFO [utils.py:237] Saving checkpoint to exp/valle_dev/checkpoint-230.pt\r\n",
      "2024-10-18 11:58:44,087 INFO [utils.py:237] Saving checkpoint to exp/valle_dev/checkpoint-240.pt\r\n",
      "2024-10-18 11:59:02,328 INFO [utils.py:237] Saving checkpoint to exp/valle_dev/checkpoint-250.pt\r\n",
      "2024-10-18 11:59:24,312 INFO [utils.py:237] Saving checkpoint to exp/valle_dev/checkpoint-260.pt\r\n",
      "2024-10-18 11:59:42,035 INFO [utils.py:237] Saving checkpoint to exp/valle_dev/checkpoint-270.pt\r\n",
      "2024-10-18 12:00:02,784 INFO [utils.py:237] Saving checkpoint to exp/valle_dev/checkpoint-280.pt\r\n",
      "2024-10-18 12:00:21,521 INFO [utils.py:237] Saving checkpoint to exp/valle_dev/checkpoint-290.pt\r\n",
      "2024-10-18 12:00:39,680 INFO [utils.py:237] Saving checkpoint to exp/valle_dev/checkpoint-300.pt\r\n",
      "2024-10-18 12:00:51,542 INFO [train.py:774] Epoch 1, batch 300, train_loss[loss=3.129, ArTop10Accuracy=0.8019, NarTop10Accuracy=0.6124, over 1141.00 frames. ], tot_loss[loss=3.284, ArTop10Accuracy=0.7595, NarTop10Accuracy=0.5824, over 899.16 frames. ], batch size: 3, lr: 5.00e-03\r\n",
      "2024-10-18 12:01:10,918 INFO [utils.py:237] Saving checkpoint to exp/valle_dev/checkpoint-310.pt\r\n",
      "2024-10-18 12:01:29,341 INFO [utils.py:237] Saving checkpoint to exp/valle_dev/checkpoint-320.pt\r\n",
      "2024-10-18 12:01:47,348 INFO [utils.py:237] Saving checkpoint to exp/valle_dev/checkpoint-330.pt\r\n",
      "2024-10-18 12:02:08,142 INFO [utils.py:237] Saving checkpoint to exp/valle_dev/checkpoint-340.pt\r\n",
      "2024-10-18 12:02:30,763 INFO [utils.py:237] Saving checkpoint to exp/valle_dev/checkpoint-350.pt\r\n",
      "2024-10-18 12:02:51,610 INFO [utils.py:237] Saving checkpoint to exp/valle_dev/checkpoint-360.pt\r\n",
      "2024-10-18 12:03:12,278 INFO [utils.py:237] Saving checkpoint to exp/valle_dev/checkpoint-370.pt\r\n",
      "2024-10-18 12:03:31,046 INFO [utils.py:237] Saving checkpoint to exp/valle_dev/checkpoint-380.pt\r\n",
      "2024-10-18 12:03:49,715 INFO [utils.py:237] Saving checkpoint to exp/valle_dev/checkpoint-390.pt\r\n",
      "2024-10-18 12:04:10,058 INFO [utils.py:237] Saving checkpoint to exp/valle_dev/checkpoint-400.pt\r\n",
      "2024-10-18 12:04:23,527 INFO [train.py:774] Epoch 1, batch 400, train_loss[loss=3.847, ArTop10Accuracy=0.7003, NarTop10Accuracy=0.4367, over 1161.00 frames. ], tot_loss[loss=3.301, ArTop10Accuracy=0.7644, NarTop10Accuracy=0.5705, over 1001.79 frames. ], batch size: 2, lr: 4.99e-03\r\n",
      "2024-10-18 12:04:33,233 INFO [utils.py:237] Saving checkpoint to exp/valle_dev/checkpoint-410.pt\r\n",
      "2024-10-18 12:04:50,999 INFO [utils.py:237] Saving checkpoint to exp/valle_dev/checkpoint-420.pt\r\n",
      "2024-10-18 12:05:09,454 INFO [utils.py:237] Saving checkpoint to exp/valle_dev/checkpoint-430.pt\r\n",
      "2024-10-18 12:05:31,430 INFO [utils.py:237] Saving checkpoint to exp/valle_dev/checkpoint-440.pt\r\n",
      "2024-10-18 12:05:52,910 INFO [utils.py:237] Saving checkpoint to exp/valle_dev/checkpoint-450.pt\r\n",
      "2024-10-18 12:06:15,441 INFO [utils.py:237] Saving checkpoint to exp/valle_dev/checkpoint-460.pt\r\n",
      "2024-10-18 12:06:33,508 INFO [utils.py:237] Saving checkpoint to exp/valle_dev/checkpoint-470.pt\r\n",
      "2024-10-18 12:06:55,605 INFO [utils.py:237] Saving checkpoint to exp/valle_dev/checkpoint-480.pt\r\n",
      "2024-10-18 12:07:17,199 INFO [utils.py:237] Saving checkpoint to exp/valle_dev/checkpoint-490.pt\r\n",
      "2024-10-18 12:07:42,724 INFO [utils.py:237] Saving checkpoint to exp/valle_dev/checkpoint-500.pt\r\n",
      "2024-10-18 12:07:52,702 INFO [train.py:774] Epoch 1, batch 500, train_loss[loss=2.661, ArTop10Accuracy=0.8497, NarTop10Accuracy=0.6367, over 858.00 frames. ], tot_loss[loss=3.297, ArTop10Accuracy=0.7702, NarTop10Accuracy=0.5653, over 1055.81 frames. ], batch size: 1, lr: 4.99e-03\r\n",
      "2024-10-18 12:08:01,968 INFO [utils.py:237] Saving checkpoint to exp/valle_dev/checkpoint-510.pt\r\n",
      "2024-10-18 12:08:32,336 INFO [utils.py:237] Saving checkpoint to exp/valle_dev/checkpoint-520.pt\r\n",
      "2024-10-18 12:08:51,493 INFO [utils.py:237] Saving checkpoint to exp/valle_dev/checkpoint-530.pt\r\n",
      "2024-10-18 12:09:10,769 INFO [utils.py:237] Saving checkpoint to exp/valle_dev/checkpoint-540.pt\r\n",
      "2024-10-18 12:09:29,322 INFO [utils.py:237] Saving checkpoint to exp/valle_dev/checkpoint-550.pt\r\n",
      "2024-10-18 12:09:47,394 INFO [utils.py:237] Saving checkpoint to exp/valle_dev/checkpoint-560.pt\r\n",
      "2024-10-18 12:10:05,328 INFO [utils.py:237] Saving checkpoint to exp/valle_dev/checkpoint-570.pt\r\n",
      "2024-10-18 12:10:23,755 INFO [utils.py:237] Saving checkpoint to exp/valle_dev/checkpoint-580.pt\r\n",
      "2024-10-18 12:10:45,250 INFO [utils.py:237] Saving checkpoint to exp/valle_dev/checkpoint-590.pt\r\n",
      "2024-10-18 12:11:05,189 INFO [utils.py:237] Saving checkpoint to exp/valle_dev/checkpoint-600.pt\r\n",
      "2024-10-18 12:11:17,042 INFO [train.py:774] Epoch 1, batch 600, train_loss[loss=3.634, ArTop10Accuracy=0.7451, NarTop10Accuracy=0.4745, over 1334.00 frames. ], tot_loss[loss=3.297, ArTop10Accuracy=0.773, NarTop10Accuracy=0.5634, over 1088.47 frames. ], batch size: 5, lr: 4.98e-03\r\n",
      "2024-10-18 12:11:25,469 INFO [utils.py:237] Saving checkpoint to exp/valle_dev/checkpoint-610.pt\r\n",
      "2024-10-18 12:11:44,686 INFO [utils.py:237] Saving checkpoint to exp/valle_dev/checkpoint-620.pt\r\n",
      "2024-10-18 12:12:13,647 INFO [utils.py:237] Saving checkpoint to exp/valle_dev/checkpoint-630.pt\r\n",
      "2024-10-18 12:12:32,573 INFO [utils.py:237] Saving checkpoint to exp/valle_dev/checkpoint-640.pt\r\n",
      "2024-10-18 12:12:51,311 INFO [utils.py:237] Saving checkpoint to exp/valle_dev/checkpoint-650.pt\r\n",
      "2024-10-18 12:13:09,299 INFO [utils.py:237] Saving checkpoint to exp/valle_dev/checkpoint-660.pt\r\n",
      "2024-10-18 12:13:27,208 INFO [utils.py:237] Saving checkpoint to exp/valle_dev/checkpoint-670.pt\r\n",
      "2024-10-18 12:13:48,102 INFO [utils.py:237] Saving checkpoint to exp/valle_dev/checkpoint-680.pt\r\n",
      "2024-10-18 12:14:06,664 INFO [utils.py:237] Saving checkpoint to exp/valle_dev/checkpoint-690.pt\r\n",
      "2024-10-18 12:14:38,245 INFO [utils.py:237] Saving checkpoint to exp/valle_dev/checkpoint-700.pt\r\n",
      "2024-10-18 12:14:47,729 INFO [train.py:774] Epoch 1, batch 700, train_loss[loss=3.533, ArTop10Accuracy=0.7197, NarTop10Accuracy=0.534, over 1295.00 frames. ], tot_loss[loss=3.283, ArTop10Accuracy=0.7767, NarTop10Accuracy=0.5662, over 1116.67 frames. ], batch size: 3, lr: 4.98e-03\r\n",
      "2024-10-18 12:14:56,907 INFO [utils.py:237] Saving checkpoint to exp/valle_dev/checkpoint-710.pt\r\n",
      "2024-10-18 12:15:14,678 INFO [utils.py:237] Saving checkpoint to exp/valle_dev/checkpoint-720.pt\r\n",
      "2024-10-18 12:15:34,418 INFO [utils.py:237] Saving checkpoint to exp/valle_dev/checkpoint-730.pt\r\n",
      "2024-10-18 12:16:04,540 INFO [utils.py:237] Saving checkpoint to exp/valle_dev/checkpoint-740.pt\r\n",
      "2024-10-18 12:16:24,713 INFO [utils.py:237] Saving checkpoint to exp/valle_dev/checkpoint-750.pt\r\n",
      "2024-10-18 12:16:56,082 INFO [utils.py:237] Saving checkpoint to exp/valle_dev/checkpoint-760.pt\r\n",
      "2024-10-18 12:17:14,990 INFO [utils.py:237] Saving checkpoint to exp/valle_dev/checkpoint-770.pt\r\n",
      "2024-10-18 12:17:34,199 INFO [utils.py:237] Saving checkpoint to exp/valle_dev/checkpoint-780.pt\r\n",
      "2024-10-18 12:17:53,479 INFO [utils.py:237] Saving checkpoint to exp/valle_dev/checkpoint-790.pt\r\n",
      "2024-10-18 12:18:11,992 INFO [utils.py:237] Saving checkpoint to exp/valle_dev/checkpoint-800.pt\r\n",
      "2024-10-18 12:18:21,072 INFO [train.py:774] Epoch 1, batch 800, train_loss[loss=3.517, ArTop10Accuracy=0.7732, NarTop10Accuracy=0.4902, over 1054.00 frames. ], tot_loss[loss=3.275, ArTop10Accuracy=0.7812, NarTop10Accuracy=0.565, over 1138.05 frames. ], batch size: 4, lr: 4.97e-03\r\n",
      "2024-10-18 12:18:30,704 INFO [utils.py:237] Saving checkpoint to exp/valle_dev/checkpoint-810.pt\r\n",
      "2024-10-18 12:18:48,903 INFO [utils.py:237] Saving checkpoint to exp/valle_dev/checkpoint-820.pt\r\n",
      "2024-10-18 12:19:06,523 INFO [utils.py:237] Saving checkpoint to exp/valle_dev/checkpoint-830.pt\r\n",
      "2024-10-18 12:19:26,557 INFO [utils.py:237] Saving checkpoint to exp/valle_dev/checkpoint-840.pt\r\n",
      "2024-10-18 12:19:45,502 INFO [utils.py:237] Saving checkpoint to exp/valle_dev/checkpoint-850.pt\r\n",
      "2024-10-18 12:20:04,069 INFO [utils.py:237] Saving checkpoint to exp/valle_dev/checkpoint-860.pt\r\n",
      "2024-10-18 12:20:22,036 INFO [utils.py:237] Saving checkpoint to exp/valle_dev/checkpoint-870.pt\r\n",
      "2024-10-18 12:20:54,976 INFO [utils.py:237] Saving checkpoint to exp/valle_dev/checkpoint-880.pt\r\n",
      "2024-10-18 12:21:13,593 INFO [utils.py:237] Saving checkpoint to exp/valle_dev/checkpoint-890.pt\r\n",
      "2024-10-18 12:21:32,563 INFO [utils.py:237] Saving checkpoint to exp/valle_dev/checkpoint-900.pt\r\n",
      "2024-10-18 12:21:41,335 INFO [train.py:774] Epoch 1, batch 900, train_loss[loss=3.443, ArTop10Accuracy=0.7763, NarTop10Accuracy=0.5095, over 1323.00 frames. ], tot_loss[loss=3.282, ArTop10Accuracy=0.7819, NarTop10Accuracy=0.5621, over 1136.99 frames. ], batch size: 6, lr: 4.96e-03\r\n",
      "2024-10-18 12:21:51,764 INFO [utils.py:237] Saving checkpoint to exp/valle_dev/checkpoint-910.pt\r\n",
      "2024-10-18 12:22:22,454 INFO [utils.py:237] Saving checkpoint to exp/valle_dev/checkpoint-920.pt\r\n",
      "2024-10-18 12:22:40,903 INFO [utils.py:237] Saving checkpoint to exp/valle_dev/checkpoint-930.pt\r\n",
      "2024-10-18 12:22:59,821 INFO [utils.py:237] Saving checkpoint to exp/valle_dev/checkpoint-940.pt\r\n",
      "2024-10-18 12:23:19,585 INFO [utils.py:237] Saving checkpoint to exp/valle_dev/checkpoint-950.pt\r\n",
      "2024-10-18 12:23:38,571 INFO [utils.py:237] Saving checkpoint to exp/valle_dev/checkpoint-960.pt\r\n",
      "2024-10-18 12:23:59,206 INFO [utils.py:237] Saving checkpoint to exp/valle_dev/checkpoint-970.pt\r\n",
      "2024-10-18 12:24:19,152 INFO [utils.py:237] Saving checkpoint to exp/valle_dev/checkpoint-980.pt\r\n",
      "2024-10-18 12:24:37,915 INFO [utils.py:237] Saving checkpoint to exp/valle_dev/checkpoint-990.pt\r\n",
      "2024-10-18 12:24:57,044 INFO [utils.py:237] Saving checkpoint to exp/valle_dev/checkpoint-1000.pt\r\n",
      "2024-10-18 12:25:06,750 INFO [train.py:774] Epoch 1, batch 1000, train_loss[loss=3.65, ArTop10Accuracy=0.7215, NarTop10Accuracy=0.5005, over 1185.00 frames. ], tot_loss[loss=3.298, ArTop10Accuracy=0.7809, NarTop10Accuracy=0.5582, over 1152.85 frames. ], batch size: 5, lr: 4.95e-03\r\n",
      "2024-10-18 12:25:08,028 INFO [utils.py:877] Clipping_scale=2.0, grad-norm quartiles 3.245e+01 5.003e+01 5.612e+01 6.476e+01 1.276e+02, threshold=1.122e+02, percent-clipped=0.0\r\n",
      "2024-10-18 12:25:28,894 INFO [utils.py:237] Saving checkpoint to exp/valle_dev/checkpoint-1010.pt\r\n",
      "2024-10-18 12:25:48,507 INFO [utils.py:237] Saving checkpoint to exp/valle_dev/checkpoint-1020.pt\r\n",
      "2024-10-18 12:26:07,339 INFO [utils.py:237] Saving checkpoint to exp/valle_dev/checkpoint-1030.pt\r\n",
      "2024-10-18 12:26:25,959 INFO [utils.py:237] Saving checkpoint to exp/valle_dev/checkpoint-1040.pt\r\n",
      "2024-10-18 12:26:55,262 INFO [utils.py:237] Saving checkpoint to exp/valle_dev/checkpoint-1050.pt\r\n",
      "2024-10-18 12:27:14,875 INFO [utils.py:237] Saving checkpoint to exp/valle_dev/checkpoint-1060.pt\r\n",
      "2024-10-18 12:27:33,949 INFO [utils.py:237] Saving checkpoint to exp/valle_dev/checkpoint-1070.pt\r\n",
      "2024-10-18 12:27:57,193 INFO [utils.py:237] Saving checkpoint to exp/valle_dev/checkpoint-1080.pt\r\n",
      "2024-10-18 12:28:19,973 INFO [utils.py:237] Saving checkpoint to exp/valle_dev/checkpoint-1090.pt\r\n",
      "2024-10-18 12:28:37,820 INFO [utils.py:237] Saving checkpoint to exp/valle_dev/checkpoint-1100.pt\r\n",
      "2024-10-18 12:28:50,034 INFO [train.py:774] Epoch 1, batch 1100, train_loss[loss=3.756, ArTop10Accuracy=0.7481, NarTop10Accuracy=0.4023, over 1199.00 frames. ], tot_loss[loss=3.299, ArTop10Accuracy=0.7824, NarTop10Accuracy=0.5568, over 1162.96 frames. ], batch size: 3, lr: 4.94e-03\r\n",
      "2024-10-18 12:29:00,331 INFO [utils.py:237] Saving checkpoint to exp/valle_dev/checkpoint-1110.pt\r\n",
      "2024-10-18 12:29:24,861 INFO [utils.py:237] Saving checkpoint to exp/valle_dev/checkpoint-1120.pt\r\n",
      "2024-10-18 12:29:43,679 INFO [utils.py:237] Saving checkpoint to exp/valle_dev/checkpoint-1130.pt\r\n",
      "2024-10-18 12:30:12,036 INFO [utils.py:237] Saving checkpoint to exp/valle_dev/checkpoint-1140.pt\r\n",
      "2024-10-18 12:30:30,831 INFO [utils.py:237] Saving checkpoint to exp/valle_dev/checkpoint-1150.pt\r\n",
      "2024-10-18 12:30:49,142 INFO [utils.py:237] Saving checkpoint to exp/valle_dev/checkpoint-1160.pt\r\n",
      "2024-10-18 12:31:11,528 INFO [utils.py:237] Saving checkpoint to exp/valle_dev/checkpoint-1170.pt\r\n",
      "2024-10-18 12:31:33,167 INFO [utils.py:237] Saving checkpoint to exp/valle_dev/checkpoint-1180.pt\r\n",
      "2024-10-18 12:31:55,606 INFO [utils.py:237] Saving checkpoint to exp/valle_dev/checkpoint-1190.pt\r\n",
      "2024-10-18 12:32:18,897 INFO [utils.py:237] Saving checkpoint to exp/valle_dev/checkpoint-1200.pt\r\n",
      "2024-10-18 12:32:28,516 INFO [train.py:774] Epoch 1, batch 1200, train_loss[loss=3.386, ArTop10Accuracy=0.7247, NarTop10Accuracy=0.6049, over 1246.00 frames. ], tot_loss[loss=3.286, ArTop10Accuracy=0.7832, NarTop10Accuracy=0.5599, over 1157.58 frames. ], batch size: 3, lr: 4.93e-03\r\n",
      "2024-10-18 12:32:37,427 INFO [utils.py:237] Saving checkpoint to exp/valle_dev/checkpoint-1210.pt\r\n",
      "2024-10-18 12:32:56,564 INFO [utils.py:237] Saving checkpoint to exp/valle_dev/checkpoint-1220.pt\r\n",
      "2024-10-18 12:33:16,694 INFO [utils.py:237] Saving checkpoint to exp/valle_dev/checkpoint-1230.pt\r\n",
      "2024-10-18 12:33:46,781 INFO [utils.py:237] Saving checkpoint to exp/valle_dev/checkpoint-1240.pt\r\n",
      "2024-10-18 12:34:05,399 INFO [utils.py:237] Saving checkpoint to exp/valle_dev/checkpoint-1250.pt\r\n",
      "2024-10-18 12:34:32,676 INFO [utils.py:237] Saving checkpoint to exp/valle_dev/checkpoint-1260.pt\r\n",
      "2024-10-18 12:34:51,303 INFO [utils.py:237] Saving checkpoint to exp/valle_dev/checkpoint-1270.pt\r\n",
      "2024-10-18 12:35:09,644 INFO [utils.py:237] Saving checkpoint to exp/valle_dev/checkpoint-1280.pt\r\n",
      "2024-10-18 12:35:28,364 INFO [utils.py:237] Saving checkpoint to exp/valle_dev/checkpoint-1290.pt\r\n",
      "2024-10-18 12:35:49,446 INFO [utils.py:237] Saving checkpoint to exp/valle_dev/checkpoint-1300.pt\r\n",
      "2024-10-18 12:35:58,720 INFO [train.py:774] Epoch 1, batch 1300, train_loss[loss=2.983, ArTop10Accuracy=0.8195, NarTop10Accuracy=0.6625, over 1202.00 frames. ], tot_loss[loss=3.287, ArTop10Accuracy=0.7828, NarTop10Accuracy=0.5606, over 1161.95 frames. ], batch size: 5, lr: 4.92e-03\r\n",
      "2024-10-18 12:36:08,326 INFO [utils.py:237] Saving checkpoint to exp/valle_dev/checkpoint-1310.pt\r\n",
      "2024-10-18 12:36:34,656 INFO [utils.py:237] Saving checkpoint to exp/valle_dev/checkpoint-1320.pt\r\n",
      "2024-10-18 12:36:53,403 INFO [utils.py:237] Saving checkpoint to exp/valle_dev/checkpoint-1330.pt\r\n",
      "2024-10-18 12:37:12,072 INFO [utils.py:237] Saving checkpoint to exp/valle_dev/checkpoint-1340.pt\r\n",
      "2024-10-18 12:37:30,308 INFO [utils.py:237] Saving checkpoint to exp/valle_dev/checkpoint-1350.pt\r\n",
      "2024-10-18 12:38:06,730 INFO [utils.py:237] Saving checkpoint to exp/valle_dev/checkpoint-1360.pt\r\n",
      "2024-10-18 12:38:25,110 INFO [utils.py:237] Saving checkpoint to exp/valle_dev/checkpoint-1370.pt\r\n",
      "2024-10-18 12:38:44,039 INFO [utils.py:237] Saving checkpoint to exp/valle_dev/checkpoint-1380.pt\r\n",
      "2024-10-18 12:39:02,893 INFO [utils.py:237] Saving checkpoint to exp/valle_dev/checkpoint-1390.pt\r\n",
      "2024-10-18 12:39:20,715 INFO [utils.py:237] Saving checkpoint to exp/valle_dev/checkpoint-1400.pt\r\n",
      "2024-10-18 12:39:29,924 INFO [train.py:774] Epoch 1, batch 1400, train_loss[loss=3.524, ArTop10Accuracy=0.741, NarTop10Accuracy=0.5082, over 1112.00 frames. ], tot_loss[loss=3.287, ArTop10Accuracy=0.7829, NarTop10Accuracy=0.5594, over 1152.10 frames. ], batch size: 4, lr: 4.91e-03\r\n",
      "2024-10-18 12:39:38,786 INFO [utils.py:237] Saving checkpoint to exp/valle_dev/checkpoint-1410.pt\r\n",
      "2024-10-18 12:39:57,127 INFO [utils.py:237] Saving checkpoint to exp/valle_dev/checkpoint-1420.pt\r\n",
      "2024-10-18 12:40:18,678 INFO [utils.py:237] Saving checkpoint to exp/valle_dev/checkpoint-1430.pt\r\n",
      "2024-10-18 12:40:41,099 INFO [utils.py:237] Saving checkpoint to exp/valle_dev/checkpoint-1440.pt\r\n",
      "2024-10-18 12:40:59,509 INFO [utils.py:237] Saving checkpoint to exp/valle_dev/checkpoint-1450.pt\r\n",
      "2024-10-18 12:41:24,433 INFO [utils.py:237] Saving checkpoint to exp/valle_dev/checkpoint-1460.pt\r\n",
      "2024-10-18 12:41:43,381 INFO [utils.py:237] Saving checkpoint to exp/valle_dev/checkpoint-1470.pt\r\n",
      "2024-10-18 12:42:02,083 INFO [utils.py:237] Saving checkpoint to exp/valle_dev/checkpoint-1480.pt\r\n",
      "2024-10-18 12:42:21,170 INFO [utils.py:237] Saving checkpoint to exp/valle_dev/checkpoint-1490.pt\r\n",
      "2024-10-18 12:42:39,813 INFO [utils.py:237] Saving checkpoint to exp/valle_dev/checkpoint-1500.pt\r\n",
      "2024-10-18 12:42:49,093 INFO [train.py:774] Epoch 1, batch 1500, train_loss[loss=2.999, ArTop10Accuracy=0.8037, NarTop10Accuracy=0.6299, over 1228.00 frames. ], tot_loss[loss=3.272, ArTop10Accuracy=0.7865, NarTop10Accuracy=0.5621, over 1148.42 frames. ], batch size: 5, lr: 4.89e-03\r\n",
      "2024-10-18 12:42:58,447 INFO [utils.py:237] Saving checkpoint to exp/valle_dev/checkpoint-1510.pt\r\n",
      "2024-10-18 12:43:17,270 INFO [utils.py:237] Saving checkpoint to exp/valle_dev/checkpoint-1520.pt\r\n",
      "2024-10-18 12:43:35,191 INFO [utils.py:237] Saving checkpoint to exp/valle_dev/checkpoint-1530.pt\r\n",
      "2024-10-18 12:43:54,065 INFO [utils.py:237] Saving checkpoint to exp/valle_dev/checkpoint-1540.pt\r\n",
      "2024-10-18 12:44:12,620 INFO [utils.py:237] Saving checkpoint to exp/valle_dev/checkpoint-1550.pt\r\n",
      "2024-10-18 12:44:31,212 INFO [utils.py:237] Saving checkpoint to exp/valle_dev/checkpoint-1560.pt\r\n",
      "2024-10-18 12:44:49,152 INFO [utils.py:237] Saving checkpoint to exp/valle_dev/checkpoint-1570.pt\r\n",
      "2024-10-18 12:45:09,646 INFO [utils.py:237] Saving checkpoint to exp/valle_dev/checkpoint-1580.pt\r\n",
      "2024-10-18 12:45:31,699 INFO [utils.py:237] Saving checkpoint to exp/valle_dev/checkpoint-1590.pt\r\n",
      "2024-10-18 12:45:54,783 INFO [utils.py:237] Saving checkpoint to exp/valle_dev/checkpoint-1600.pt\r\n",
      "2024-10-18 12:46:07,955 INFO [train.py:774] Epoch 1, batch 1600, train_loss[loss=3.369, ArTop10Accuracy=0.8038, NarTop10Accuracy=0.5128, over 1417.00 frames. ], tot_loss[loss=3.277, ArTop10Accuracy=0.7859, NarTop10Accuracy=0.5609, over 1148.74 frames. ], batch size: 4, lr: 4.88e-03\r\n",
      "2024-10-18 12:46:18,034 INFO [utils.py:237] Saving checkpoint to exp/valle_dev/checkpoint-1610.pt\r\n",
      "2024-10-18 12:46:37,391 INFO [utils.py:237] Saving checkpoint to exp/valle_dev/checkpoint-1620.pt\r\n",
      "2024-10-18 12:46:55,874 INFO [utils.py:237] Saving checkpoint to exp/valle_dev/checkpoint-1630.pt\r\n",
      "2024-10-18 12:47:14,534 INFO [utils.py:237] Saving checkpoint to exp/valle_dev/checkpoint-1640.pt\r\n",
      "2024-10-18 12:47:34,239 INFO [utils.py:237] Saving checkpoint to exp/valle_dev/checkpoint-1650.pt\r\n",
      "2024-10-18 12:47:58,533 INFO [utils.py:237] Saving checkpoint to exp/valle_dev/checkpoint-1660.pt\r\n",
      "2024-10-18 12:48:17,331 INFO [utils.py:237] Saving checkpoint to exp/valle_dev/checkpoint-1670.pt\r\n",
      "2024-10-18 12:48:35,091 INFO [utils.py:237] Saving checkpoint to exp/valle_dev/checkpoint-1680.pt\r\n",
      "2024-10-18 12:48:53,177 INFO [utils.py:237] Saving checkpoint to exp/valle_dev/checkpoint-1690.pt\r\n",
      "2024-10-18 12:49:12,166 INFO [utils.py:237] Saving checkpoint to exp/valle_dev/checkpoint-1700.pt\r\n",
      "2024-10-18 12:49:21,346 INFO [train.py:774] Epoch 1, batch 1700, train_loss[loss=3.178, ArTop10Accuracy=0.7873, NarTop10Accuracy=0.6002, over 1072.00 frames. ], tot_loss[loss=3.275, ArTop10Accuracy=0.7868, NarTop10Accuracy=0.56, over 1150.36 frames. ], batch size: 2, lr: 4.87e-03\r\n",
      "2024-10-18 12:49:30,173 INFO [utils.py:237] Saving checkpoint to exp/valle_dev/checkpoint-1710.pt\r\n",
      "2024-10-18 12:49:47,957 INFO [utils.py:237] Saving checkpoint to exp/valle_dev/checkpoint-1720.pt\r\n",
      "2024-10-18 12:50:05,787 INFO [utils.py:237] Saving checkpoint to exp/valle_dev/checkpoint-1730.pt\r\n",
      "2024-10-18 12:50:24,988 INFO [utils.py:237] Saving checkpoint to exp/valle_dev/checkpoint-1740.pt\r\n",
      "2024-10-18 12:50:42,569 INFO [utils.py:237] Saving checkpoint to exp/valle_dev/checkpoint-1750.pt\r\n",
      "2024-10-18 12:51:01,572 INFO [utils.py:237] Saving checkpoint to exp/valle_dev/checkpoint-1760.pt\r\n",
      "2024-10-18 12:51:20,385 INFO [utils.py:237] Saving checkpoint to exp/valle_dev/checkpoint-1770.pt\r\n",
      "2024-10-18 12:51:38,385 INFO [utils.py:237] Saving checkpoint to exp/valle_dev/checkpoint-1780.pt\r\n",
      "2024-10-18 12:51:56,183 INFO [utils.py:237] Saving checkpoint to exp/valle_dev/checkpoint-1790.pt\r\n",
      "2024-10-18 12:52:22,902 INFO [utils.py:237] Saving checkpoint to exp/valle_dev/checkpoint-1800.pt\r\n",
      "2024-10-18 12:52:32,110 INFO [train.py:774] Epoch 1, batch 1800, train_loss[loss=3.588, ArTop10Accuracy=0.7692, NarTop10Accuracy=0.4603, over 1252.00 frames. ], tot_loss[loss=3.256, ArTop10Accuracy=0.7894, NarTop10Accuracy=0.5633, over 1140.03 frames. ], batch size: 3, lr: 4.85e-03\r\n",
      "2024-10-18 12:52:51,981 INFO [utils.py:237] Saving checkpoint to exp/valle_dev/checkpoint-1810.pt\r\n",
      "2024-10-18 12:53:09,856 INFO [utils.py:237] Saving checkpoint to exp/valle_dev/checkpoint-1820.pt\r\n",
      "2024-10-18 12:53:28,248 INFO [utils.py:237] Saving checkpoint to exp/valle_dev/checkpoint-1830.pt\r\n",
      "2024-10-18 12:53:46,955 INFO [utils.py:237] Saving checkpoint to exp/valle_dev/checkpoint-1840.pt\r\n",
      "2024-10-18 12:54:09,462 INFO [utils.py:237] Saving checkpoint to exp/valle_dev/checkpoint-1850.pt\r\n",
      "2024-10-18 12:54:29,080 INFO [utils.py:237] Saving checkpoint to exp/valle_dev/checkpoint-1860.pt\r\n",
      "2024-10-18 12:54:47,545 INFO [utils.py:237] Saving checkpoint to exp/valle_dev/checkpoint-1870.pt\r\n",
      "2024-10-18 12:55:06,285 INFO [utils.py:237] Saving checkpoint to exp/valle_dev/checkpoint-1880.pt\r\n",
      "2024-10-18 12:55:25,300 INFO [utils.py:237] Saving checkpoint to exp/valle_dev/checkpoint-1890.pt\r\n",
      "2024-10-18 12:55:44,141 INFO [utils.py:237] Saving checkpoint to exp/valle_dev/checkpoint-1900.pt\r\n",
      "2024-10-18 12:55:53,118 INFO [train.py:774] Epoch 1, batch 1900, train_loss[loss=3.194, ArTop10Accuracy=0.7953, NarTop10Accuracy=0.5671, over 1158.00 frames. ], tot_loss[loss=3.265, ArTop10Accuracy=0.7882, NarTop10Accuracy=0.5627, over 1149.25 frames. ], batch size: 3, lr: 4.83e-03\r\n",
      "2024-10-18 12:56:01,665 INFO [utils.py:237] Saving checkpoint to exp/valle_dev/checkpoint-1910.pt\r\n",
      "2024-10-18 12:56:20,011 INFO [utils.py:237] Saving checkpoint to exp/valle_dev/checkpoint-1920.pt\r\n",
      "2024-10-18 12:56:38,949 INFO [utils.py:237] Saving checkpoint to exp/valle_dev/checkpoint-1930.pt\r\n",
      "2024-10-18 12:56:58,441 INFO [utils.py:237] Saving checkpoint to exp/valle_dev/checkpoint-1940.pt\r\n",
      "2024-10-18 12:57:15,890 INFO [utils.py:237] Saving checkpoint to exp/valle_dev/checkpoint-1950.pt\r\n",
      "2024-10-18 12:57:36,778 INFO [utils.py:237] Saving checkpoint to exp/valle_dev/checkpoint-1960.pt\r\n",
      "2024-10-18 12:57:55,757 INFO [utils.py:237] Saving checkpoint to exp/valle_dev/checkpoint-1970.pt\r\n",
      "2024-10-18 12:58:14,450 INFO [utils.py:237] Saving checkpoint to exp/valle_dev/checkpoint-1980.pt\r\n",
      "2024-10-18 12:58:33,023 INFO [utils.py:237] Saving checkpoint to exp/valle_dev/checkpoint-1990.pt\r\n",
      "2024-10-18 12:58:56,351 INFO [utils.py:237] Saving checkpoint to exp/valle_dev/checkpoint-2000.pt\r\n",
      "2024-10-18 12:59:05,683 INFO [train.py:774] Epoch 1, batch 2000, train_loss[loss=3.038, ArTop10Accuracy=0.8255, NarTop10Accuracy=0.6433, over 1026.00 frames. ], tot_loss[loss=3.276, ArTop10Accuracy=0.7868, NarTop10Accuracy=0.5603, over 1142.00 frames. ], batch size: 4, lr: 4.82e-03\r\n",
      "2024-10-18 12:59:06,846 INFO [utils.py:877] Clipping_scale=2.0, grad-norm quartiles 3.169e+01 4.378e+01 4.693e+01 5.101e+01 1.046e+02, threshold=9.387e+01, percent-clipped=0.0\r\n",
      "2024-10-18 12:59:15,965 INFO [utils.py:237] Saving checkpoint to exp/valle_dev/checkpoint-2010.pt\r\n",
      "2024-10-18 12:59:34,668 INFO [utils.py:237] Saving checkpoint to exp/valle_dev/checkpoint-2020.pt\r\n",
      "2024-10-18 12:59:53,774 INFO [utils.py:237] Saving checkpoint to exp/valle_dev/checkpoint-2030.pt\r\n",
      "2024-10-18 13:00:11,941 INFO [utils.py:237] Saving checkpoint to exp/valle_dev/checkpoint-2040.pt\r\n",
      "2024-10-18 13:00:30,647 INFO [utils.py:237] Saving checkpoint to exp/valle_dev/checkpoint-2050.pt\r\n",
      "2024-10-18 13:00:58,554 INFO [utils.py:237] Saving checkpoint to exp/valle_dev/checkpoint-2060.pt\r\n",
      "2024-10-18 13:01:15,869 INFO [utils.py:237] Saving checkpoint to exp/valle_dev/checkpoint-2070.pt\r\n",
      "2024-10-18 13:01:34,697 INFO [utils.py:237] Saving checkpoint to exp/valle_dev/checkpoint-2080.pt\r\n",
      "2024-10-18 13:01:54,146 INFO [utils.py:237] Saving checkpoint to exp/valle_dev/checkpoint-2090.pt\r\n",
      "2024-10-18 13:02:13,045 INFO [utils.py:237] Saving checkpoint to exp/valle_dev/checkpoint-2100.pt\r\n",
      "2024-10-18 13:02:22,904 INFO [train.py:774] Epoch 1, batch 2100, train_loss[loss=2.903, ArTop10Accuracy=0.8456, NarTop10Accuracy=0.6449, over 1263.00 frames. ], tot_loss[loss=3.262, ArTop10Accuracy=0.7912, NarTop10Accuracy=0.5608, over 1147.32 frames. ], batch size: 5, lr: 4.80e-03\r\n",
      "2024-10-18 13:02:31,912 INFO [utils.py:237] Saving checkpoint to exp/valle_dev/checkpoint-2110.pt\r\n",
      "2024-10-18 13:02:51,217 INFO [utils.py:237] Saving checkpoint to exp/valle_dev/checkpoint-2120.pt\r\n",
      "2024-10-18 13:03:10,959 INFO [utils.py:237] Saving checkpoint to exp/valle_dev/checkpoint-2130.pt\r\n",
      "2024-10-18 13:03:30,630 INFO [utils.py:237] Saving checkpoint to exp/valle_dev/checkpoint-2140.pt\r\n",
      "2024-10-18 13:03:48,488 INFO [utils.py:237] Saving checkpoint to exp/valle_dev/checkpoint-2150.pt\r\n",
      "2024-10-18 13:04:17,759 INFO [utils.py:237] Saving checkpoint to exp/valle_dev/checkpoint-2160.pt\r\n",
      "2024-10-18 13:04:35,003 INFO [utils.py:237] Saving checkpoint to exp/valle_dev/checkpoint-2170.pt\r\n",
      "2024-10-18 13:04:54,375 INFO [utils.py:237] Saving checkpoint to exp/valle_dev/checkpoint-2180.pt\r\n",
      "2024-10-18 13:05:23,778 INFO [utils.py:237] Saving checkpoint to exp/valle_dev/checkpoint-2190.pt\r\n",
      "2024-10-18 13:05:48,918 INFO [utils.py:237] Saving checkpoint to exp/valle_dev/checkpoint-2200.pt\r\n",
      "2024-10-18 13:05:58,233 INFO [train.py:774] Epoch 1, batch 2200, train_loss[loss=3.73, ArTop10Accuracy=0.7279, NarTop10Accuracy=0.4351, over 680.00 frames. ], tot_loss[loss=3.253, ArTop10Accuracy=0.7921, NarTop10Accuracy=0.565, over 1149.62 frames. ], batch size: 1, lr: 4.78e-03\r\n",
      "2024-10-18 13:06:07,372 INFO [utils.py:237] Saving checkpoint to exp/valle_dev/checkpoint-2210.pt\r\n",
      "2024-10-18 13:06:26,047 INFO [utils.py:237] Saving checkpoint to exp/valle_dev/checkpoint-2220.pt\r\n",
      "2024-10-18 13:06:44,136 INFO [utils.py:237] Saving checkpoint to exp/valle_dev/checkpoint-2230.pt\r\n",
      "2024-10-18 13:07:03,493 INFO [utils.py:237] Saving checkpoint to exp/valle_dev/checkpoint-2240.pt\r\n",
      "2024-10-18 13:07:25,430 INFO [utils.py:237] Saving checkpoint to exp/valle_dev/checkpoint-2250.pt\r\n",
      "2024-10-18 13:07:43,620 INFO [utils.py:237] Saving checkpoint to exp/valle_dev/checkpoint-2260.pt\r\n",
      "2024-10-18 13:08:02,337 INFO [utils.py:237] Saving checkpoint to exp/valle_dev/checkpoint-2270.pt\r\n",
      "2024-10-18 13:08:34,387 INFO [utils.py:237] Saving checkpoint to exp/valle_dev/checkpoint-2280.pt\r\n",
      "2024-10-18 13:08:54,311 INFO [utils.py:237] Saving checkpoint to exp/valle_dev/checkpoint-2290.pt\r\n",
      "2024-10-18 13:09:12,573 INFO [utils.py:237] Saving checkpoint to exp/valle_dev/checkpoint-2300.pt\r\n",
      "2024-10-18 13:09:21,918 INFO [train.py:774] Epoch 1, batch 2300, train_loss[loss=3.244, ArTop10Accuracy=0.7913, NarTop10Accuracy=0.5515, over 1131.00 frames. ], tot_loss[loss=3.256, ArTop10Accuracy=0.7914, NarTop10Accuracy=0.5632, over 1148.13 frames. ], batch size: 3, lr: 4.77e-03\r\n",
      "2024-10-18 13:09:31,173 INFO [utils.py:237] Saving checkpoint to exp/valle_dev/checkpoint-2310.pt\r\n",
      "2024-10-18 13:09:58,910 INFO [utils.py:237] Saving checkpoint to exp/valle_dev/checkpoint-2320.pt\r\n",
      "2024-10-18 13:10:17,351 INFO [utils.py:237] Saving checkpoint to exp/valle_dev/checkpoint-2330.pt\r\n",
      "2024-10-18 13:10:35,602 INFO [utils.py:237] Saving checkpoint to exp/valle_dev/checkpoint-2340.pt\r\n",
      "2024-10-18 13:10:54,923 INFO [utils.py:237] Saving checkpoint to exp/valle_dev/checkpoint-2350.pt\r\n",
      "2024-10-18 13:11:26,916 INFO [utils.py:237] Saving checkpoint to exp/valle_dev/checkpoint-2360.pt\r\n",
      "2024-10-18 13:11:45,780 INFO [utils.py:237] Saving checkpoint to exp/valle_dev/checkpoint-2370.pt\r\n",
      "2024-10-18 13:12:05,229 INFO [utils.py:237] Saving checkpoint to exp/valle_dev/checkpoint-2380.pt\r\n",
      "2024-10-18 13:12:24,229 INFO [utils.py:237] Saving checkpoint to exp/valle_dev/checkpoint-2390.pt\r\n",
      "2024-10-18 13:12:43,045 INFO [utils.py:237] Saving checkpoint to exp/valle_dev/checkpoint-2400.pt\r\n",
      "2024-10-18 13:12:51,939 INFO [train.py:774] Epoch 1, batch 2400, train_loss[loss=3.139, ArTop10Accuracy=0.8364, NarTop10Accuracy=0.595, over 1400.00 frames. ], tot_loss[loss=3.25, ArTop10Accuracy=0.7914, NarTop10Accuracy=0.566, over 1155.33 frames. ], batch size: 2, lr: 4.75e-03\r\n",
      "2024-10-18 13:13:01,267 INFO [utils.py:237] Saving checkpoint to exp/valle_dev/checkpoint-2410.pt\r\n",
      "2024-10-18 13:13:21,168 INFO [utils.py:237] Saving checkpoint to exp/valle_dev/checkpoint-2420.pt\r\n",
      "2024-10-18 13:13:39,201 INFO [utils.py:237] Saving checkpoint to exp/valle_dev/checkpoint-2430.pt\r\n",
      "2024-10-18 13:13:58,183 INFO [utils.py:237] Saving checkpoint to exp/valle_dev/checkpoint-2440.pt\r\n",
      "2024-10-18 13:14:19,262 INFO [utils.py:237] Saving checkpoint to exp/valle_dev/checkpoint-2450.pt\r\n",
      "2024-10-18 13:14:49,246 INFO [utils.py:237] Saving checkpoint to exp/valle_dev/checkpoint-2460.pt\r\n",
      "2024-10-18 13:15:07,775 INFO [utils.py:237] Saving checkpoint to exp/valle_dev/checkpoint-2470.pt\r\n",
      "2024-10-18 13:15:39,219 INFO [utils.py:237] Saving checkpoint to exp/valle_dev/checkpoint-2480.pt\r\n",
      "2024-10-18 13:15:58,285 INFO [utils.py:237] Saving checkpoint to exp/valle_dev/checkpoint-2490.pt\r\n",
      "2024-10-18 13:16:16,148 INFO [utils.py:237] Saving checkpoint to exp/valle_dev/checkpoint-2500.pt\r\n",
      "2024-10-18 13:16:25,760 INFO [train.py:774] Epoch 1, batch 2500, train_loss[loss=3.115, ArTop10Accuracy=0.8171, NarTop10Accuracy=0.6034, over 1110.00 frames. ], tot_loss[loss=3.238, ArTop10Accuracy=0.7923, NarTop10Accuracy=0.5691, over 1154.27 frames. ], batch size: 3, lr: 4.73e-03\r\n",
      "2024-10-18 13:16:35,390 INFO [utils.py:237] Saving checkpoint to exp/valle_dev/checkpoint-2510.pt\r\n",
      "2024-10-18 13:17:04,414 INFO [utils.py:237] Saving checkpoint to exp/valle_dev/checkpoint-2520.pt\r\n",
      "2024-10-18 13:17:23,916 INFO [utils.py:237] Saving checkpoint to exp/valle_dev/checkpoint-2530.pt\r\n",
      "2024-10-18 13:17:42,719 INFO [utils.py:237] Saving checkpoint to exp/valle_dev/checkpoint-2540.pt\r\n",
      "2024-10-18 13:18:01,168 INFO [utils.py:237] Saving checkpoint to exp/valle_dev/checkpoint-2550.pt\r\n",
      "2024-10-18 13:18:20,084 INFO [utils.py:237] Saving checkpoint to exp/valle_dev/checkpoint-2560.pt\r\n",
      "2024-10-18 13:18:37,967 INFO [utils.py:237] Saving checkpoint to exp/valle_dev/checkpoint-2570.pt\r\n",
      "2024-10-18 13:18:55,912 INFO [utils.py:237] Saving checkpoint to exp/valle_dev/checkpoint-2580.pt\r\n",
      "2024-10-18 13:19:14,357 INFO [utils.py:237] Saving checkpoint to exp/valle_dev/checkpoint-2590.pt\r\n",
      "2024-10-18 13:19:33,799 INFO [utils.py:237] Saving checkpoint to exp/valle_dev/checkpoint-2600.pt\r\n",
      "2024-10-18 13:19:43,323 INFO [train.py:774] Epoch 1, batch 2600, train_loss[loss=3.213, ArTop10Accuracy=0.7744, NarTop10Accuracy=0.6219, over 1281.00 frames. ], tot_loss[loss=3.225, ArTop10Accuracy=0.7933, NarTop10Accuracy=0.5713, over 1157.52 frames. ], batch size: 3, lr: 4.71e-03\r\n",
      "2024-10-18 13:19:52,496 INFO [utils.py:237] Saving checkpoint to exp/valle_dev/checkpoint-2610.pt\r\n",
      "2024-10-18 13:20:11,147 INFO [utils.py:237] Saving checkpoint to exp/valle_dev/checkpoint-2620.pt\r\n",
      "2024-10-18 13:20:29,689 INFO [utils.py:237] Saving checkpoint to exp/valle_dev/checkpoint-2630.pt\r\n",
      "2024-10-18 13:20:48,292 INFO [utils.py:237] Saving checkpoint to exp/valle_dev/checkpoint-2640.pt\r\n",
      "2024-10-18 13:21:11,749 INFO [utils.py:237] Saving checkpoint to exp/valle_dev/checkpoint-2650.pt\r\n",
      "2024-10-18 13:21:31,114 INFO [utils.py:237] Saving checkpoint to exp/valle_dev/checkpoint-2660.pt\r\n",
      "2024-10-18 13:21:49,378 INFO [utils.py:237] Saving checkpoint to exp/valle_dev/checkpoint-2670.pt\r\n",
      "2024-10-18 13:22:08,210 INFO [utils.py:237] Saving checkpoint to exp/valle_dev/checkpoint-2680.pt\r\n",
      "2024-10-18 13:22:27,199 INFO [utils.py:237] Saving checkpoint to exp/valle_dev/checkpoint-2690.pt\r\n",
      "2024-10-18 13:22:54,964 INFO [utils.py:237] Saving checkpoint to exp/valle_dev/checkpoint-2700.pt\r\n",
      "2024-10-18 13:23:04,291 INFO [train.py:774] Epoch 1, batch 2700, train_loss[loss=3.04, ArTop10Accuracy=0.8037, NarTop10Accuracy=0.6468, over 1014.00 frames. ], tot_loss[loss=3.231, ArTop10Accuracy=0.7938, NarTop10Accuracy=0.5693, over 1159.10 frames. ], batch size: 4, lr: 4.69e-03\r\n",
      "2024-10-18 13:23:13,957 INFO [utils.py:237] Saving checkpoint to exp/valle_dev/checkpoint-2710.pt\r\n",
      "2024-10-18 13:23:38,881 INFO [utils.py:237] Saving checkpoint to exp/valle_dev/checkpoint-2720.pt\r\n",
      "2024-10-18 13:23:58,113 INFO [utils.py:237] Saving checkpoint to exp/valle_dev/checkpoint-2730.pt\r\n",
      "2024-10-18 13:24:27,049 INFO [utils.py:237] Saving checkpoint to exp/valle_dev/checkpoint-2740.pt\r\n",
      "2024-10-18 13:24:45,620 INFO [utils.py:237] Saving checkpoint to exp/valle_dev/checkpoint-2750.pt\r\n",
      "2024-10-18 13:25:04,660 INFO [utils.py:237] Saving checkpoint to exp/valle_dev/checkpoint-2760.pt\r\n",
      "2024-10-18 13:25:24,329 INFO [utils.py:237] Saving checkpoint to exp/valle_dev/checkpoint-2770.pt\r\n",
      "2024-10-18 13:25:54,611 INFO [utils.py:237] Saving checkpoint to exp/valle_dev/checkpoint-2780.pt\r\n",
      "2024-10-18 13:26:12,411 INFO [utils.py:237] Saving checkpoint to exp/valle_dev/checkpoint-2790.pt\r\n",
      "2024-10-18 13:26:31,102 INFO [utils.py:237] Saving checkpoint to exp/valle_dev/checkpoint-2800.pt\r\n",
      "2024-10-18 13:26:40,362 INFO [train.py:774] Epoch 1, batch 2800, train_loss[loss=3.268, ArTop10Accuracy=0.7668, NarTop10Accuracy=0.5751, over 1119.00 frames. ], tot_loss[loss=3.242, ArTop10Accuracy=0.792, NarTop10Accuracy=0.5676, over 1151.06 frames. ], batch size: 2, lr: 4.67e-03\r\n",
      "2024-10-18 13:26:50,667 INFO [utils.py:237] Saving checkpoint to exp/valle_dev/checkpoint-2810.pt\r\n",
      "2024-10-18 13:27:09,872 INFO [utils.py:237] Saving checkpoint to exp/valle_dev/checkpoint-2820.pt\r\n",
      "2024-10-18 13:27:28,051 INFO [utils.py:237] Saving checkpoint to exp/valle_dev/checkpoint-2830.pt\r\n",
      "2024-10-18 13:27:46,256 INFO [utils.py:237] Saving checkpoint to exp/valle_dev/checkpoint-2840.pt\r\n",
      "2024-10-18 13:28:04,943 INFO [utils.py:237] Saving checkpoint to exp/valle_dev/checkpoint-2850.pt\r\n",
      "2024-10-18 13:28:32,466 INFO [utils.py:237] Saving checkpoint to exp/valle_dev/checkpoint-2860.pt\r\n",
      "2024-10-18 13:28:52,102 INFO [utils.py:237] Saving checkpoint to exp/valle_dev/checkpoint-2870.pt\r\n",
      "2024-10-18 13:29:10,941 INFO [utils.py:237] Saving checkpoint to exp/valle_dev/checkpoint-2880.pt\r\n",
      "2024-10-18 13:29:30,094 INFO [utils.py:237] Saving checkpoint to exp/valle_dev/checkpoint-2890.pt\r\n",
      "2024-10-18 13:29:58,884 INFO [utils.py:237] Saving checkpoint to exp/valle_dev/checkpoint-2900.pt\r\n",
      "2024-10-18 13:30:07,732 INFO [train.py:774] Epoch 1, batch 2900, train_loss[loss=3.357, ArTop10Accuracy=0.8063, NarTop10Accuracy=0.5351, over 1270.00 frames. ], tot_loss[loss=3.246, ArTop10Accuracy=0.7926, NarTop10Accuracy=0.5654, over 1154.25 frames. ], batch size: 3, lr: 4.65e-03\r\n",
      "2024-10-18 13:30:17,403 INFO [utils.py:237] Saving checkpoint to exp/valle_dev/checkpoint-2910.pt\r\n",
      "2024-10-18 13:30:36,046 INFO [utils.py:237] Saving checkpoint to exp/valle_dev/checkpoint-2920.pt\r\n",
      "2024-10-18 13:31:07,580 INFO [utils.py:237] Saving checkpoint to exp/valle_dev/checkpoint-2930.pt\r\n",
      "2024-10-18 13:31:25,986 INFO [utils.py:237] Saving checkpoint to exp/valle_dev/checkpoint-2940.pt\r\n",
      "2024-10-18 13:31:45,433 INFO [utils.py:237] Saving checkpoint to exp/valle_dev/checkpoint-2950.pt\r\n",
      "2024-10-18 13:32:04,741 INFO [utils.py:237] Saving checkpoint to exp/valle_dev/checkpoint-2960.pt\r\n",
      "2024-10-18 13:32:23,101 INFO [utils.py:237] Saving checkpoint to exp/valle_dev/checkpoint-2970.pt\r\n",
      "2024-10-18 13:32:42,057 INFO [utils.py:237] Saving checkpoint to exp/valle_dev/checkpoint-2980.pt\r\n",
      "2024-10-18 13:33:00,916 INFO [utils.py:237] Saving checkpoint to exp/valle_dev/checkpoint-2990.pt\r\n",
      "2024-10-18 13:33:19,865 INFO [utils.py:237] Saving checkpoint to exp/valle_dev/checkpoint-3000.pt\r\n",
      "2024-10-18 13:33:29,501 INFO [train.py:774] Epoch 1, batch 3000, train_loss[loss=3.093, ArTop10Accuracy=0.7894, NarTop10Accuracy=0.6209, over 1244.00 frames. ], tot_loss[loss=3.233, ArTop10Accuracy=0.7951, NarTop10Accuracy=0.5686, over 1159.64 frames. ], batch size: 5, lr: 4.63e-03\r\n",
      "2024-10-18 13:33:30,147 INFO [utils.py:877] Clipping_scale=2.0, grad-norm quartiles 2.737e+01 4.212e+01 4.549e+01 4.879e+01 7.841e+01, threshold=9.097e+01, percent-clipped=0.0\r\n",
      "2024-10-18 13:33:38,575 INFO [utils.py:237] Saving checkpoint to exp/valle_dev/checkpoint-3010.pt\r\n",
      "2024-10-18 13:33:57,500 INFO [utils.py:237] Saving checkpoint to exp/valle_dev/checkpoint-3020.pt\r\n",
      "2024-10-18 13:34:16,087 INFO [utils.py:237] Saving checkpoint to exp/valle_dev/checkpoint-3030.pt\r\n",
      "2024-10-18 13:34:34,314 INFO [utils.py:237] Saving checkpoint to exp/valle_dev/checkpoint-3040.pt\r\n",
      "2024-10-18 13:34:53,104 INFO [utils.py:237] Saving checkpoint to exp/valle_dev/checkpoint-3050.pt\r\n",
      "2024-10-18 13:35:11,588 INFO [utils.py:237] Saving checkpoint to exp/valle_dev/checkpoint-3060.pt\r\n",
      "2024-10-18 13:35:30,190 INFO [utils.py:237] Saving checkpoint to exp/valle_dev/checkpoint-3070.pt\r\n",
      "2024-10-18 13:35:48,620 INFO [utils.py:237] Saving checkpoint to exp/valle_dev/checkpoint-3080.pt\r\n",
      "2024-10-18 13:36:07,288 INFO [utils.py:237] Saving checkpoint to exp/valle_dev/checkpoint-3090.pt\r\n",
      "2024-10-18 13:36:26,123 INFO [utils.py:237] Saving checkpoint to exp/valle_dev/checkpoint-3100.pt\r\n",
      "2024-10-18 13:36:35,703 INFO [train.py:774] Epoch 1, batch 3100, train_loss[loss=2.971, ArTop10Accuracy=0.8153, NarTop10Accuracy=0.6594, over 1056.00 frames. ], tot_loss[loss=3.227, ArTop10Accuracy=0.7966, NarTop10Accuracy=0.5713, over 1142.86 frames. ], batch size: 2, lr: 4.61e-03\r\n",
      "2024-10-18 13:36:53,250 INFO [utils.py:237] Saving checkpoint to exp/valle_dev/checkpoint-3110.pt\r\n",
      "2024-10-18 13:37:11,548 INFO [utils.py:237] Saving checkpoint to exp/valle_dev/checkpoint-3120.pt\r\n",
      "2024-10-18 13:37:30,658 INFO [utils.py:237] Saving checkpoint to exp/valle_dev/checkpoint-3130.pt\r\n",
      "2024-10-18 13:37:50,010 INFO [utils.py:237] Saving checkpoint to exp/valle_dev/checkpoint-3140.pt\r\n",
      "2024-10-18 13:38:08,117 INFO [utils.py:237] Saving checkpoint to exp/valle_dev/checkpoint-3150.pt\r\n",
      "2024-10-18 13:38:27,021 INFO [utils.py:237] Saving checkpoint to exp/valle_dev/checkpoint-3160.pt\r\n",
      "2024-10-18 13:38:45,153 INFO [utils.py:237] Saving checkpoint to exp/valle_dev/checkpoint-3170.pt\r\n",
      "2024-10-18 13:39:04,755 INFO [utils.py:237] Saving checkpoint to exp/valle_dev/checkpoint-3180.pt\r\n",
      "2024-10-18 13:39:24,057 INFO [utils.py:237] Saving checkpoint to exp/valle_dev/checkpoint-3190.pt\r\n",
      "2024-10-18 13:39:43,492 INFO [utils.py:237] Saving checkpoint to exp/valle_dev/checkpoint-3200.pt\r\n",
      "2024-10-18 13:39:53,261 INFO [train.py:774] Epoch 1, batch 3200, train_loss[loss=3.034, ArTop10Accuracy=0.8173, NarTop10Accuracy=0.6121, over 1182.00 frames. ], tot_loss[loss=3.238, ArTop10Accuracy=0.7952, NarTop10Accuracy=0.567, over 1155.64 frames. ], batch size: 3, lr: 4.59e-03\r\n",
      "2024-10-18 13:40:03,281 INFO [utils.py:237] Saving checkpoint to exp/valle_dev/checkpoint-3210.pt\r\n",
      "2024-10-18 13:40:21,725 INFO [utils.py:237] Saving checkpoint to exp/valle_dev/checkpoint-3220.pt\r\n",
      "2024-10-18 13:40:48,689 INFO [utils.py:237] Saving checkpoint to exp/valle_dev/checkpoint-3230.pt\r\n",
      "2024-10-18 13:41:07,026 INFO [utils.py:237] Saving checkpoint to exp/valle_dev/checkpoint-3240.pt\r\n",
      "2024-10-18 13:41:24,841 INFO [utils.py:237] Saving checkpoint to exp/valle_dev/checkpoint-3250.pt\r\n",
      "2024-10-18 13:41:44,181 INFO [utils.py:237] Saving checkpoint to exp/valle_dev/checkpoint-3260.pt\r\n",
      "2024-10-18 13:42:03,304 INFO [utils.py:237] Saving checkpoint to exp/valle_dev/checkpoint-3270.pt\r\n",
      "2024-10-18 13:42:21,201 INFO [utils.py:237] Saving checkpoint to exp/valle_dev/checkpoint-3280.pt\r\n",
      "2024-10-18 13:42:41,163 INFO [utils.py:237] Saving checkpoint to exp/valle_dev/checkpoint-3290.pt\r\n",
      "2024-10-18 13:43:00,758 INFO [utils.py:237] Saving checkpoint to exp/valle_dev/checkpoint-3300.pt\r\n",
      "2024-10-18 13:43:10,263 INFO [train.py:774] Epoch 1, batch 3300, train_loss[loss=3.083, ArTop10Accuracy=0.8263, NarTop10Accuracy=0.5899, over 1376.00 frames. ], tot_loss[loss=3.238, ArTop10Accuracy=0.7953, NarTop10Accuracy=0.5661, over 1160.94 frames. ], batch size: 4, lr: 4.57e-03\r\n",
      "2024-10-18 13:43:19,697 INFO [utils.py:237] Saving checkpoint to exp/valle_dev/checkpoint-3310.pt\r\n",
      "2024-10-18 13:43:37,766 INFO [utils.py:237] Saving checkpoint to exp/valle_dev/checkpoint-3320.pt\r\n",
      "2024-10-18 13:43:56,600 INFO [utils.py:237] Saving checkpoint to exp/valle_dev/checkpoint-3330.pt\r\n",
      "2024-10-18 13:44:24,096 INFO [utils.py:237] Saving checkpoint to exp/valle_dev/checkpoint-3340.pt\r\n",
      "2024-10-18 13:44:42,692 INFO [utils.py:237] Saving checkpoint to exp/valle_dev/checkpoint-3350.pt\r\n",
      "2024-10-18 13:45:01,596 INFO [utils.py:237] Saving checkpoint to exp/valle_dev/checkpoint-3360.pt\r\n",
      "2024-10-18 13:45:22,523 INFO [utils.py:237] Saving checkpoint to exp/valle_dev/checkpoint-3370.pt\r\n",
      "2024-10-18 13:45:41,567 INFO [utils.py:237] Saving checkpoint to exp/valle_dev/checkpoint-3380.pt\r\n",
      "2024-10-18 13:46:01,227 INFO [utils.py:237] Saving checkpoint to exp/valle_dev/checkpoint-3390.pt\r\n",
      "2024-10-18 13:46:20,337 INFO [utils.py:237] Saving checkpoint to exp/valle_dev/checkpoint-3400.pt\r\n",
      "2024-10-18 13:46:29,902 INFO [train.py:774] Epoch 1, batch 3400, train_loss[loss=3.077, ArTop10Accuracy=0.8108, NarTop10Accuracy=0.5995, over 1205.00 frames. ], tot_loss[loss=3.258, ArTop10Accuracy=0.7953, NarTop10Accuracy=0.5609, over 1161.76 frames. ], batch size: 9, lr: 4.55e-03\r\n",
      "2024-10-18 13:46:39,570 INFO [utils.py:237] Saving checkpoint to exp/valle_dev/checkpoint-3410.pt\r\n",
      "2024-10-18 13:46:58,262 INFO [utils.py:237] Saving checkpoint to exp/valle_dev/checkpoint-3420.pt\r\n",
      "2024-10-18 13:47:17,155 INFO [utils.py:237] Saving checkpoint to exp/valle_dev/checkpoint-3430.pt\r\n",
      "2024-10-18 13:47:35,020 INFO [utils.py:237] Saving checkpoint to exp/valle_dev/checkpoint-3440.pt\r\n",
      "2024-10-18 13:47:55,306 INFO [utils.py:237] Saving checkpoint to exp/valle_dev/checkpoint-3450.pt\r\n",
      "2024-10-18 13:48:14,574 INFO [utils.py:237] Saving checkpoint to exp/valle_dev/checkpoint-3460.pt\r\n",
      "2024-10-18 13:48:34,352 INFO [utils.py:237] Saving checkpoint to exp/valle_dev/checkpoint-3470.pt\r\n",
      "2024-10-18 13:48:53,096 INFO [utils.py:237] Saving checkpoint to exp/valle_dev/checkpoint-3480.pt\r\n",
      "2024-10-18 13:49:12,124 INFO [utils.py:237] Saving checkpoint to exp/valle_dev/checkpoint-3490.pt\r\n",
      "2024-10-18 13:49:27,782 INFO [train.py:658] Reaches end of dataloader.\r\n",
      "Traceback (most recent call last):\r\n",
      "  File \"/kaggle/working/train.py\", line 1078, in <module>\r\n",
      "    main()\r\n",
      "  File \"/kaggle/working/train.py\", line 1071, in main\r\n",
      "    run(rank=0, world_size=1, args=args)\r\n",
      "  File \"/kaggle/working/train.py\", line 1025, in run\r\n",
      "    save_checkpoint(\r\n",
      "  File \"/kaggle/working/train.py\", line 468, in save_checkpoint\r\n",
      "    if params.cur_epoch % params.save_every == 0:\r\n",
      "  File \"/kaggle/working/train_utils/icefall/utils.py\", line 433, in __getattr__\r\n",
      "    raise AttributeError(f\"No such attribute '{key}'\")\r\n",
      "AttributeError: No such attribute 'save_every'\r\n"
     ]
    }
   ],
   "source": [
    "!python3 train.py \\\n",
    "    --dtype \"bfloat16\" \\\n",
    "    --num-epochs 100 \\\n",
    "    --save-every-n 10 \\\n",
    "    --world-size 1 \\\n",
    "    --keep-last-k 2 \\\n",
    "    --visualize True \\\n",
    "    --train_dir $input_train_path \\\n",
    "    --valid_dir $input_test_path "
   ]
  },
  {
   "cell_type": "code",
   "execution_count": 11,
   "id": "0676b6cc",
   "metadata": {
    "execution": {
     "iopub.execute_input": "2024-10-18T13:49:34.838834Z",
     "iopub.status.busy": "2024-10-18T13:49:34.836865Z",
     "iopub.status.idle": "2024-10-18T13:49:35.990064Z",
     "shell.execute_reply": "2024-10-18T13:49:35.988873Z"
    },
    "papermill": {
     "duration": 1.201327,
     "end_time": "2024-10-18T13:49:35.992594",
     "exception": false,
     "start_time": "2024-10-18T13:49:34.791267",
     "status": "completed"
    },
    "tags": []
   },
   "outputs": [
    {
     "name": "stdout",
     "output_type": "stream",
     "text": [
      "cp: cannot stat '/kaggle/working/exp/valle_dev/best-train-loss.pt': No such file or directory\r\n"
     ]
    }
   ],
   "source": [
    "!cp /kaggle/working/exp/valle_dev/best-train-loss.pt /checkpoints/vallex-checkpoint.pt"
   ]
  },
  {
   "cell_type": "code",
   "execution_count": 12,
   "id": "04927ed9",
   "metadata": {
    "execution": {
     "iopub.execute_input": "2024-10-18T13:49:36.081399Z",
     "iopub.status.busy": "2024-10-18T13:49:36.081003Z",
     "iopub.status.idle": "2024-10-18T13:50:03.703924Z",
     "shell.execute_reply": "2024-10-18T13:50:03.703094Z"
    },
    "papermill": {
     "duration": 27.670293,
     "end_time": "2024-10-18T13:50:03.706716",
     "exception": false,
     "start_time": "2024-10-18T13:49:36.036423",
     "status": "completed"
    },
    "tags": []
   },
   "outputs": [
    {
     "name": "stderr",
     "output_type": "stream",
     "text": [
      "/kaggle/working/utils/generation.py:78: FutureWarning: You are using `torch.load` with `weights_only=False` (the current default value), which uses the default pickle module implicitly. It is possible to construct malicious pickle data which will execute arbitrary code during unpickling (See https://github.com/pytorch/pytorch/blob/main/SECURITY.md#untrusted-models for more details). In a future release, the default value for `weights_only` will be flipped to `True`. This limits the functions that could be executed during unpickling. Arbitrary objects will no longer be allowed to be loaded via this mode unless they are explicitly allowlisted by the user via `torch.serialization.add_safe_globals`. We recommend you start setting `weights_only=True` for any use case where you don't have full control of the loaded file. Please open an issue on GitHub for any issues related to this experimental feature.\n",
      "  checkpoint = torch.load(os.path.join(checkpoints_dir, model_checkpoint_name), map_location='cpu')\n",
      "/opt/conda/lib/python3.10/site-packages/torch/nn/utils/weight_norm.py:134: FutureWarning: `torch.nn.utils.weight_norm` is deprecated in favor of `torch.nn.utils.parametrizations.weight_norm`.\n",
      "  WeightNorm.apply(module, name, dim)\n",
      "/opt/conda/lib/python3.10/site-packages/vocos/pretrained.py:70: FutureWarning: You are using `torch.load` with `weights_only=False` (the current default value), which uses the default pickle module implicitly. It is possible to construct malicious pickle data which will execute arbitrary code during unpickling (See https://github.com/pytorch/pytorch/blob/main/SECURITY.md#untrusted-models for more details). In a future release, the default value for `weights_only` will be flipped to `True`. This limits the functions that could be executed during unpickling. Arbitrary objects will no longer be allowed to be loaded via this mode unless they are explicitly allowlisted by the user via `torch.serialization.add_safe_globals`. We recommend you start setting `weights_only=True` for any use case where you don't have full control of the loaded file. Please open an issue on GitHub for any issues related to this experimental feature.\n",
      "  state_dict = torch.load(model_path, map_location=\"cpu\")\n"
     ]
    },
    {
     "name": "stdout",
     "output_type": "stream",
     "text": [
      "VALL-E EOS [0 -> 102]\n"
     ]
    },
    {
     "data": {
      "text/html": [
       "\n",
       "                <audio  controls=\"controls\" >\n",
       "                    <source src=\"data:audio/wav;base64,UklGRqT8AABXQVZFZm10IBAAAAABAAEAwF0AAIC7AAACABAAZGF0YYD8AAAAAAQABgD+/wwADQAHAPX/9////wIA8v8AAAcAEAD4//H/9P/h/+///v8EAP//7P/r//L/9P/y/+n/9v/3//T/+P8BAP///f/4//D/9f/y//T/AAAAAOn/8v/5//T/8v/1/+j/8P8AAPf/7/8MAAEA8v/w//L/3//s/+v/7f8HAPr/8f/9/wMA9//y/+r/9v8DAPX/8P/9//T/7v/v/+3/7P/0/+z/AAAAAPf/+v/4/+3/6f/n/+3/7f/z//r/9//4/wcAFwAJAAIAAQDt//j/9v8IAPn/+v/8/wMABwAIAP3/+f/7//j//v/5//L/+v/1//T/8//2//z/+f/v/+f/+P8GAPj/7f/o/+P/7f/0//z/+f/8/x4ADwAKAP//+f/7//z/9f/9/wQA/P/4/xQAAwDi//X/CgAAAAoAFgASABoAEQAEAAgACQAPABEACQD//+r//f/9//7/CgDz//r/6//i/+3/4v/3//3/8v/9/+n/7//6//H/+P8AAP//9P/q/+b/5P/0//T/CwAWAA8ADQD0//7/BQD8/////v8HAAQAAwAZABsADQAhABoA/v/1/wEAAgAHABUAEAACAAUAEgACABEACQAMABAADAAaAAcA+/8IAAAADAAWABsAGwAlABwAAQAPAAsAAwAOABYAGAAFAPr/DQD9/+3/1//U//r//f8KAAMA+v/3//D/5/8MAAYAAADy/wAABgDs//b/CgAFAOr/EgAOAPn/CwD///T/8v8EAOf/y//w/wAA9f8GAAcA6//w//f/4//a/wwAFQD5//7/7f/O/9r/AwD1/+z/4v/7/+3/5//s/9b/4v/9//P/9f/k/+/////x//D/8v/p/93/6P/n//v/6v8DAA0A1//o//b/AQDx/+f/HAD9//b/7f/2/wAAEgD8/w4A//8JABMABwAGAAkA+//9/xQACAAXAA0ACwAoABAAAwACABAADQAWACEADQDt/wQAFgAmABkAFgAfACQAGwAPAB0ALwD9/+n/HwAlACcANwAVAAMAAQAWACgAJQAoACQAJwASAAQAGAAZAAwABAD+//v/3P/b/wUAJAABAP7/BQAMAAIA1v/l//7/CQALAAkADAAyADEAFgAlADUA/v/w/yEAPAA9ABMABQALABIACgAQAEsAKwAMACIAFgAOAB4AIwAaAB0AAAD9/yQAGwASAB4AHQD//+v/8P/3/wgACgABAAAA6P/z/woAEAAPABIADAAeAAEADQAdABUAEAAWABYAEQArACIAHwBFABkABwAdABwAKgAoACoAKAAhABsA9f/3/xMAIwAQAAEA7f/2/+P/3v/i/+j//P8NAP7/9P8KAAIA///r//n/CgDw/wAAAgD5/wMA+P8EAP//AAAXAAsADgD//xEACQAAAOz/DwAbAAEADgAMAAoAGwADAOP//f8AAPn/+v/+//P//v/5//L/BgAHAA0AEgANAPr/7v/T/9v/DwAaAPz/CAACAAUAAgAAABsAGgApAA4AEAAIABkAAgD2/wcALQAkAP//GQBSACAAEQAdABQADAAjAAAACAAiADUAEwARABUAGQAVAB4AIQAfACIABAAFAA0A/P8NABwAGQAcACcADgATADAAFwAYADIAOAAQAB8AHQArAAcA9/8BAA0AEABCADUAJwAfACEAHwADAAoALQAdACEAFAALAOj/3f8lACMA6v8BAAgA4//u/xsAGgALAPz/DgDj/9D/AAAVAAIA7//7//z/5v/R/+T/wf/w/ygACAAEAAMABgDz/wUAPQAgAPn////2/+//9v8HABsA9//c//D/7//s//L/5v8OACQAFQDq//j/AQDD/+7//f8QAB0ALAAYAAYA7P/O/9b/4f8ZAAYABwARAPP/7f/4/+P/8f8QANr/1P8EAAIA0P/P/yEAEwD+/w8ADQDk//3/CgD//ycAVQBKADAA8P/Y//P/IQAUABQADQDx/wMAIQALAOn//v/3/wkA8/8cABMA1/8AAAwA8/8PABEA9v/O/9//6//r/+P/IwAqABAACQDG/9r/DwDk/8v/9P/p/9j/5f/U/w0AHwAvACMALAANAMr/rP/x/w0APQBQAAcAGAAKANb/3P8tADkAJwATACAAGgDs/xQAGAApAAkAEwAtADEACQD3/xYACQAJAP3/8/8DAPr/LQAzAA0AMgDh/67/1f8IAAYADQARABQA3P/J/xMAJgAfAEEAJQA0APv/xv/8/xsAHAApAA4Ax//W/43/7P8rAAwAEgAiAMP/rv/v//v/wf+5/0MAOwAIAJT/NQDFANn/PwDm/40Ar//SALz/2AAxABgAKwBw/0UAzf/s/2cA/v8yAPD/x//AAHQAAgDG/97/HwAZAFkAnABgAMAAiwBI/9f+AACIAaQBUQD5AJcE5wfvBZ3+lfjY9mP6mf++AnMG3Ae1AX36ffh9+tH/qQMCBvsGmQF3+hf7Gf1N/c8AaQTDA6AAef76/W39yP6CAMn/uv8CALj/8f+8ANT/9f7o/ef9uv5E/9QAjgFOAN3/+f4E/1X/RQClAp0C1/6R/Hr8av/8AIUAQAEp/y77Rf4EBm0MpxEqDtYBBfnK91b6vf4VAoMDjgMR/rj5mvjQ+Tj+8v74ANYC3wC2/Yf8Yf17/mX/YP+QAs8Adf88/xEAJgIs/wkA0P5UAtUEtwf2BsED/gKaAFT9/vyOAeIGyQbBBT4FvwQNA0L/kv0d/sH/JgC9AEgAoAF3/3H9vfyq+kf8O/39+5P7yvze/Bj9//0H/9b/f/2X/W37Tvjr+qAE6QICA0wF6AIN//z98/5M/g8AKgHDAq0F6QI6AEH/WADQAjoCmAF+AMj/Jv2q+rz9tAFpB8ALhggIBvUAwP3q/nX/bACAAsoBBwTrAdH+5f+l/Ub8Nv5o/Xf9xP7z/hL9GvxY/Sr/ZAK4A5v9tvlF+yD+UP4RAYcBogDJ/tv9HwHXAQr/8/3O/Xv/Mf+p/Pf6Rv5IAlcCMP/O/03/Of71/TL8hP6C/7b9C/74/pUBTgEN/3/8/f0eAi7/APzp/Jj/uwD2/dv+sAI8AnoAg/4X/Sv/lv6u/vD/MgA5ASEAjP80/08ApQFb/+b+gP4w/x4Agf57AZEBPQOKAboA8v5J/i39gf3K/goAAAA6ABgAt/+y/8j+5/25/H/9ef3t/lUAzP8v/xD+iv5I/v/9Hv6N/oH/LgDO/wMAyv40/4H/8f+vAPf/EgEcAuD/LP4ZAMwAYQDA/9wB9gMvAuoAWgGFAOwA6QCTAGoBRAGhAMD/3v5r/hT9Pf2a/af+pv+a/yf/qf5o/tr9bP8P/3n9Cf5y/i3+4/7d/of/mP/U/tf+TP+V/kr+7P6AAOP/3f4v/8n/Z//X/iwAXAANAUgBJAEhABUAVQGgAacBFgO5A04EPwQqA2YDawIoAtACDgNLAvAB1gBnAk8DpgINAuQBJgJ0AYcAhgFLAqkAz/8JAZoAPP+V/jj/3/43/zMAh/9v/z3/SP6Y/SD+pf+cAG//rv4q/6r94/ym/WL+W//r/rT+ef85ANAAGwESAFQASAA5/4D/DgBbAL0ARwG7Af4BewG8AOIACwHFADAASwF1AawBygGdAe0AQQG4AfkAvQH9AUMBYwDW/+j++v6l/0D/+f4j//r+iv6F/dP8Kv3j/dz8a/30/Z39sP0L/eX8w/z4/Rv+I/6e/dH9ff0a/aX9YP7a/sb/VwCj/0gAvgBuACsAEgAjAN8AOgKgAy8EmwO2AiACTwIdAnUCsgNJBDAEwwRDBbEEkQOJA08EQASSBOcEEgWoBNkDMAP2AfMBjAKzAu0CygJcAnQCkAEqAU8BcgD3AJYBoQFWAgcDzwI6AqQBGgF1AdsBdQKdAnEC1AHqAZcBTwHgAfAC5AKxAr8CpAJNAv8BzQGvAfcAQADcAG0ACwDQABMB7wBqACgA8P9J/oH94/0i/Qf9QP1c/Lr7wfvd+hr6SvqZ+jD61vkj+o76tvm1+NX3Gfd49nX1EvWp9P7zw/NO9JHzXfM09MD0mfS49Kn0FfQ88qTwy/Dt8FnxTPOj9Xz2qfbc9fn0KPVa9InzGvTy9Cr29PZ0+Ar6wPpr+2r7qvsO/Lv9tP9sAdUDcgVbBgwJVwxnDucP8xEVE+gSohNpFQMXCBkcHGkeDx/OHwIheSHDIe0hQyLEIQ4h8iCmIQEjIiNEItwgFCCRHh4dixzJG2YaoxijF+AWeBWLE+gR2A87DTgLUQmDB7gFlANbATkAxv42/bX8g/vt+Sr3pPTG8prwxe4o79rvWu+v7hXu++uS6T3oJ+bt5C/kyeGt38Tfzt/33ZjcWdtz2OPSqs5IzbfLC8lUxmTE08AAvCa5kbZatNW1ELoEwhXQc9pM3BLaWdPjybPFHM3l28jrVflSA1oHBggqCKoGAQh3DawShRnnIw4v+jdjOlI5cDyyPus9IEKTSLBJhUZqQrpBTkS9RLdGnUvRSoxE6j29NnYv+SdoIRQfCx+DHvcetB0qGVoRzATN+Yj1GvNX8hP15/XX8o7t6+j05iTmAeZZ50vo++hy6knrnexv75jx1vMs+Kj8gQGUBWkHPgkHCpwKbA92FXwZ9h+DI5sikSLQIPoeBCBFITMjyyW+JWYkGiHGG08W3xFqDekK1gqeCFIFWAHD+8XzRuw85Ozff9zW1u3S286/yNvBU7resh+u96rVo8adsJpPlMmMXYpJi9KUBawBx1zaKd6m0Wq9maX5ktucyL+K5OMEqCCSK48kFRbeBuX+1P/OCM4bMzYxUIRgMGa5Y3JaK075SB9Lb1D3VuhXO1NUUcFQ81APVlZYW1XzTbM+2y3OIOYUFA4ADbkM5xCkFzcXiA4oAT7t9NWFxcrCU8of1t3h0eij6JvhEtf6zfbJM8lYy2bSItwO5inv1vYm/NX/GQIbBWEJEQwhEIgVLhg+HAokHi2QNtI91UHIQfE7UDQyLjUrPSwoMPs0+DlLPJA4ujANJfYXaQxGBc4BHgKDBP4En/9U+FTtDN/00snJ88IZv9673rrUuHqyYqxOph+gBpwCl5eRboznhmCAAYB0inSdWbeZzwra9dKIwCKstZ8Ho5m7reAYBEYd6Ci6KaEjwBV8CTgJpw/hHeM1wFKTaOpwg2vxXt9RfkpjSqJOslTMV9tV0lFiUX5Ur1WXUlNN9UPpNJElShi0DXYIuAe2CZ0PjBaWFYQLzPmQ4z3OYsCIwFbMXNt56HfuqOgv3rvRn8VywALELszM12XlTO939qH52/fg9Cf2p/lb/k4G8Q0HFFkZ3x0rIi0pwzD2NFE3WDgaNvcxnS3XK1MusTHfNuY8pD+KPjM3xCmhHAESXwrPCbkOqRTZF0sTkwiq+mnrJ95i1ZXR99HQ0oTQ2MySxry7EK9+pPecIJlflmiTnZE2jpqGi4KOjUimPsBJ0l3VlcVoqUyQFYismdy+LOaQBjUbjh2GFXQK3vy69NH0i/9GGX46lln+bXVxMGVsUCpBaz00RBRO81bfXSBf21xPXXth71+4WZBP40EFNHIpTR+tGTsbJB3rHdkhsiPfGgEKWvPE293M9sdTzWXdQ+wk8hDvhuMY1azIjr3xuDK/asoi11bkIe/I87fxqOvh53vpLe6O9D/9ZQUwDQ0U6RkhIUUnrSo1KzYriit2K+Mq7SqQLGUvFTQ/OUo9eD5LO9EwQiNGGDURKxBoFE8aVR72HBUV5wd6+Vvtn+Ly2gHYqdax1a/Tgs4lyFzAQLUYqcqgrZwSlxiQBYxyiO2DP4bUlxezl8vP1UDMVLPIlnSFl4m0pXDO9/PVC4sTnA92Blj7sfBg7bf17QjDIxtCr1zeZ4Bh7VLfRII/JESHS2xU31olWixZolsCYApkc2MbXWRRokK5NEoqXSOqH6oi0yd5K8wtrSmnGsQGnO9d223TXtY038fqhfM68/vrqN2v0fTJNsMNwCbFRdB/2UjgzObB6f3mlOSd5NvoMO9888j2SPzFAQwJnBHZGokjkyiqKM8nZyebJk8neijFKtswxTbuOuc+YT5NOXQwnCUyHooaphq6HaIgdyA5HQ8V2glw/5n37O+X6O/jkd9C26HWlNAYy73FbbvBsX+rIKWhnWeWJJDdifiD6YWIlaWs1MOE0BvIT7BIl4+Id46LpzXK8OkX++j9XvvK+M/3tPVK9ab7rgg8HIQ0hkpAVkRUEUi2Pg9AfEisUZpYM1msU+lQBFJgV0dgcmN7XE5RtEVZO24ydSw8KiAoYib3Jm4oNygBIR4RE/7468bf291Q5Bvt6fNB8jLpbt6o1uTQK8xgy57LmM320Y7Xf97u4xvkROMi5A3nM+vm7/3zCfbr+ET+kgfHEXYb6yGVJDYjAyJBI8oksCYLKSssAzGkNC85cTx2O7I1li10JXEg8h8hIM8hHiNtINgZaxJcCU4BefoK9PTsQei24+TdI9jw0ffKkMPXu+a1uq+VqGmgaZYdjEiG/oNfi7OhNryhzF/MhL2WpUaPg4h5l+m0zNTA6/v24PnA+f/3rvTU8jv26v2eDPAiUDtRSyZPjEppQ6JAokYAUI1WDVkzVU5P705/U21aWGDpYJdcFVOuRww99jI0Kksk8SFwJOAoqSyBLDYi4g+Q+5joK94Z3qnjR+uO8Fjvo+i93zjYidFLy13JEcrozHnSRtit3Ubg4eCO4urkw+ot8LHyR/TH9RL4wv3VBpcStRwVI0UmuSY1JfUjzyIRI7gmEytVMtU4kj1yPz46KzKvKqQjaiHLIU0iDyMdI5sdbhapDgQHawDb+oL1A/C96rTic9o+1E7N1sd0wyi+p7kTs6OnLp5vlJmJZ4PphB6R2aYuvwHOPMoGtqqdw4yPi3KdVLyd2sLsFfWw+Lj32PU69K/wW/OO/7cPfCUJPOhHhkiFQ4k+kkGTS/xRy1McUxNPVEpvS5dSmVsEYRBf81mtUyJJ4TtUMN4nhyJIIeUkFywWMrwwAiS+D6T6R+m73sbe0+YT76vxee9j6tDi89rl02fN1MnhyfTMuNNe25jfp+Hp4HPgbOTR6SHurvC48EPx7vQ2+0cFPBEdG0YhKSOxIwQj2x+dHaAdLCF1KDswQzibPTk+XjpyMRsqwCQKIdQfhyBbIgojeiDtGi8UswwPBIv8aPZI8RnsHub63u3Y0NQaz9vJ8cQ6vie1l6mmnrOWYJDzit2K+pQ6qf+998lHyN63Z6B/jUaMrp5Hu9DWQOmN7w7ypfR08ufvr++48Mb3gwf8HQI2jkQwRPM9CjsIPe9CgUsIUSBPNEquRvZI81DxWGddXV0+WYpSZEl/Pe8xaijeITwgUSQILWY09TJrJ/0UHv9d7EDifOI86SjwPPS/8nXtO+e1387XINFszL3LdM8H1gHeOONf463hV+Hr48noJe4t8UvxbPF382/56AMhD84Yih/xIGIg2h+QHZcbshwJIbUnri4xNg08ZzxTNwswjCilIyMgnh+LItMj2iKvHo8Y0RIeC1UE4P7/+HH0be4C6CPjrd1P2N/TCtCHygLFHrz4sT+ohZ+ZmeuUDZQ+mPGk8LcAx4zLUsOksDacFpLDmbWxZc2G4i3vRfNc8eTvi+4M7Lvsu/Hi+zsOVSVVNoU8iTlgMxgyrTU8PPpEi0mZRgJCUUH7RfNMSFKvVXFVPlGlSr5B3DgFMJEnyyL5I8coly/gM2UwgiQwEw8Bc/KL6w7tcvIK9874ZvZp8WTrxOMv3EvWNNOB06LWett04HHiGeHy3/bhkOVa6ZTsO+627hHvFvHO9g8AMwlFEMgVMxlqGnoZPhgsGO0ZAB4eJDUrBjKGNZE0HTAXK8smuiO9IpIj/yRuJCAhtBuZFkMRews3CI8FGwKV/ej29u/N6dni3t2D2WXV+NA2zDXGab4st6CvZ6eboHmd459LqgG4KsV3zIDIh7ryqMSeqKFAry3D3tf/5RLtsO6V65npgOj65ynr4fRQBG0ViiN8KsArjSlYJ1Ap5i95OKI9fz7xPeY9gz7dQFtEgEi/TBtO6kxnSSdC9zbyK00kyiJDJ/8trjNKNFktcSDyEdkEKvwp+Fj3wPgx+vb6sfl99f3u5eeK4fTdNt233obh2+Lg4RTgoN+u4dLl7upP7/rx0PL58b7x8/Nq9zv8+QI6CuwQNxauGE4YYxb+ExQT8BUjHF0j0ijNKmkpkCb3IkcgJR/JHrIenR10G2UYFRRQDjgJhgUrA6gBSABM/R747/Gp6lXkst8+3L/ZNdjx1STSTc1gx+C/Hrj3sQCvO7AjtLe7l8VVzAXO1cpXwmi6vbZruS/Dv9BH3ifoUe2C75XwAvAp72fw/vTu/McGphEpG9EgiCICI58kmyeXK5IuFDDMMOcwPDHjMrE1DTkOPEg+0z9MP4o7pDRCLOIkPyCUH3YiiibUKBooViNnG00SowkDA5T+Zfyg/Fz+Vv+Z/qT8Kfnp9KPwl+1r7ETsq+te6iLqOOuG7ejw1fSz9774f/fe9ELz9vNX9sj5kP7jA3AIeAucDEEM6QqsCDUHNgjJC3EQExRlFmsXkxbyFGoTNBLpEUER6g/UDh0OcQ1IDEUKqQhnB1gG0QStAgMARfzk98fzh/FE8SjxxPCP783sIOkd5MDeI9r41VHStc+azjPQq9KA1KXVPdW7067RiNAu0f/SgtWJ117Zbtt03qPhiOT05hTpfOof7Obu1fJS9wr7C/5QAcQEXwhHC3gN7g5zD7wPRRFbFAsYJxs0HWse4B7RHsMeBx9MH3UftB/kHxMgHyCFH2ke2xwSG2gZyBdcFg8VihPwEXsQXg8BDwgPKQ8mD18OpwySCoIIswacBaAFUAY+B1kIZAmuCeEITgeSBT8E4gOKBBMGPAj5CdQKsAqtCUkI3AYKBjQGRge1CCgKIAt9C/QKGgpaCQIJGglcCVgJKQmZCMAHAgdPBskFVQVIBQcFXgQxA18BPf/x/MP6VvmN+MT3v/Yy9STzTPDR7Djp++W94sDf8tyS2krYDtbY0w7S5tC30BXRbtGA0TzRjdBSz1nO1M6G0N7S49UU2X7b99wI3jHf5OCR433naOyz8db21fqK/RX/7f/zABEDxQaNC6EQEBU3GNUZlhrYGm0b6hw4H+4hpyTVJtsnnidQJq0kliMiI1kjCySBJB8kmSLyH+8cLRo+GIwXABj+GHYZtxjAFtgTnRD4DY0MUQziDMQNCQ5WDeULwgmCBw8GrwU/BnUHswhpCWsJnQhCB8gF3ASmBD8FbQbEB7AIzwhxCM8HUQdkB84HcAhGCb8JnQknCZAICgiYBzcHIAcIB8QGFwa7BN8CzgD0/nj9aPx2+yD66fc99Yry7e917TTrEOnP5j3kT+EI3rHaBNeO0lDOMcsryeXHZ8dRx1vHfcfNxy/IeMi/yEXJA8o1y1XNINAD0+bV0tiz29HeGuKv5Z7pwO0b8rH2gPv2/+gDjQePCiYNGxChE0gXxhrjHc0gTSMQJeEmIykUK4Us6y3+LmovYy/mLrItciwFK6IpzShvKMgndiZUJNAhMh/dHB4b1hmoGIoX9hUmFH0S2xDgDvoMdwtaCocJCwm6CDIIJAdYBZQDSAJWASoBrgGJAmsDvQNnA8ICAgJZAT0BjAFRAmkDTQTuBCoFBQWWBDwEgARBBUsGhAdoCNkI8AigCC4IwAfCB6oHXQcbB5UGygWHBLcCzQAO/0f91PuI+iz5Q/fa9ADy7e6f63jomOXU4g7gSt1g2gnXFdNXz7rLd8gAxtvE4sTMxdLGVcdLxxPHtsZXxgDH+8iay9bOdNLd1QrZuNsa3tLgQ+Ss6ILtJfPb+Kn9uwE6BfsH5AoWDpwRmBUAGtAd5yBqI4klNyfOKPgqqy1DMAoyKDN3M5QynTBuLtss6itZKzErGis3KlAoeiUtIkAf6RwCG/sZXhmKGBUX0BTAEYoOxwvYCfcIMwm4CcoJGgmyB5gFcAOsAWYAIQBdAMQAYwGOARsBSwCN/yr/Tf8mADUBTQIoA38D8AJmAiwCRQLyAhcElgUMBwwISwhRCA0IkQc9B6gHcAgqCYkJcwmtCE0HeAW4A2cCLgEJAAz/2f01/Az6jven9PzxhO8O7avqQeiI5Vniyd4b24TX4dM30KnMjMnnxvLEt8N5wxrEzMQ5xVrFT8VlxaPFpsbPyNrL+8450tbVYtnp20zebOEa5T3pSO7h84r5VP5LAtsF4wjhC4UPrRPrFykcBiAKIxcl4SatKHIqkCxkL24y0DT0NSM2cDWsM1oxti8tL8cuWy4dLh8t3yqlJzokCiFJHlccFhtPGmwZ0heCFY8SLA82DAwKsQgcCP0HdQeGBiQFaANdAZH/if4q/kr+z/5g/87/mv/k/m3+Qv5C/sb+sP+XACUBRwErAdsAuQAFAbYBCAObBC0GngeECMcIqQhpCDIIOAhsCK4I9AgOCaUI1gfvBvoF1gTQA9wCyQGrAEb/if16+y753vZ29FbyGfCN7RfrPugl5RHiF98k3GnZ4dZ+1CvSzs9NzY3Ky8dbxVnDW8IhwtPCsMTCxjPISMnDytDL0My9zmvR5tTj2LncCeFO5Yvoa+sd797y5vaY+70AqAUlCkAOnRFpFJ0XsRrcHWch5CTtJ4wqZiy/LfUu6C+RMC4y6jOpNAg1FjVCNE0y2y/RLSkswCqUKYAoOSftJL4hqh58GygYqBX0E2ISYxE1EE8OAAyICf4GyQQpAysChQEoAcIA/f8f/wT+8vxe/Fb8k/xP/Vr+FP9p/8b/0f/Y/0oA1gCsAcoCwgOyBIsFDAZpBgMHxAeDCK0J6Aq1C0QMnAx9DBIMqgtHC+0KjwokCrQJEwlbCFcHSAb8BFoDxAEuAC7+Ivz0+bj3XfX18qXwX+7z62Lp6eZg5M/hHt+J3PPZQNd21PnRdM/kzCrKoMeIxbfDIsJ6weLBIMOXxN7FXcfnyOXJEcvjzITPoNL51eHZQt4d4p3lzejY6yHvtPLY9rf7xQBfBdEJ3g1QEYAUpRfkGj0eZSGrJGonrimjK+wsxC3wLl0wjzHHMsUzIjTCM5gyDzGZLyguhiw5K1Qq7yjoJo4kvyE5Hs4a7he4FS4U4BKHEdYPmg3+CncIKAY5BCADmAJ4AlMCCAKRAX8Ah/+F/gv+V/77/v//AwHbAUoCegKWArsCRAMQBEUFhAaqB7AISAmzCfIJMgqrCkILOAwWDdMNSQ55DkkO4w2NDUgN/AykDBAMiwusCoQJQwjbBlUF0QNVAtQAYP+t/bz7pvmP92L1NPMH8f3uyuyx6m/oOuZo5IHiWuCR3h3dYNud2dfXL9ZN1ETSXtDhzqHNisx1y8/KhsozyjXKwcqmy6DMws0Jz2LQ3tEx06PUJNf+2QTdb+AR5Knn3+ru7fvw6/Mb96r6b/5gAjgGlQniDLEPGhKRFA4XQhn9GwIfsSEVJBkmaCdKKOsoaSkjKrQqNiu6K/Mrjyu6KrQpzSivJ6gm3yU4JVAkNiONIZAfYx3LGlIYYhbDFE4TGhKxEBIPcw2NC6wJKAj3Bh8GbgVjBXAFRgWnBPEDZwMMA+MCHgO7A18E5AQYBVAFPgUPBQIFMgW+BWMGAge6By4IjgiaCKkIywgICVgJrwlECqIKugpUCggKswkkCZIIJAjNB2kHtwbXBc8EzgN8AhoB///J/pz9XPwd+6z5J/io9iH1u/Nk8gXxw+907k/t/+uK6kfp0+eR5oflh+Q540/iWeEy4Pbew92I3HfbatpU2ZrYBthY183Wl9ZA1vHVFNbP1mvX7dfA2MDZa9ok21bc0N1j3z/hkOMj5pLosOoh7ZjvwvEK9HL25fin++P+DwL5BHUH3wlHDGgOXxC+EioVUBd9GcYboB34HkYgkiFVIs0ikiNyJOIk0CSsJHMkWyTVI1wj/iJNImEheiBZH+kdbhz/GoEZNRgCF24V7xNuEuYQTg+cDQoM5grECb0IyAf4Bg8GEQV+BA8EqQM8AygDOwNPA2kDjQOLA3sDZQN0A7UDJgSWBOEEOgWaBesFOgaDBs4GUQfHBykIXAiMCJcIeghnCEMIIggaCPIHzQd+B/YGaAbbBWYFyQQzBLEDGgNtAnMBVABr/4v+bf1i/I37mfpx+Vz4cPcn9tT0/vMw837yIvKW8fDwQfC27wvvge7E7QjtZ+zM6zTrfur56dTpc+kG6d3oB+kZ6TXpZele6YPp1ekc6iLqhurc6iXrbesA7H3sOO3R7bHtUu4X71nvte878LzwJvHU8VTys/L38m3zCPSC9Bv1APby9u733/iq+bP6yvuL/Lr99v77/+0AOwJ0A5kEwAUiBwkI4wjcCeIKDgw2DYMOmg+dEJcROxK9EkoTrBMtFH8U+hRCFaQVBhbqFdUV3xWYFSUV0BRmFPcTXxMCE3USvBEiEX8Qxg/4DjQOYA2JDJgLsgqkCbwI8Ac9B8MGWgbkBYAFQQW+BC0EzwNtA+cCmgJaAh4C3gG7AYkBWQEqAfAA0gDEALMAxADMANsA2ADTAOwA3QAQAVMBHwHsAO0AEAF7AckBmQF1AXABUAEzAegAZAA2AP//k/+X/8X/2f/W/83/lf8f/4P+Jf7S/Vv9C/24/KT8/Py1/Dn8GvzB+4/7mftq+0T7b/tZ+0P7Sfvv+mz6GPrH+XT5Gvn3+Pb40fhy+FL4VPhZ+Bv49/ep9533C/gi+Nr3tff89zD44/fh97T3i/eY97X3qPe79wz4P/iD+HH4Yvg9+EX4jfit+Oj4Pvle+Xn5k/nM+RH6Zvqy+vn6cPv0+3r81PwE/VL92v0o/p/+A/9C/6v/4f8EAEMAgQCrAN0AHgFuAcUBLQKeAucCJQMfAxMD6QLcAvkCFAMoA08DgAOBA4MDiAOgA5sDhQOEA3MDVwNLA1wDWAMyAyYDNwM3AyQDCQMNAyMDLwMzA0QDPgM7A1QDigOrA7cD0wPWA8MDwQPVA+UDEAQ0BE0EeQSWBK4EvATABK4EtAS/BMIEzQT3BCUFGgUQBQoFAgX9BOgE1wTEBMEEpQSMBHkEOQQhBBgE+AO2A4QDWQMjA+kCqgJtAiIC7wHTAZkBewFsAT4BCgHNAI0AWAA3ABsABgDP/4f/Zf8y/xr/Dv8Q//j+2v69/qb+jv56/nz+aP5h/kP+Jv4p/jb+Rv5Q/kj+If77/eX93/3u/Qn+Lf4x/if+Nv49/ib+E/4u/kT+Ov4m/hv+7P3u/fT9Bv4j/jH+L/4j/hX+7f3F/bv9xf3S/b/9vP2s/Yr9d/2G/aH90f3L/ar9rP2h/YP9cP2P/aH9m/2n/aD9lf2b/cD92P3N/dr91P3a/cH9wf3f/QP+GP4r/jP+JP4r/kj+f/6r/sf+tv6//vD+/v4R/zz/Sf8t/1X/cf+M/+f/SABZAD8ALgAaAPP/LgCiANEA1ADVAMkAsgDLACoBawFVAR8BKwESAUUBiAHQAcQB4QFWAWABqwGdAfABvAHkAYYBtAGlAZwBogGRAWMBYgF2AZcBnAG6AfYBmQGaANkAkwG9AQECVgLbAesAngBFAccBywImA1sClgGuAZIBlwNjB+4JzgdWAnv8yfj0+Hb8Rv/JAWEDcAL2/z/+Gf51//D/GQDdAMD/Cf8b/7n+eP/fAO8BgABH/kz8nPp1+pP/0wc5DY8MgAeL/j33XvaN+Yf+XwM+BkIFowEp/0L+G/1g/Df95v/t/yD/2f/w/9n9Cv8UADUAIwDa/6j+Jf+Y/jH9F/6b/3L+nfw8/pH/M/8PAqICdv81/mn+VP6r/gQA/QCOALn/GgEKAZcA1wE5BJIE5gA2/Yj8wfwoANsHFgv3Bi0BIftK+En9MAPxA4oB2v/5+x/5bfp+/UQBxAEWAOz9Q/yDADcBifzt+3X+mf4Q/fb+jgKfAQf/hPzP+lf/kAYrCfgE4QD2AKH8T/oQAKwDHAKR/vj8uv1f/8X8j/1+AsMDGP7e+4j/2QGZAM0FIgkhBJL8svrG/FT90f+tA/8Cr/7w/If+1f4gA6sFdAO6+vv5XgS2CUwIpgMQAEL+yvjE+KcAEQjOCfMEkPtm+lsAqwG4/q8ABQBW/ZX8Qvln/aoFZQZGART/pgN5A7377fZs+xQDpwAR//EBrgE+/Yn8oQE0A9wAzfxJ/cL/Sv3v/KADfQJQ/jgCvABe/RIEEgFz+Dv7awU2BQL68fzhBoX/G/ozBbILqf4Z8Zv4zP9QABwHEQl5BOn62vG3+KkDpAR9AnMCWAE7/En6LgIrBcD+1/sG/Oz61v8aAmQD7Qij/oTyuvWu/8gHfAhE/f364/2I/6D+Qvry/0MD3fyo/u7+CADcAMUAlfzl98kB5gnOAfv51vsF+/v+9ADu/s4CUQfQBLT6ffW8/cX9b//qB7AGQvxK/3sBAP3RASIAa/66BeAEsfqj+tgCYf+HASkJcAX//M34RPri/LUIHgxEAH76tfmA/0oC6QHOAfsBHf6F+bACnQRL/pX+OQAE/dT52v7zB2oGvgAc/IL9UvqZAAYKbwDN9uT+vwdZ/sz52wBYAXv+kwGdAs3/QvwK/AYAkQPfBPX+T/2OAfcAgfw7/L4BiQMXA3P+C/tSAOYE4AA8/mv/H/3v/9MBn/8SAqwAOP5pAfAESAEe/Lf62v5qAecDRwYzBF/4Pvae/PAGOghN+3z9lALq/8b6PfxhA9oASvlj/KMDeAPcAZYClQCN+QT5c/5z/jAAaQXuCJIEofmV9Yv98AWbBCr7Jfw6/qcDwAmYAiv6PQD9ACX9bPvFAXgIVv91+X4AWQDlBKoAfvqj/5MGEf8n+tMC5Ag/C7X+IfAu9QQDHQjdBuQEtgNtAFr8+frl/kz/bP7RAlEIrwHS/In/1v9z/30BeP9l/WcAuwUyAjMAjADg/437z/SD+gAPyxB0ACT2R/kg/Yz7rfyCBWQJyv/d/EoCTgIX+977kgM1Av39yv9wA8L/0P9GBZcBR/f49n0D9whPBjsAH/uY+8AAPASa+E779w2QC8z39vQABHACY/b1/t8LrwhS9v/xdQSvDD/94/LAAAAF1v8nAlkDDgDe+UL78v9DAZ8D7gHXAPv+Uvjl/AIJoARL+xQAdAZMAbf9Xf46+QL1bAACCrAL4wUk/fkB2gN8+EP3igA4BKQDtPpQAv0Juf8+/2UCe/l175YCzRQXCNn65Psk/XL3mvYFAo4OtA1ZAZH4+fsuA3j9i/0eBSP/R/trAb0FegJ1/iMAEwEP/nj9HwVVBRr9TAB/B1T8V/v7//D6c/4+BkIG7gWy/4v54fs2ACoDcgRJ/8D8BQJM/mr3tfv+C4cPaQMB9V7zpvuE/MIB3A2rDkf6Be5i9dsBywTTBwQKNfpX9/79kf+w/YwDlQu9AxX1M/gT/4L5hv3oDQIP8wOm+RP2vPaf+a0AZAdaBBMFUgrf/Y7zc/uV/WT/PQQNBTECR/xM+vL6b/8YCVYDGPy7AfsGfP9P9Kz3gQOuAxL+zQAVAsP/5Pxz/1UD6ATA/932qflMAbYBWQLLART/iP64/kv+b/5KCNMK7fSF7SH6IwXJBcIGAweBA4EEGvuX7t30zQAQCXULrAS6/nX7UfeEALIGq/3497QAjwXLA1sNHQX883PtdPS6ASkMzQl4BhkEb/58+fj7Uf2T+VL81AYvC/ADmgBD/XD6b/ry/TsHsAklACb8UPypAtgBzP7J/nf9Pf4I//n7LAJeCjgIJAL5/X76oPaF+fwAhgY+CKkKSAXM95Dyb/odA8AFdwrZCIb9e/MN80r7JAUiCwEMYAZo/Fb4p/l9/HsCkwXVAYD7Hvgt/bkFhweICGYDPfqd9fT26AJsBpUAbQDBBr4ClPwXAI0C8wKT/T/6x/7+AXAEywP2AMX94AHUBIP8dvpx/voCbQbqAIz+Lv7F+Hj64P3sAP0EHgo9Bmf6DPX89T/31f4cCXIJHwiWBWL6XPFf9/UAjwKIBPsDSAWOA4T5+vsrBbD/uPoe/wMEWQcQAYn8qvwi/q4Biv5nBL8KmgSt++74zf3DAov9cfmS/7wC2wRXB4oG7wHA9jrwJvbZASQFowQGCcMI1v3M9qT2M/gR/r8HkA4mDVgCZvYX84L06fgoBLcNkAy7BmH9Kvh9+h39ff+IAX7/PwAeAggFjAiCBWv9cvdE9gX3Yv89CWsK3wkTAmb5xPVp9uv64gArCWQMUgmp/0b0ofJW+Bn/BQltCUwFoQFk+hr2yflJBIoJswLG/C//JwMzAQn9d/wP/f75nPwKBLoKDQtuB1r9efVC8wH2HwBGB04GxQX4BST9sfez+bz6Uf6BBAwHOgS1/fr5U/u9/iwCpAFMAlgFcALN/P37+fux/FAA3AJ3AI8AhwQGAvv9o/xB/i3+GfxVABEIlgX+/eb5Hvm++sL/nAbfBqMEngAg+373WvjU+koBNAXGBp4GDQIzAET98vfM9cf2E/zIAyUHDAlZB5sD0vxp9Yv08vkxAvsGkgcUB5cEE/uF9DL3j/xFAsQIPg2eCLP+LPom+SX4Evqr/xcEHAekBe4DigWPAT/47/R59+n7PwI1Ca0MZAgb/jP2L/OT9fL7VQNpCXIJKQS2/oH49fXf+Sv/CgT/BO4Cw/6y/Gv89f4JAq3+iP3A/lL+A/8zA68D1/92/t79V/ua/XcDKwdGBQAA6/vw+lb8bwCgA+YEwASsAdb8NfqU/KIBLANKAeQApgAr/wv9UP5V/8H/8P8lAEMBmv+d/ln+4v6oAGcAhf+o/+D9o/3c/bT+OQDt/lb+R/9N/3IAYAHr//v9tf3w/sb/MwChADcCyQB3/kb9Zv/WAR0CSQH/ACQBk/7O/lsCRQOfAd4AwAC+/0H/jwBdAm0CsgBhAFgCugLNAK//x/+4/jL9Bv/3AJIB6gG8AJn+7P6GALgAIf+l/h7/Qv+U/5f+s/39/SH/Uf91/yAB4AB3/6b+Uv40/9EASwCy/lv9Bv6w/14A1QC6//P+jf6s/rP/XwF7An4CxwHJ/xD9uvuw/PP+zAGZAxcDCgIxAekAmwAOAEL+AP1//T7+jP+UAd8CawFG//L+MgAx//X90f1X/Wz+TP+i/24A8P88/tP9UQCAAKn+Jv7v/nj+pP1J/Qb/7f7v/fL/CAJ1AiEClAFd/6D94fyR/ML+cwDtARAD6QK7AoMDwwJvACD+O/1U/pD/qgEbBBwFMQPn/2n/7v9zAAsCBgPAAecATP+9/sD/ugAaAakBNwNFA4sBIQCv/5D+CP2t/VMALgKGAu4BhwGJAWz/Af79/sIAwgHjAUECNAIUAaz/hf/m/9oAsgKjA6cCEAF9AP7/5/73/8ACHwTuA2sCvgAA/x7+x/79/ycBWwGoAJsA6gD6/+/++P4e/7P/tf9q/3T/0v5W/Wv8J/1j/ub+aP+e//f+cv3Y+5D6mvma+Y76Avwh/WX9hvzk+sH5ePjT90/4g/lM+oz6oPoU+mn5//jZ+Nn4P/k7+oX6jPp0+lH6DvoQ+nP6IfsL/Ef9MP5w/mv+Jv74/cj95f3V/gUAGgHoATMCJgJFAmIClgL4AnYDNASWBNUEcAXCBaIF6AVhBlcG0wb6BikHDgfpBnEHRgcFBzMHLQd/B4cHcgduB9wGBgc9BzsHEwfiBu8HNAjuBxIIYwhTCP0HGggHCDMIzQgnCfgIPwm8CagJiAmeCW8J3wiSCOcISQknCQcJvQjjByoHtQZTBvMFhgUpBV4E6gLwAUkB7f+l/6f/kP73/M375vrK+DD3e/e79q30gPNI8jnwiu7M7Sjt5Otl6uDomuam43LhOOCQ3tvcZNsJ2lLYxNa71RDVXNWM1mLYfNtA4KHmIO1B8vj10fck+KD3l/dn+loAJwf6DlEX+xysH8IgnSDiH2Ifyx8LIVEiNCMSI4ch8R45HO0ZVRgFF3UVTRPoD5AKIwRZ/f32vfIS8RDxMPEO8R7vwupf5W/g8NxR2yLcH9594G/iNeRH5UDmn+e76cDsbvBH9JH3RfrP/NL/VgOSB1YMExGHFS0ZDxzPHWoeyh4/H/0fdSGJI1AltibgJpcljiMwIa8egRyNGsUYlhbBE5IQ/AyrCaoGMQSLAnEA0f0U+1H4jPXX8lbx7vAc8QXyh/N09J70SfRI9N/0hvVj9zL6Ev2g//oB1ANXBXIG6wfjCeYLVA7SEFES2xLYEnASFBI5EgATBhSFFGMUqRPyEZwPLg2fCiQIjAYOBQADhAAp/Xf5PPXt8FPtf+pu51vksuCn3O/YINTUzlvJn8S9wGG9zbvSvCO+T78Bw6nJtdFM2VPhoOoN8TjyJ/Lh7wXqiehm8NP/vRO7KVc7c0HYPEAzQCrsIqEhHSgHMdY3xTzVPgw8lTVjL3EqHiWiH1kcthiDEW4ISP/f9tDtOOhN6I3puuoj6rTmEN6d0ZTGWr+0vPm/0cfm0C3YiNxg3o3dDdxd3JnejeLc6G/wd/fT/fgDHAmQDTIT0xlEIC4mIyv9LQIuUSyqKm8p9Ck6La8xgzXwNk41CzCkKGwhDxs7FloT0xGlD3AMSwkgBen/zPo89gvyYO7o6yTqaehi5/nmzuZk57Po/uqx7RzwufLZ9Fn2IfjI+vj9hAH2Bd0KLA/3EugVjRepGJ0ZFxpbGtMacBsxHKwcUx1cHeMbSBnwFf4RJw60Cp8HNgXfAsQAvv6V/Bn6AveE8wzwwexY6YPmm+Sz4pLgPt423IPZxtYW1K7ReM+kzNvJVcf5xCjDisLYw6TGVcuJ0nzcLOlQ9Qb+wgLeA6YB0/06+/L7x//DCAIZPyy6PJtITkxoRTA4YyvzIkog2COqKwUzKzWGMjUtzSQ/G+ETWQ5HCecDbf4Z96ftCOSA3PLXWNbU11vbmd6n3uDbFdVjy6fCHr6Mv/7GAtNW4BnrAvIN9fj0FfTr9Fj4Zv44BuAOeRbvHEciJyZLKUIs5y7AMR80QTX6NIQysC5ZKtMleSKMIPkfFSA0H5IcYhekD4QGi/3I9Q3ww+wA7CztzO5P8Gvwj+6w6nbmieMp4lLjR+ek7I/xZ/Yp+vj86f+YAggFewi9DGkQlBNsFl4Y9RlZG2MdJCDFIpokfSWjJOgiYSDQHMYYNxWUEj0RpBBFEN4OvAtjBxwCBP28+Jn1q/MG86HyZvKX8Sbww+7W7JzrW+q56SnqSur/6RDpsui36LDnNuew5qvmDebg49jgRd302NvTWc/hzJ3Nas+y0onXmN1e5Ofq8PJn/IcDMQi0CMAEKP1h9u712P2YDBYhizVIQapDRT/vNEoo5x5QGisa7Rx/ISQn9igqJsEhVRrUEOcIqAPD/976U/Vm7mTlW9wR1oTUGNdI3L3iT+bS5N7ePNbKzX3IlMiQzizY1uOa7zD5df9oAlAD4gKHAhEE8QdtDR8U+xqZIPIk2yfpKVQrriyJLuou7Sw0KcMjwx3gGJ0WsBUiFcMUPxMmEPkKBwWo/i74JPNM74Ps0OqX6uzrBe7S7z3x+vGs8ePw1vCn8YvzcvaM+p//dgQMCRwNqBCmE3MVeRa+FrAWahdSGDEaNxzbHUgeKx4QHT4bxRixFcASnw/9CwYJ8wabBREEjgLWAIX+zfvY+Fv2SfP38MDvYu8j8DDxPvJP82L0KvW19fH1nvVo9TL13fWG98n4mPkj+hn67/gX9971XvTq8X7uNOoB5bHeuNhe0/rP3c0hzbXN3M7H0WPWoNw95MzsWvXX++X/NwCz/Kb1Me947i72qwY/HIwyY0ImR65CCTiLKrIe+xixGcMe2iQnKjMtHCp5JLIdyhXhDYkGJgC7+ZXyk+pq4wXcdtX906jV2thP3fbf+d5N2gjTZMzayA7JEM8+2QLlTfAy+vMBoQYmCc4KZQtwDMIOABMHGdsfaiaqK00vwjB9MAcvLy0CKxUoniQ+IO8afRWOEKMMiwkoB8UExwEa/pX5afSX7mrppeXC4lHhZ+JN5e3o4Oxb8HXyq/MM9WH3b/pF/poDTwlXDggT7RYDGmUcSh7fHyMhICKgIpcieiENIIIeoxzrGiYZGhfGE7APZQs8B2YDvv9R/b/7IfqD+IP2+vMG8X/uPe0N7dztL+9t8Lfxn/KI81n0jfWe9yT6Nv0EAGsCmwTFBQoGFQZdBo4GkAY0BjEFmQIL/7T7/fiE9hj02PGm7pfp9uI422rS+clcw2O/Tr4KwPHD7cg9z5fWUt4b5l/uDfey/tkD4gQHAgz9mvld/NUGOBizLLc+zkmETL1HUT0vMVwnlSCeHHQbnhuiG3EbJBrFF3MTDQxyAyj6j+955Yfc5tM9zTjJUMgoy6/QZdeM3cngXOCV3V/ZItYk1iHa2uE57KP4zAQPEAUZmx9tI2UkOSMBIsMhmiJXJRYp4SvnLT4uOi0dK44n9CPRHrQYGxHiCKQAdvg08tDtr+v26vXqeutt68rp1uao4jDez9pM2UDbKeBB5zbwnfgAAMMF7QnqDGIPjxJgFlUaeR6NIikmzihBKmgrQSw9LKwrICpkJ0IjtR1xF60QUgpiBTQCmgAy/639mPty+A/0Ee+A6pzmleNQ4kHjcuUN6MDr4O8d8+r1p/jf+mX84v1q/7YAxQGkA60GKwruDcERmxQ0FikWCRQvESQOvApKCAUHmwW1A/cBXP8q+wf2JPGC7GvnouJN3obZWNShzx/LKcZ7wU2+QLzUu2i9JMDaw3fJttHr3OnpvvdLBlcTyRwgIRYg+hprFBMQZhIKHYItEECuUEta41kUUKxACC9jHnASygtvCCcHpAbmBEsAd/k38k/qseGa2snUS874x9TCX75Guz67zr+ByG7TUN9i6rvx7fSv9Zr1JvYp+cf/4wnLFS8iVS62OHY/iEKPQmM/oDm3M6sunSpwJwklHSNcIFwcshcYEkULYwPx+rbxB+jK3u7WD9GJzavMD87I0L/Us9j1267dut6w31/hCOU/67jzJP03B+MQFRnNHxIl9yhzK50try8KMbAx+jGbMWswni6vLDYqEye/IiMdsxYPDxsHO/+j+FnzpO8F7c3rdOr86JLntOUi5OrimuL74pXkzOYu6rLtIvL69m37GwB6BDoIqAq4DDEOMw9lD5sQehEtE2sUuBU9FyMXLhYSFBARzQ1SCi4HRQRoAcj+5vw3+yL6p/gk92j1B/O975vrouee47LfEt0P2x7Z2tei1gXVpdLZzk7KCsarwjTB5sE6xBvJ39Br28roMfgLCbUZkiftLwwwKCh7GjoMKATwBgcVBSxbRehYr2HfXetOezm2IrIP4gIT/I/6FPxA/Wz8Ofm/8ybtquar4JbbltZA0SjLSMQjvu26w7xrxK7RrOJT8xQASAfBCNYFlgEP/y0ArAV/D5scfyq/NuA/w0S9RGJAjDn/Me4q/CSVIHwctBfnEeYLRAYdASf95vkv9iDxbern4V/YIc/ox0bEacTDyITQw9m54g/qxu638P/wc/GN8zH4lP9PCc8Tnh3qJbcr8S48MIAwcDBBMIEvxy2GKsolKSB8Go8VrxHaDqQMbgp5B7kCG/yf9CntzOZn4pDgK+G7417nO+t17pLw7/HA8rnzR/WY97L6h/4RA6sHLwxfENsTiBY/GPgYwRiXF30VcRNjEbgPmA7hDZ0N1gy0C9gJywacAgD+RvkY9U/y8fDn8MLxOfND9L30r/TE85jynPGw8b7x7fHD8uvzv/QE9Uj1VfXP9MLzrfIO8Xvv1Oyu6TPms+F83e7YZtXf0iLQI82QywrLE8yU0BvZg+je/N8UrCxNPGo/kzWvIkwMF/u79gUAcBWyMHNLw13zYStaTkiUML8YeQWz+D/xxe0C7evsl+mA5Vvhrtxy2e3XR9jm1xrVV9Arym/DN78swVLJ1tZc6In74AxDGhojACfSJa8heB36GpcbDiAZKNUxpjrfQO5Cyz+YOPAu5CO9GD8OwQTN+2fzEeze5ffg293G3MncvNxV3J7ac9cx05vO8MrFyS/Ml9Lc3H3pzfY1A3UNrxQ5GcQbXh3QHq4gtyNuJw0rPi7tMLQy8DL8MYIvJSshJasdTBUUDPACdPpc8zbuN+sp6l7qVusz7OfrJep/58rkeeKM4eridOa06yryUflbANgGvQzCEQkW3BiFGkQbHRsLGpkYVBczFisVmxRbFPgTihPuEowRBA9nC8QGNgFF+wP2QPIy8PDvg/Ff9O/2Hvk1+qv5x/dP9WbzgPK+8in0vfZe+Z37if2m/rj+E/7o/cz9gf20/e79tPzL+Zb2ifJa7VroxORi4vDgR+GI42HlheVe43fe8NXAyhzA4rieuAjCjNXb8NEMziMVM0Q6xjjuM5YuFim6JBAgzRs9F4oTqRRRG7kmUjR8P/dDXz6rLT0Unvbg2YzE2rkkuVjA9MvG14jfNOJi4O3b2tYz1GnWkdtU4mHpTu+t8xX33/s0BAIQuR5rL8c+qEnPTaZKSUHAMyYlaxn0EZQPChJRFzwc9B3GGjYSKQWd9W7mMNmgz1jKf8gFyb3K8Mx2z3zSJtYX24PhWeh+7172W/zOAC4E5AcjDHcRgBhKIaMqNTPRObI9vz3dOU4zcysdI2MbaBXoEFYNSApFB6wDJ/95+tH1JfFt7PrnauN23k3altdc1w/aDeB66Lrxu/rcAVUG3gdsB3YGlQZNCGwM0hIyGoEhQCfqKqkrASqrJlsipR3zGIQUThDjCyMHLAK7/S36mvdN9ln28fYv9532Z/SF8N/rDujr5TvmOOmR7jv1zvseASAEmQSnAxACPgEPARECWAQKB20JEwuxC7wK3Qg5B5QGEwYrBf4DRQJN/u34gfOD7hbqHufZ5TjlLeQa4kvf09rS1FPOFcdxwT69f7sGvgvFVc9E2yPpHPawArUPWR0wKrMzizk5O2Q3yS7wJeQdcRhzGOgdfifxMGQ4+zzNOSIu4RxCCH/zN+Et1avP1c650XfWfNrK2z/bfNrk2b/Zvdsq37ziJOai6Tftj/Au9aD8LwadEWgeJyvbNbA7GD3TOYkyNSkLIEgZjBW5FD0WGhgXGCYV9g7vBcX6G+8D5T/dP9gF1pbVRtbu1sTXX9go2fXakt6f5P7rqPPW+sMAbQVyCVINIBKOF2AdaSNKKBcrmyx3LMEq6SdoJKogoRxeGKMT8A79CRUFSwBg/Nr47PWF82TxAe8j7Gnpqea05BDkdOW16E3tovI9+EX9hAHmBG0HvAnxC2sORxFmFJoXUxpdHCsd7Rx2G5kZWBcUFQ0TeRDIDVAKeQZLApL+V/v/+F/3A/Ze9Wj0QvPG8U7wPe987nbuK+/W8Jzz8vZT+ln9qf84AV0CbwMUBfIGPwnZC/YN9Q4wDnAM8gm4B0MG3AVvBbQEnwI5AL38Nfh59Jvxo/BL8CXwDO9n6pTh3Nb9y3DCML0EvXTCwcqz0r7Yfdiv0+zM1soE0ZbgO/qDGNg1T0vhVH9RoUIpME4gixeVF20eICkgMrw2xjZ8MTsoUB18E2wLGgON+i7wH+Tf1n3KcsGwvI29VsOrzUvZ8eOK6xDvYO8z7a/qpum+697xa/v9BlUTMR8wKcswcjV6N6U32TUhM40vZSsEJnQfvxdVDwsHg/8S+pP2ivQb8/3w/+ye5nXe69WPzhHKmslKzTzUutx45dXttvTh+Tf+OQLbBtgLaRF9F9wc0yDhIyAlDSWbJKskxyV6JqsmciVkIXsa+BHLCBMAMvkG9enzNfQk9UT2Dvb+80nwT+y46Fzm8eXT52Prhu+R9IP54/3hAfAFRApgDvYRKRUVF68X7RZDFWUT9BHgEUMTRRUrF7cYhBgkFq0R5QueBdX/jfst+Tr4wPfC95z34PbH9cr0WvQA9EL00fQb9U31qPWf9gX4QfrB/O7/4gJ9BS0IVwoXDHsMjAyhCzIKbAgpB30G9gXeBasExAN4AqkAMf43+nr1IfCb6yHnYeQH49zhb+BY3iLbqdbT0enM4sjsw+G/u75PwLHFz84H3EPrefzGDvof1C44Of0+/D7eOekwQij9IEAdSR6pIpopjy9YNPo0GTEbKQce0RBJAU7y2+P41k/Mw8RmwevBLsbyzH7V+92R5XLrB+9t8Kvvp+6d7ufwGPWd/G4GNBF/HD8mti6GNP830zj7Nrky3ivtI2obyxIRC9UE4v9g/Mz5/vf59UDzEPC+69Xmo+GI3E7YrdUQ1YjW3doM4ZDoPvGz+bAB3gegDEoQ7BIDFTkX4hmaHDcf6SDyIQgi0SDkHpYcuxlVFpMSwQ5gCmcFRgAK+3v2XfPD8WjxnvEr8onyMvJb8WzwLvDd8BXzxfYu+1//jgI9BW4H+gjDCj8N7A95EtQUIhb1FWoUeBLPEDcPPg7mDcINPQ0xDJ8KQghFBRQCaf87/XT7oPpk+mf6mvqI+nr6zPkN+a74vvg8+bD5T/ql+sr6HPvO+yn9CP+kAdEEbgc7CeoJXgkeCH8GLAVlBDgEJgV+Bs8HnwjPB7kFTgIM/qf5j/Vi8h7wuO7X7T3tKexs6hbozeTB4J3cdtjI1WHUsdPH0xvTGNGCzYLIBsXmxUnO+ODx+/IalzdtS25SDExAO3Ym+BPXCOAHXg93G2onZC/EMa8uvSdYHxgXyA9fCGoAyfVR6FnZBMuYwI+7iL1exvPT5+P/8lb+KwQbBMD/jPn+8y3xiPIf+D8BNQwRF2UgNieMK+ct+C4PL/wt7CpvJTodXBKPBkj7hPKg7XrsgO718SL1qvao9eTxI+yb5XDfztoI2XzaA9/r5d3t+vXj/AMC6AXwCDQMPBA4FXUaMh6CHxEeeRqVFUsRBw/JDxkTeBcjG5MbOBg8EecHUv739avwLe9x8IzzsfbW+Db5ZPgG9/H10/Uy9y/6hf2BAJACHQOuAvIBtQFhA3MGpApPD0cTlRWJFT0T9w8lDFoJtgefB0AIXghmCCAH7gTqARP/8/wb/GX8Sf1c/qf+of5O/mf9x/xW/MP8kP0Z/sD+TP6//R/96vwA/an9L/9PAcUDfwU3B8gHMQcIBgoEcAIGAfz/HQDw/7L/Gv8X/nz8L/pw+OT23vWB9XD1G/XB9LPzxfGj7sjqPuf04+3hPeH94Fjhm+HF4H7ec9k00zfM/sYrxxXPPeBs+YoWBjFHQ8JJAUQ6NYQi6RFHCEYHgA05F0ggfiVpJcQhDxyGFrsRKA5iCh0EqPrF7Snfk9A2xZK/nsAqyCbV9+Qb9f0BtQnECwYIbQGg+qz1i/So99D+kAiYErob9SGkJUUnwycsKKon+iVRItEbCxI7Bj36KPAQ6lzoiOp575n0/fjf+uj54/Vd8OHqROaD4wnjquRX6JXtT/MR+d39BALQBfQJOw6OEvcVPhhUGKIWEBOPDskKYwnDCoYOQhP7Fh4YqBW3DxYHtf1i9Ufw0u7S8Lz00/h1+5D8EvwS+3P6APvA/ID/TQJCBPYEwwPiAV0ADADMASkFhglTDvkRFRQDFGQRYg0ICUYF9QINAl4CWgNLBK0E3APOATb/5/xY+9D6Svtw/IH9bP7o/tX+uf7y/tT/UQHtAmMEDwXqBBAEogJ5AdIA4wDxAU0DwATnBU8G3AXiBGcDyAE9AAD/1/0S/Wb98f17/t/+mP4f/kz8FfoS+LT1CfQa83vzBfSv87Xz0/IG8czunOzF6rbomuep5qPl9+NK4fDdMtkG1FLPXMxizBPSpN+Q9PkNVCf4Ox1H70aUPLoryhlTC2QEHAYjDfwVEB3xIE0gjxzNF/oSPQ+eC1MHCABB9RHoA9rqzYTFs8J1xpDP+Nxj7MH6NwaLDMYNlQqJBB3+sPnx+E/8IAPQC3MUIhtkH5QhfCLzIqsjUCTRI3cgdBmPDqkBAfVC64fmZ+Zn6nfwUfZ4+lj7cvl89XPw++se6RfoE+kD7ADwtvQk+Q79JQCWAi4Ffwi8DLwRRhaQGVQaYxgAFG8OOwnBBR0F4AZFCmYNBg8PDuoJ7gMC/b72gPKf8HDx4vMq90f6Zfx6/V79Zv1//YD+VACAAhEFqAbjB+IHlQdfB18Hiwj7CQ8MkQ1nDh4ODAz5CfwGqwRXA3ICRgORAzkESwRKAx8CGgCi/gf9B/zl+/j7kfzm/ID9Rv4T/0kAJAHoAYICxgIEA/cC2QLZAioDigPPA7EDOAPfAoUCqgIDA3YDAgQzBPMD4QJzAcv/cv7e/d/9k/42/8b/u//i/oL9UftJ+ab3Wvb+9eT1KPZM9vb13fRR8ybx5+467dvrfeuJ65zrbOsO6kvn7OLO3OPVLs9pylrK8NCe3g3z5wr1If8zWz2pPTc2ICrwHaIUvQ9RD0IRuRMeFZ4UJBPZEXcRfhIEFGUUKRL1C6cBOvRP5WfX08wwx23HuM2L2O/ldvPO/pUGywk7CT8GQgI4/xb+f/+zAvgGKwsED3YSSxW+GEwcQiCAI9MkmCOPHqYWSwxbAav33+/t6wfrV+1R8Tj1mPi7+UX5Vfd29PXx+O8a7wjvqe+J8FXxhvJQ9Hb3/PvKAXEIqA6rE5gW8xZLFTcSug7IC6UJxQjZCDcJWwnICFMHRAXMAq8AHf8v/pv9H/1b/Aj7WPmF9yr2nfU19gT4xPoF/iYBvgOUBZgGFQc+B3UH3geUCF0J2AkgCrUJIglfCOAHxgf+B4EIpQg5CO8G5gSJAi8Alv7P/db9ev4d/1n/o/5a/cz7Z/rY+UL6z/v6/UoAPAJHA10DsgLnAV0BYQEhAm8D3wT2BYMGMQY8BfYDzQLzAWABWgFyAcABvwFlATcBjwApAKT/Wv8f/zX+kv0j/Mr6R/nq95b3Hfeq98/4MPr6+wj9cP28/PD64vc29Cnwf+zX6ebn9+b75XvkgOHF3PvWr9BjzJPMfNMK4RL0eQm9HNMq0DB2L2komx5cFmsR5hA4E4oW6xjSGO0WHBQREo4RpxLHFPMVsxS0D4wGQPoo7JTer9P3zLfLyc/917riy+1393T+TQKBAwAD+gG2AaAChwQgB1IJ+AoeDBcNlw7+EL8UQxmqHbwgcyE6H9wZJRIhCWEA/PjP8zTxqvCy8Wbz9/Te9dH1QfVy9O/zw/Pd8xr0A/Sy8zjzEfPF87D1Kvm6/agCngfiCy0PShFxEskS9xF1ECoOVAtwCOMFBQQsAxsDdAOrA2QDtALEAZgASv8y/jr9O/wb+875p/iw92L3BPhQ+Wv78/3mAP4DpQbVCDoKAgvmCiwKDAmoB7kG2AXWBSwGrQZUB30HiAf3Bh8GUQVTBJgDtALDAbkAIv+F/Y/7BPrw+KD4afna+ur85/58AFsBWAHiAC8ApP+s/zMALwEsAuMCPwM4A/YC5QIrA8EDhAT3BBwFiARkA+8BVQDn/vb9pv3y/V/+vP7S/ov+xv25/Hb7SvqH+Rr5fPlh+pL72fzL/WL+e/4c/mH9avxo+zj6pfim9u7zWvA47JDn1uJT3ijarNYL1E7S5tGx0+nY1eHk7hP/HxB8H2QqKy+hLSUnhx7oFjsSMRH0EhkWpRhJGdkX/RT/EcQPwA56Dp4NAgu6Bb39Z/MX6KLdTNWS0OfPZtNf2o3jdu1d9jr9cwE8A2IDKwOpA3sFkQgiDGYPZxEjEuwRdBEREvwTchegGxsfyyCFHyUbFRRuC2ECO/q884DvYe3v7KTtAe9z8LPxr/JV8+HzkfSP9cj2Ffgb+bP55PnM+fr53/r3/FgAqQR5CfINdhHUE78UWBTZEnwQxQ23CooHewSsATv/O/3l+z/7QPu/+7X8//0t/wwArwC4APD/qP46/e37P/uY+//8a/9fAmwF/QfXCcsK4Qp5CpcJowiVB4gGNwXdA5QCZAGfAEYAjgAhAewBCQPvA4wEiQS8AzwC6v9a/dz6G/lq+Pr4z/ps/REAZAL7A+MEGAX9BPAEsQRlBNIDyQKDARcAwf7i/bH9gP78/+IBfwOVBA4FdQQzA0ABH/84/bP76/qX+nT6nPrO+h37q/tf/Hf9yv5TALkBxAL3AiICnwCd/rv8PPs4+uf5pfkE+dH3S/W58TXtI+gO4xneptmu1WPSHdC0zzjS+tiI5KXzkgRKFPYfQiZ3Jh0iCxyAFp0T5RMoFgcZ3Rq9GvwYHRZqE9oRhBHNEXgRSg9cCrECqviN7bnin9m506HRlNMK2fjgHuqu8qD5RP6hAFgBcwHNAUIDqgWtCJoLhQ1KDjIOFg7vDk0RLBUCGnweNiE2IfIdyxeuD+oG5P5w+Bf0zPEZ8WLxB/LL8mDz7PNt9P70r/WW9o73ZPju+Mz4Kvhr9+j2Xvf5+AX8WQB1Ba0KRw+qElsUYBSuEhgQ6wyTCawGIQREAu4AHwC1/2v/C/+4/ln+3v2C/RT92Pza/Oj8LP1i/XL9p/3H/VH+Zf8eAaEDXAbpCL8KfgvtCl8JXQc/BaUD0gKFApICuAKgAm4C/QG0AZUBqQHlAQ4CFAK7AeoA4P/H/qT9tfwX/Pb7RvwG/S7+lf8QAXcCsgOcBB8FQQX+BHUEqQOzAsYB6QBRAOv/tP+z/9D/8v/8/97/pv90/2H/cf/H/xoARwA5AND//v7r/e38KPwK/Jj81/1O/6gAmwH6AcsBNQGQAPr/x/+M/1P/3f7l/YX8kfpW+KH1v/Jv76/rYedG4rvcutb60EPMqcl9ytnPe9ra6Ur8KQ95H24qqS6mLFomdx64F7cTwhKSE2kU/hP7EcIO6gvuCjAMaw/CEocU8xItDbMDqvcT64jfo9YX0UzPDdEI1mPdEOb/7hb3uf27AngGVwkODPYOxBHeE4MUexPqELwNRgumCpQMpBDnFd4a2R3lHcsaMBUqDvgGoACr+/b3GvWp8jrw3u2863DqcOrl68ruhPJ+9vn5TfxQ/QD94fua+tf5JPq++4v+XAKBBnAK2g0yEJ0RCxLEEeEQcA+TDSkLMwjeBGgBHf5U+135h/jJ+NH5M/uc/Kb9H/4u/gX+yf2p/Z39vv3//Vb+DP8kANMB0gMEBiQIsQmRCp4KCAoHCdsHuwahBYgEYAM0AvEA5v8n/+7+F/+F/xUAbQBzABsAeP+Z/qr97fyP/In88/zR/er+FwAcAeQBcAKXAqgCywIGA3EDvgMJBPADVwN3AnQBfwDu/7r/0f8TACMA+v94/9L+Pv7D/bP9Hv7b/mb/j/9a/6L+4v1K/T/9wv2t/tf/2gCrAfYB4gGrAXMBLgHkAIIAxv+v/jP9avtq+Un33vQX8gfvJeud5oXhD9yX1qvRbc6dzV3Qk9cd47XxwAHzEOwcRiQXJ0wmhSOOIEselRzFGvoXpBMuDpwImQRNAzgFmAmxDqYSwhMkERwLmQLZ+F/vJeei4DLcu9lX2dTa/93V4sjomu/S9kr+kQWBDIsSAhdnGWgZKBdeEzYP5wuLCkQLzg0fETAUzBW3FScUwhE7D/YMEgvJCMwFbAGw+wL1OO6Q6O7k0+M85avoS+1H8sL2YfoJ/Zn+sP9vABwB6gGYAlQDwAMEBCAEhQR5BRsHlQmiDLIPJRJUE/kS2xBBDc4IFQS4/yz8jPnC96H23fWn9dT1lvb09+v5Mfxa/jsAiQEiAiIC+gHIAZIBywFaAh4D/gMABTgGYQeCCGoJ5AnlCVIJSAjqBl4FpgP9AWkABP/o/Sb9wvyj/Mr8+/wq/T/9P/1d/ZP9Ev6//nj/DABoAHQAZQB6AJsAHwG+AToCiQKZAkgCvQEiAcoA1gAfAagB3QHFAUQBagBg/2z+xf2I/cD9E/43/i/+1/1q/TX9a/0s/lj/nwDGAYcCuwJ1AuwBWgEBAc8AsABXAJX/YP6h/IT6MPi89eTyo+/H6z7n5uH22wTWytBAzdTMqND/2GTlTfRwA8EQfxoZIP4hZyH2H5oeax0yHAgaaRZ2EfMLTgfMBB8FOggmDQ4SXRXJFdYS/wz/BP77JfMf63Pkjt9r3B3bkNuT3SLhCuYj7C/z7PrXAl4K1RBuFZoXKBeGFI4QlQyhCZUIlQkIDBUPAxLlE7EUnxQDFIwT9hIbEmcQHg0FCDwBmfkm8vjr9ueA5iXna+l67L7v1PKA9en3BPoH/L/9Dv/q/zEA6f+C/yr/TP8yAPYBbwRuB54KnA3/D1YRkBG5EPIOlwzgCQ8HNgReAZr+/vuc+bj3pfZ59jr3svh7+kH8g/0i/kj+GP7j/Qv+l/5v/3MAbQFVAjADCgQyBYUG7gc5CQQKMgqOCT0IngbLBBQDwQG/AAMApv9Y/xb/1/6l/nz+Vv4x/hD+Af7T/Y39SP3i/KP8j/zv/NH9D/+oADcCkQNpBKIEdATNA/wCLgJ9AdIAJQBk/5D+wf0K/dr8C/3o/Q//TAA3AY4BUQFTABz/y/3U/IH8svxj/T3++/54/9j/AAAmAIcAEQHBATwClgKCAgoCRAEyABP/zP2I/B37b/ki9+bzj+8e6p/jm9wj1knRUM8k0RLXgOAK7Pb3xgKOC+0RixYIGvocaR/FIEcgSB3DF6QQcwnBA+4AZgGkBH4JSA7PETATXRLUDwQMdweLAjL9WvdR8Tzrg+W54I7dkdwI3ufh9ueQ7+/3HwBXB+cMZxD7ETISpRHLECEQqA89D6UOwg2tDK4LdwtZDFYOFxHyEwgWjxYQFYsRYAxHBg0Aavqg9dLx4O6l7Pfq7+nB6XPqQ+wL76rylPZN+lz9Zv9vAKIARgDT/7T/HwBNAf4CHwU7BxcJmgq/C4wMGQ2CDaENPQ00DEoKgwcSBHMAGf1w+tv4Nfh5+DL5CfrB+j37dvu0+x/8rfx8/VD+Gf+w/x4AYgC1AEkBLgJ0A/0EngYpCFwJJwpYCuYJ6gieBwoGUgS3AkEB9f/0/hr+Xv3Q/Hn8ePzO/HL9Sf4o/9b/OQBKAAEAh/8O/8z+y/4L/3//DwCNAPcAWgGVAb0B4gEEAhwCAQK1ASYBWABN/zf+Gf0q/GP70fqT+oH6q/oV+8L7ofyQ/Z7+j/9UAAIBgAHgARsCNQJDAhYCvQFgAecAmAB/AKYA/ABDAWwBKwFXAKf+IvyS+B/06O7+6NLi6Nzt17DUu9NQ1WnZ3d/e58/wIvodA0gLRBLTF6kbjB14HYobGBivEyAPFws+COEGLgfPCEYLCw52EEwSJBPcEn4RAA9fC7UGGAGj+sHzGO0w58jiUuD738DhReUR6o/vOPWx+rf/JgTdB9IK4Qz1DRoOdA01DL4KgwnSCP4INApHDAAP+xHEFOUWExgfGO4WsRSQEbsNTQl6BE7/Ifoa9aPwJe3V6uvpWerX6xDuifD28h318/aK+OL5KvtZ/F39MP7J/j3/lv8NANQACAKqA7AF5Qf6CbAL1AxWDTgNjQyZC1kK6AhGB24FPwMAAbz+qPwH++n5Vflb+bH5MPrK+mD7Bfyi/GL9N/4w/zYAMQH7AZwCBANCA24DlAO6AxQEegTQBBYFLAUNBc4EfgQkBN0DlQNeA+gCXAKvAdYA+/8r/3n+AP69/Zb9nv23/dj9Kf6Q/gn/o/9IAOgAVQGQAZUBWQHsAFoAuf8n/6b+Mf7H/W79Kf3i/Kz8mfyx/OX8S/2u/ff9H/4x/ij+Dv78/Qv+OP5t/q/+zP7Z/t7+1/7c/gv/X//d/2wACgGlATUCmwLQAr8CVwKPAWgAwf6b/Or5pvbw8tDubOor5oTi+98B3+Lfs+IM54vsmfKo+F/+ewPrB58LmQ6qEKsRkBFOEP8NJAtECNAFfQQzBCMF8gYgCU8LFg1DDtIOrA78DbcM1Qo6COME1gBm/Nr3rvNs8F/us+1Z7ibwqvKt9b34w/uO/hYBOgMcBX0GPgdyBxgHTAZLBWQExAOyA00EjgVOB1sJWQslDX8ONw9ZD9UOtg0UDOQJTAdVBCcBB/4Q+6f46fbm9ar1I/YJ90b4ivm5+t37vvyD/RD+a/6Y/pf+af4n/uT9t/3R/T3+/P4JAE4BpQLcA+AEnAUHBhkG5wV5BeUELgROA1ICVgFNAGn/vf5E/hf+L/5//u7+YP/N/ykAaAChAM4A8QAiAVMBeAGGAX0BYQE9AR8BIwFBAYoB5gFQArAC7wIbAyADDwP6AtACowJdAv0BiAHwAEMAlf/o/kz+2f2X/Xb9gv21/QD+Tv6v/gj/YP+4/w4AXgCfALoAxwCmAFwA//+F/xj/p/5X/hf+5v3V/db96v0N/kT+c/6p/sL+xf6v/m7+Hf6//V39B/3C/KD8o/zV/DD9uf1P/vb+kP8JAHAAowCvAJoAUgDo/2H/tf4C/kf9jPzy+1z73fp3+hH6uvlR+dv4ZPjb92L3Afe19pr2svYA94X3Pfgs+UX6h/vd/EH+pv/6AC8CMQP5A3wEvwTBBI4EQgTeA3YDFQO6AmUCLAICAusB9gEbAloCpgLuAjIDWgNqA1kDIgPNAmwCBgKiATsB4gCVAFIAHgAHABMASwC1AEcB8gGhAkUDzwMoBFwEbQRdBDUE9gOpA0EDygJCAroBNwHQAI8AbAB6AKAA3gAiAVkBiwGnAbkBvQGuAZkBbwE4AekAlQA/AO7/tP+Y/53/t//z/zYAggDOABUBWAGPAbsB2wHdAcsBnAFRAfkAkwAxANT/kP9e/0L/Pf9K/2b/iv+4/+r/HgBSAH0AoAC1ALwArgCWAHUASQAmAA0ABQAPACoASwBvAJIAsADKAN4A9gAJARoBJwEoAR4BCgHnAMoAsQClAKcAtwDRAOwACAEYASMBKAErATABMwEtASIBDAHgALUAiwBeAEEAOwA4AEMATwBWAFMARAAoAAYA2v+u/4H/Vv8o//z+2P63/p7+kP6M/pj+sv7Q/vj+Hv9B/1n/X/9b/0z/Mf8Y//7+5P7T/r/+uP6z/q/+tf67/sn+2/7r/v7+Af/3/uX+wf6Z/mv+QP4a/v798v3m/dv92P3T/dj92v3p/fT9A/4S/hz+I/4g/hj+Cf4A/vn99P3w/fL99P38/Qb+Ev4j/jL+Pv5R/mP+cf6A/oX+k/6c/qz+w/7T/ub+9/78/gX/Df8f/zX/T/9t/4r/qf/H/+L//v8aADoAXACCAKMAwADYAOwA+wAIARUBHwEqATQBRwFNAVYBWwFYAVsBWgFhAV8BXgFeAV0BWgFPAUYBPwE6ATMBLwErASUBIgEaAQ8BDgEEAfwA/wD8APwA+AD3APoA9AD1APAA8gDsAOoA6QDiANkA0ADCAK4ApACRAIMAcwBjAFoATQBAADUAMgAqACUAJgAoACwALwAwADIANwA2ADIALAAoACEAGwAOAAQA+//t/+j/3//W/9r/2f/c/+T/8v/9/w0AHgArADwASABVAGUAawB0AHwAfgB8AH4AfwB7AH0AfAB7AIAAhQCFAIcAiQCKAIsAjQCHAIIAfQB1AHcAbABjAF0AWABNAEYAPQA3ADQALgAtACkAJgAlACEAHAAXABgAGAAVABQAFAAMAAkAAgD+//f/7v/o/+T/3v/V/9H/yf/E/8P/vf+9/7v/uf+3/7j/s/+t/6j/p/+l/5//n/+a/5v/mv+c/57/o/+j/6b/q/+x/7b/uv/A/8b/zP/T/9L/1v/a/9f/0f/S/8//0P/O/8v/yf/I/8n/xv/G/8j/x//O/9T/2P/c/+H/4f/j/+j/5f/j/9z/2//W/9P/zf/J/8n/x//I/8v/zf/S/9n/4P/i/+r/7//1//b/9//5//n/9//z//P/7v/o/+f/4v/i/+P/5P/k/+j/7P/x//b/8P/v//L/8f/z//P/7v/u/+z/6//r/+v/8//y//b//P8AAAIABgANAA8ADgASABIADQAPAAUAAQAAAPr/8v/v//P/8v/1//v//v/+/wMABQAEAAwADgAUABsAHgAeACEAHQAaABwAFwAOAA0ABQABAAEAAgABAAUACwARABMAFQAVABMAFAAZABoAFwAbABYAFgAVABQAFAATABUAEAAUABkAGgAaABkAGQAcAB0AHgAhACIAIAAgABwAGAAXABUADAAOAAsADAAKAAsACwANABAADgAOAAwADQAOAAoADQAJAAkACgAEAAAAAAD///n/+f/4//j/+/8AAAIAAAAFAAAAAQAFAP3//P/9//7/9//3//b/8v/0/+//6//r/+r/6P/n//L/9P/2//r/9//2//X/8P/u/+3/6v/r/+r/4f/g/+T/5f/m/+f/7f/s//D/8//x//T/9//1//D/6v/m/+H/3v/X/9r/2P/Y/9v/2f/j/+T/6v/y//b/+//7//n/+P/z/+7/6//n/+j/5P/k/+X/5v/s//L/9v/8/wAABAAIAAkACAAHAAQA/P/2//D/6f/l/+P/4P/n/+f/6v/t//P/9P/7//7//f8AAAIAAgABAP3//v/5//f/9v/1//f/8//2/wAAAQAEAAoACgANAAsADAANAAwABgAEAAAA9v/3//T/8f/1//f//v8BAAgACgAGAA0AEQAMAA8ADgAHAAQABQAAAAEAAQACAAgABwAHAA8AEQASABMAFwAXABQAEwARAA0ADgAGAAYACQAEAAcACgAJAAkACgAOAA8ADgARAAwADgAMAAYAAgAAAPv/+f/4//f/9//4//f/+v///wQABwAMAAwACgAKAAcAAgAAAP3/+P/4//b/8v/v//D/9//3//n//f8AAAMABAAIAAsACAAKAAoACgAIAAUAAwACAAAA/v8AAPv/AAAAAAAAAgAFAAMACAAJAAcABwAGAAYAAgABAAIAAAD7//v/9//3//f/9f/5//f//P/8//r//f/5//7//v/9//7//P/6//7//v/+//z/+//7////+v/6//n/9//2//b/+v/8//j/+v/9//v/+//2//b/+f/4//3//P/6//r/+f/1//T/9P/0//X/9f/z//b/9//4//X/9//3//D/9v/1//b/9f/z//f/9//2//v/9v/4//v//v////3//v8AAPz//f//////BAADAAIAAwAGAAQABgADAAMAAgD///z/9v/0//T/8v/z//b/+f/7//n//v8AAAEABAAFAAYACQACAAUA///9/wEA///9////+P/3//v/+v/9//3/AAABAAUABgAAAAMA///6//v/9//0//v/+P/8//z/AAD+//7/+//+/////v/8//z/AQABAAEAAQD9//z/AQD6//n//v/9//7//f/+/wEAAQAAAAAABQAHAAcABgAIAAUAAwADAAMAAwACAAMAAAAAAP//AAACAAAAAQAGAAUAAQABAAEAAgAAAPz//v8AAP7////7/wAA/f/+/wAAAAAEAAYABgAEAAoABwADAAQABQAEAAYAAQAGAAYAAQADAAUABQAGAAcABQAGAAUAAgABAAAA///9//3//f/8//v//P/7//X//f/9//3/AAAEAAUABAAGAAMACAAIAAYABQAGAAcABgAFAAQAAwACAAAAAgAEAAEA/v8AAPn/+//4//T/9P/y//X/8//2//H/8v/y//T/8v/0//f/9P/4//n//f/5//j/+v/6//v/+f/4//r//f////7//P/8//z//f/8//7//f/6//n/+P/4//X/+//4//T/+P/2//b/9f/2//v//P/5//v//f/8//7/AAAAAAQABAAHAAMAAgD+//7//f/3//r/+P/7//v/+//5//3/BQABAAAAAAACAP7/AAAAAP3/AwD+//z//f/5//v/+P/5//z//v/8//v/AAD+//////8BAAQAAQAAAP3//v/9//j//P/5//v//f/9/////v8BAAAAAwADAAAAAAACAAIAAAAAAAIABAAIAAsACAAHAAwACwAJAAwACgAJAAwACAAHAAkACQAJAAwACQAJAAsABwAFAAkACQAHAAUACQALAAgACQAHAAcACgAFAAoACQADAAcAAwAEAAYAAwABAAUABQACAAUABwAIAAgABgAKAAoACQAIAAMABQAGAAUAAAAAAAAAAAAAAAEAAAAAAP7/+/8CAAEAAAD///3//f/7//v/+v////7//P/9//z//P8AAAAAAAAAAAMAAAAAAP7//v8BAPv/+v/4//r/+P/3//f/9//3//L/+P/4//n/+f/6//7/+//6//j/9v/6//r/+f/7//7//v/+/wAA/f/5//3//v////7/AAD7//7/+//3//n/+f/5//z/9//5//j/+P/3//b/+v/6//n//P/3//b/9v/1//H/9v/z//X/9P/z//f/+P/2//f/+P/+//n/+/////3/+//5//v/9//0//j//f/5//z/+//+//3//P/+//z/AAADAAMA/f/9//3/+//5//j/9P/3//f/8//6//n/+v8AAP//AwAAAAIA/f8AAPv/+v/+//3/+//7//r//f/8/wAAAAAAAAIABAAIAAMAAwAFAAAAAwAAAP////8AAAAAAQABAP////8AAP7/AwADAAEABQAAAAIAAwAAAAIABAAEAAQABwAHAAgABgAEAAgACQAHAAkACAAKAAcABgAHAAYACAAHAAYACQAKAAgABQADAAMABQACAAEAAwACAAAA/v/9/////f8BAP//AgAFAAIABQAEAAEABAAEAAEABAACAAUABQAEAAUAAwADAAUAAgACAAUABwALAAcABgAKAAgABQAIAAQAAgABAAAA+//9//r/+f/4//n/+P/6//r/+//+//7/+//9/////P////7//f8BAAAA/v8AAAAAAQADAAAAAAAAAP7/AQAAAAEA//8AAP7/AAD8//v/+////wAAAgADAAMAAAD//wAAAAABAAIAAAAAAAIA/P8CAAEA/v/9/wAA/f//////AAD8/wAAAgAAAAAAAgAAAAAAAQAAAAAA/f/+/wAAAAABAP////8AAAAA/f8EAAQABAAEAAIABgAEAAMAAQD///3//f/5//7//P/6//z//f/+////+f////3/+//+//7/+//3//b/9v/4//f/9//3//b/+P/4//f/+f/z//b/+P/5//b/9v/9//v/+//6//j/9f/7//n/+P/5//3/+P/7//3/9//6//n/+f/7//z//f8AAAAAAAABAAAA/P///wAA/P//////AAD///3///8AAAEA/v/8//3/+//9//v/+//+//r//f/5//v//P/+/wAA/v8BAAEA//8AAAMAAwAEAAIABAAEAAEAAgAAAAAAAAD//wAA/v///wAAAQABAP7/AAAAAAAAAgACAAEAAAAAAAEAAAACAAAAAAACAAMABAACAP7///8DAAAAAAD+////AAD+/wAA/////wIAAQAAAAQAAAD//wAAAAAAAP3/AAD+////AQACAAAAAAACAAQAAwABAAQAAQAGAAIAAgAGAAMABgAGAAcAAQAEAAQAAQAEAAYAAwAGAAcABAACAAEAAAACAAEAAQADAAMAAgAAAAIAAwAAAAQAAAAAAAAA//8AAP//AAAAAAAAAAD9/wAA/P8CAAQAAgAEAAAAAAADAAMAAwAEAAMABQAGAAUABwACAAQABAD//wAAAQAAAAIAAAAAAP///v/9//7//v8AAAEAAAAAAPz//P/9//3/+v/6//r/+//4//v////6//7/AAAAAAIABAABAAEAAAD8//7//v/9//r//P/5//r/+//5//z//f/9//z//f/8//r//P/6//r/+//8//r/+v/5//z//v/9/wAA/v8AAP//AAAAAAAAAgADAAEAAQAAAAAA//8AAAMAAAAAAAIAAQAAAP7///////z/AAAAAAAA///+//3//P/7//n/9//6//7//v/8/////P/9/////P////7/AAD/////AAD8//z/AAABAAIAAgACAAcABwAFAAIAAwAEAAEAAwABAAQABAAEAAAAAgAAAAAA/f8AAP////8CAP7///8AAP//AQD//wEAAAD+//7/+v/6//z///////7////+//7/AAAAAP//AAACAAAAAwAEAAQAAQAEAAIAAAAAAP//AQADAAAAAgABAAIAAgACAP//AAABAP///P/6//r/+f/5//n/+v/4//r/+f/5//v//f////3//P////r//P/9//7//f8AAAAAAAD//wAA///+//7//v/9//7//f///////f8AAP//AAABAAAA///9//v/+//7//z/+//5//r//f/8//v/+//7//v/+f/7///////+/wAA///9/////P8BAAAA/v8AAP3//v/8//z/AAD//wAAAwABAAIAAAAAAAAAAAACAAAAAAAAAAAAAAD9//v////8/wAAAAD/////AAD//wAAAAD+//7///8BAAEAAwADAAMABAAEAAIABgAFAAIABgAFAAMABgAFAAAAAwADAAAAAQADAAIAAgACAAcAAwADAAMAAAD+/wEAAgABAAAAAAAAAAAA/v8AAAAAAgACAAMAAQACAAYABQAFAAcABQADAAQAAQAAAAEA/v8BAAEABAAEAAAABAACAAYABQABAAIAAgD///3//f/8/wAAAAD+//7//P/8//z//P/9//3////9//////8AAP///P////3/AAAAAP7//v8AAAEAAgAAAP//AAABAP3/AAD+//v//P/9/////f8AAP7/AAAAAAAAAQAAAAAAAAAAAP//AAD+/////v/+//////8AAAAA/v8AAAAAAAD//wIAAQABAAMABAAGAAUABQAFAAMAAgAAAAEAAgD//wAA//8CAAEA/v8AAP3/+//+/wAA/v8AAP///P/9//7///////7//v/9//v//P/9//7//P8AAP7//v8AAAAA/v////7/AAAAAAEA/v/8//3/AAD8/////P/8/////P/9/wAAAAD9/wAAAAAAAAAAAAABAAAAAAAAAP//AAD//wAAAQAAAAIAAAAAAAIAAAD//wAAAAAAAAAA/f/+//7//f/9//v/+//7//z/+//8//z//f/+/////f/+/wAA/f/7//7//f/9//7/+v/8//3////+//3//f/+/wAAAAD//wAAAAABAAAAAAAAAP7////8/wAA/v/9//v/+v/6//r/+//6//r//v/7//3//f/9//v////+//3//f/6//7/+//9//z/+//9//7////9//7//v/+//v//P/+//7////+//3//f///////v///wAAAQABAAAAAAABAP////8AAP//AQAAAPz/AAD//wEAAgABAAAAAAAAAPz//f/+//////8AAP3//f////7//P///wAAAAACAAAABAADAAUABQADAAQABAAEAAEAAwAAAP//AwABAAAABAAEAAQABQADAAQAAQAAAAIAAgABAAIAAQAAAAMAAwADAAIABAAEAAQAAgAEAAMABgACAAMABQAGAAQAAQAEAAQAAwADAAAABAACAAEABQACAAIAAwACAAIAAwAEAAQAAgACAAIAAgACAAIAAwABAAAAAQAAAP7////8//7/AAD//wAA/v////3/+v//////AAACAAAAAAADAAIAAAADAAMAAQACAAAAAQACAAEAAwADAAIAAQACAAAAAAAAAAIAAQD+/wAA///+//7//P////7////9/wAAAgADAAAA//8AAPz///8AAAAA//8AAAAAAAABAAIABQACAAYABgAEAAMABAAAAP//AAD+//7/AgAAAPz/AAD6//z/+f/4//z/+f/6//z/+//7//7//P/7//7//v///wAA/v///////P/+/////v8AAP3//v///wAA///////////+/wAA///+/wAA+//9//z/+//9//j/+//7//7//v/9//3/+//7//3//P/8/////f///wAA/v8AAP7//////wAAAAAAAAAAAAAAAAAAAAAAAAAA////////AAAAAAAA///+/////v8AAP3/AAAAAP7/AAD///3//v/9//3//f/9////AQAAAAAAAAAAAP7//v////z//f8BAP3/AAACAAQAAQADAAIAAAAAAAEAAAD//wAA///9//7////7//3//v////7/+//+/////P/8//////8AAP//+v/+//z//P/7//z/+v/5//z//v/+//z///8AAAAA/v8AAAAAAgABAAIAAgADAAQABwAGAAQABgAFAAMABgACAAAAAAACAAAAAwADAAEAAwACAAMABAADAAEAAQAAAAIABAADAAMAAgADAAMABAAEAAMAAwACAAEAAAAAAP3/AAAAAP//AAACAAEAAwADAAIAAQABAAMABAACAAEAAwABAAAAAQAAAAAAAgABAAAAAAADAAIAAgAFAAIABQAEAAIAAAABAAIAAAAAAAEAAAAAAAAA/v8BAAAAAQABAAIAAQABAAEAAQAAAAEABAAAAAAAAAAAAAEAAwAAAAAA/v8AAAAAAAAAAAEAAAAAAAAAAQAAAP//AgAAAP//AwAAAAEAAQAAAAAA/f8AAAAAAQACAP/////+//3//f/7//7//P/8//7/+//8//7//v/7//3//P/8//3//P/+//z/+f/7//v/+P/+//z//P/9//r//P/9//7//f8AAP////////3//P/9//j//f/8//3/AAACAAAAAAACAAAAAgD//wIAAgAAAPz/AAD///3/AAD//wIAAAD/////AAAAAP//AAAAAAAAAAD+//r//f/7//z//P/9//z//v/9/wAA///+//7//f////7///8AAP//AAD+/////v/+//7/AAAAAAAA///9//3//P/+///////+//z//v/6//z/+//+//7//v/+//////////v//P/+/wAAAAAAAAEAAAABAP7/AAD+//7//v/+/wAAAAD+//z////+////AAAEAAIAAgACAAAAAAAAAAAAAAACAAIAAQAFAAUAAwABAAMABQACAAAAAAABAP3/AAAAAP//AAAAAAMAAwAFAAQABQAFAAMAAQAEAAIAAgAAAAAA//////7//f////3//f/+//z//f/+/wAAAwD///3/AQD8/wAA///+/wAAAAD//wAAAAAAAAIAAAAAAAAAAAAAAAAAAgAAAAEAAgAAAP7///8AAAIAAgAAAP7/AQD//wAA/v8AAAEAAAAAAAAA/f/+/wAA/f8AAPz//f/+//3/AAD8//7//v8AAAAAAgADAAEAAAAAAAEAAAAAAP3/AwABAAIABwACAAYABQAGAAUABgAFAAIABQAFAAIABwADAP7//v/8//v///////3/AAAAAAAABAABAAAA///+/////f/7//7/+P/7//v/+P/8//r/+//6//z//f/+//v//f/9//v///8AAPz///8BAAEAAAD//wAAAAD8///////+/wAAAAABAP////8AAPz//v////r//v8AAP7///8AAP7/AQAAAP3/AQAAAP7///8BAP///f/+//7/+v/8//7/+//5//z/+P/5//z/+v/7//v/+/8AAAAAAgD//wAAAQACAAIAAgAAAAAAAAACAAIAAgABAAIA///9/wAA///+//7/AAAAAAAAAAAAAAAAAAAAAAEAAAD9/////v8AAAEABAAIAAcAAgADAAMAAQAAAP//AAAAAAMAAQAAAAMAAwACAAEABQAEAAMAAgAAAAEAAAAAAAAA/P8BAAEAAAABAP//AQABAAAAAQACAAEAAwACAAAAAwD//wQAAwAAAAIAAwAAAAMAAwACAAIAAgAEAAEAAAAGAAIAAAACAAEABAAEAAQABQAFAAYAAwACAAAA/f///wAAAAAAAAIAAAD//wAA///7////AAAAAAAAAAABAAQABAADAAMAAgADAAEAAQADAAQABgAEAAEAAQABAAMAAwAEAAMAAgAAAAMAAAAAAAEABAADAAMAAQAAAAMAAAAAAPz/+//8//z//f/+//z/AAACAAEABQACAAMAAAD//////P/+//v/+//8//3/+//8//7//f////3/+//8//z/+//9/////////wAAAAD9//v//P/7//z//v////7///8CAAEA//8AAP///v////r//f/+/wEABQABAAIAAAAAAP7//f/8//f/+v/3//r//P/8//7//v8AAP//+P/4//P/9P/3//j/+//+/wAAAAADAAMAAAABAP//AAADAAMAAwAHAAoACgAEAAUABwAFAAQABQADAAQAAwAEAAMABQAIAAUABAAFAAQAAAD+/wAAAAACAAQABgAHAAgABwAGAAMAAgACAAIABgAGAAYABwAJAAkABQAGAAYABgAHAAYABgAJAAcABQAIAAgACgAMAAoACQAHAAMAAwACAAAAAAD/////AQAFAAIAAwADAAAAAAAAAAEA/f/9//7/+//8//3/AAAFAAUABQAJAAoABAACAAAA//8BAAUACQAJAAcABAABAAAAAAD+////BAACAAIAAwAAAAQAAAD///r/+P/3//n/+P/5//n/+P/4//7//P/+//7/+//8//f/9//2//n/+////wUACQAIAAQAAgD+//j/9f/2//f//v/+//r//f/4//b/9v/2//f/+P/4//j/+v/4//j/9v/0//L/8P/w//D/8v/v/+z/7f/t//L/+P/5//n/+v/7//f/8//z//L/9//5//3/AQABAAQAAAD///v/+f/+/wAA//////3/AAD9//j/+//6//j/+P/5//3//f/6//v/+v/3//n/+f/9/wAA/v8AAPv/9//8//n/+///////AgAFAAUABAABAAIABgAHAAwADAAKAAgAAgAAAAEA//8EAAQABQADAAEAAAD6//3/AAAAAAAA/v8AAP//9//z//T/8//y//P/9v/7//3//P/9//r//P////3///8CAAQABQAGAAIAAAAAAAAAAgAAAAMABAD///7//v8AAAIABAADAAIAAAD9//n/+f/3//v//v/+/wEABAADAAAA///5//z//v/+////AAABAP//AwAEAAAAAQACAAYACQAOAAwABAAJAAMAAAAEAAQACQAKAAoACQAEAAUABgAGAAMAAgADAAEA/f////z//P///wAAAQACAAMA///+//v/+P///wAABAACAAUAAwAAAP7/AAABAAAABQAHAA0ADgAQABEACgAJAAUAAAAAAAAAAAD//wMA///8/wIABQADAAgABQAEAAIA+v8AAP3//v8FAAcACwAMAAoACAAEAAAAAQAAAAQAAwAIAA0ACQAKAAYAAwABAAEAAgADAP3/AAAAAAAABAABAAEAAQADAAQAAAADAAAAAgAEAAYADAAHABAAEwAQAAsABAAFAAQABgANAA8AEwAQAA0AEAAKAAcAAwACAAcABgAGAAgA/v/4//j/+v8AAAEAAAAMABgAIAAXAAUA7f/j/+f/5//3/wUAGAAgABUAFQAOAAMABgALAA0AEwAZABUAEQAHAAgADwAXAB8AIAAdABIA/f/v/+n/5//z/wEADgANABAABADx/+n/5P/k/+//AAAIABQADwAEAP//8P/l/+j/7P/u//n//v/4//r/8//w//T/+f/7//n/9f/u/+r/5v/m/+r/8v8AAAkABwAAAPX/5//h/9v/4v/y////CwAVAA8ABQD7//D/8P/z//j/AgAMAA0AEgANAAIA/P/6//j/+/8AAAEA//8AAP7/+//5//7/AgAJAAcAAAD8/+7/7v/z//f/AwAKAA8ACwAAAPL/5f/f/+D/6f/3/wAABQAHAAUA+//w//D/8v/0//j/+f/2//X/+f/7/wYACwAQAAsABgD///r/8//p//b//f8JABUAEwAVAAwA/P/z/+v/7//z//7/BgAGAAYA+//t/+v/8f/6/wIABwALAAoABwABAPz//v/+/wYADwANABEAEAAKAAMAAwD+//7/AwAJAAgACQACAAAAAAD7//v/+f///wQABAAIAAAA+f/0/+n/8//6//7/CQAFAP3//f/x//D/9/8AAAQACgAQAAoACAADAP7/9//5//z/BwAYABwAIgAeABQACQD///z/9//6//b/9P/5//n///8DAAYACAAGAAAA+P/r/+P/4v/c/+b/9v/+/wgACwAHAAEA/P/2//L/+f/0//X/+P/4/wIACgASABkAHwAeAA4AAQDz/+r/6//1/wQAFQAhACMAGAABAPD/6//v//z/CAAWABcAEgD///D/7f/m//H/8f/8//r/+v/8/+n/5//p/+z/+P8IABQAHAAOAPb/y/+7/8b/3/8PADQARwBEADUAIAAEAOv/6P/e//H/DwAfACoAIgAPAAAA5//r//r/CQAVAAoA+P/O/8H/yf/o/wUAIwAlABQA+f/l/9n/1v/h/+r/8P8IAAwABQD+/+3/2v/d/+P/9f8FAAgACgAAAPf/+f/3//T/9P/2//D/8P/s/+7///8MABMAEwAOAAgA+v/0/+H/4v/x////EAAbAB4AHQAhACcAJQAZABIAAwD7//z///8HABUAHgA7ADUAJAAiAAgA9//s/+r/6//y/wIAGAApACYAEgDq/9T/x//B/9H/2/8BACQAOAA1ABYAAADo/9//4f/e/+v/AAAZAC0ANwAuAB8AKwAkACEAHgD2/9n/0//u/wgAKwAuACUAFgD+/wYAAgDs/+L/4f/o/+3/BgAYABgAHQASAAAA6v/U/8D/xP/d//L/DAAQAAcA9v/U/7//t//W//P/DgAYAAMA9P/m/+7/DQAPAA8A9v/Z/8X/0v/4/xUAKQAhACgALwAnABoA///c/7H/wv/h/wkAKQArACIA+//j//P/AAAAAPX/2v/E/7r/2f8ZADoAPwA9ABYA9f/W/9n/6f8NADkAUgBNAD8AIgD+/97/4P/r/wQAJwA0ADIADQDz/9z/1f+9/8D/0P/L/9T/6v/3/wQA+f/i/9n/yf/G/9L/3v/i/+b/8f/0/wwAGgAeACUAEwDz//b/+/8EAPr/7P/+//n/FwAxACgAJAAfAAYAEwAXAAUABAAVAAUAFAASAAgAGwANAPT/2v+3/7D/wf/t/x4ARgBOADsACQDY/87/tf+d/6f/xP/s/yYAXgCJAKoAfgA6APD/mv+I/67/4/8TAE0AagCEAHcASgATANr/xP+0/8v///8fACUAEgAJAOH/5//6//n/CgANAPX/xv+i/33/l//R/xcAVQBpAGMAGADB/23/Pf9S/5n/9v9FAG8ATwAJAMv/kP9q/4f/yv8tAGsAeQBAAPr/uf+N/5L/2f85AGcAlwBwACcA7/+w/6n/1/8QAEcAdwB8AD4AGADm/5z/lv/H/xEAUwCBAG8ARgAFAL7/m/+I/6//0f8NAFAAVAA+ABQA7//H/73/1P/o/wYADAAZADYADgDh/9T/8/8kAGIAjgCBAE4ABACp/3n/dP+e/+7/VACHAJ0AqQBwADUA6f+e/4b/jP+z/wAATgBxAHUANwAAAMr/vP/r/wwALgArAB8AEADX/9X/5v/v/w0AHQDo/7r/lf+A/5//yP/3/x4ASABtAF4AHAC+/3f/e/+U/5f/zf8tAH8AtgC2AEEA8/+//6D/tv/j//L/8v8kAD0AQQBKABQA3v/G/8z/w/+5/9n/wP/A/8T/4P8sADsAGgDg/4v/gf+y/xQARwAsAOj/sf+J/6T/9/8zAFAAZgBfACEA///7/7v/yf/4/y0AYABrAFcACwCp/0r/YP/s/3EA6gAVAdEAMQC4/1n/LP9b/6z/AQA8AHEAfQCEAF8A1P9r/zb/G/92/yQArQCeAGkA+/+5/5//cf+L/8D/+f8XAEAAUAA/AEkAOQAXAA8AXACBAHQARADd/4b/cv/L/zcAqQDiAMAAiAAjAMD/qv/g/w8ATQBsAEAAPQAeANb/t/+5/+r/BwAIADAAGQDr/9f/6/8GADwAfwCDAGYAAQCa/13/Uv+0/0QAyAAgASgB8ABYAJr/O/8i/1T/3P9dAMYAyACwAIMAJwDn/5v/f/+h/+L/OABZADYA+P/r/+3/FABSAE0AUgAsAPf/5//R/+T/9//+//z/HwBkAGgAUwASAOn/2/+D/5n/oP+w/8r/7////wcAMQANAN7/mv9y/1f/fv+x/9H/GQAjACEA+f/v/wYA6v8bABIA/P8eABgAGwA0AC0ATwBuAE8AKAAGAPP/7P/b/+X/LAAoABUADwDm/9j/3//W/9D/zv/D/5L/kf/R//H/+f8NAAAA9P/8/87/jv9x/3j/Uf9p/8D/AABpALoArgBzAPn/cf/w/uv+Tv8AANEAIQFSASABlwDf/1L/Sf9V/7f/GgBvANgA7wDiAKoAVwDC/3b/df+T/9X/DQBdAH0AkwCoAHEADADD/4//b/9z/6v/AQBIAEQAJwD//+T/LwBoAHoAFwCp/2f/W/9j/7n/EQBOAKEAxQB7AAgAf/8y/xf/U/++/z4A4wD8AMUAOACS/wz/8/4v/43/IwCNAK0AoQAmAJ//Wf9B/3z/mv/L/xAAHgBUAFIAFwD//7r/zP8AAPL/1P/B/3f/Y/9C/1j/1v9BAH8AfQBKAMv/UP/d/oX+uP4f/+D/mgAfAd0AWQDH/zP/G/81/4n/nf/3/0gAbgCcAIcATQAlAAgA5v/0/wcANwBsAIsAfABcAIIAggBsAGYAeQCwANQA0ACIAFIAVQBFAHcAoQC+AMkA8AC+AHAAVABDAB0ALQBWAJ4ADAFnAU4B5wA8AMz/pv/s/0YAkQDdAPUAtQBuABsA8v84AH4AwgDKAIwAbwB4AJgAdgB1AJUAoQC7AHsAVgDT/5L/mv+7/wsAQwBcAHgAdQAZAOX/UP/p/t/+Cf9E/6P/PwBqAGUADQBj/73+Ov4q/mb+4P5s/+j//f/i/4r/GP+H/hj+Av5H/tb+Lf+T/8z/ff9M/xj/p/57/k/+Rv57/pr+u/7w/h7/Xf+E/1X/E/+V/kz+Gv4K/jH+oP4G/2z/yf+3/3b/FP/f/qT+jf6Y/uv+Pv+O//j/DgAHAOf/1/+8/3P/gf++/x0AigDrAAkBDAHvAMIAoACVAI8AogD0AB4BXAGiAaIBcwE/AS4BOgFgAbcB6QHvAd0BqgGAAaQBzAHmASACUAJyAp8CrAJ8AmQCbwJwAq4CEwNtA7QD4gPtA8oDsgOTA6UDzwMJBFUEqQT+BO4E6ASvBDoEAATmAwkEUQSFBLAEngQ2BOMDkwNYAw4DxAKsAngCOAIZAuoBkAFaARIBogBXAB0A4v+K/2//B/+3/of+LP7M/YL9+fwx/Kv7PfsS+9r6k/oy+i35C/jg9oL1W/SV8/PyS/Lc8S/xX/BL767teesO6STnQOZq5xvqGe3O7zPxmfAJ7kbrS+nM6IfqHe7r8o33SPuH/RD+dP0v/Fz7o/vJ/doBBAf4C58P4hEBEhkRGBBrD8QP+xBCE+AVPxjyGYEa6xlfGHQWtRTZE3oThhOmEy8THBJ/EPUOeA0UDLEKRAlsB2YFbgOLAfn/qv78/Yb9I/2M/LX7efp3+F72n/SE84/zs/R09gz4/vgc+XT4NPcv9rj1GvaA95T5Nvyr/nsAngEGAuIBmgHvASMDAQVWB8MJnAu2DEgNjA2sDQYOdQ7oDpEPGxCHEL8QqxBmEBcQuA87D84OBA7bDHoLCAqwCKEH9QafBhUGWgUHBF4CjgCX/u/8ovvv+pj6a/pE+o35n/ie90/2TPUG9fD0LPXi9Qj2xPVN9XX05/Pb8+fzXfQI9SP10fQs9E7zV/LR8RXyNfIV8pDxd+947Nbof+R24W3hZuX77J/1EPuW+gb00+mD4LXbkt0s5UDvu/iA/44CqAGy/cX3kPHL7ePum/VvAB8MlxToFqsTrw3oB2cF2gZtCkkPEBTVF8EaTRzlG7gZchZkE9gRSxJ6FKgWQBc1FvYT3hEPEVoRlBGvEA8OFAp9BiIEZQPnA5MEcgSaAzoCZACE/g38MvkQ9pzzX/MO9dr3OPqf+gH5w/Vr8n/wPvBy8X7zkvV29+z41/k9+uD5Gfkz+ED4HPp6/SMB2QPiBJgE/QMMBEoFSweHCUILPQzBDCENNw1tDaMNBQ6wDmoPSBDSEJYQbw99DaoLqwqoCpwLgAygDLULxQl5B1kFsgN6ArIBmgGdAYUBSwGFACb/eP22+3r67vkE+pz68foY+9X6RPoR+uv5/PlD+or65fpJ+5b7gvtH+wf7Lfuf+2z8aP0L/mL+Ff5F/UT8Ufsn+kD56viA+I74ovib+O73m/WZ8sbu0epP5tLhpN834SXndPBx+AP6IPQ06X7dFdVc1fjcmuZt8Lr3m/rt+hX5SPWn8Fvs4OqN7r/3LgT2DkUU2RIHDaEHFAbECNwNTxPzFqIYEBqFG8Mctx03HX0b4BkRGVcZPxpbGpQYkRVCE8MSYRR/FhMWUxJ1DFcGtgGx/yoALwFdAakAEP9m/YP7uPhV9XDxve3y6zPtufBQ9CP2KfXz8ePuV+2a7XvvvPFt8530FvYF+Br6JPw7/aj9Fv7j/rIAFAM+BW8GFQcnCD0KOA0lEM4R5RHAED4PJw7JDl8QgBJTFBYVGhXHE2ISlxAHD0gN9Qt3C5ALQQyJDAgMJgpmB4IE4wFmAND/9f+2//v+0/2J/Ir73/qC+sf5z/jX93b30fcv+Mv4SPmX+dP5L/q4+hv7rfsY/F38pvwY/bv9q/7l/44A0gAaARIBAAEEAdgASwCv/+H++v1U/eb8BPyK+iP5jPdk9gH1dfJd7tTnBeFC3Azbnt8F53HtUfK78szsGuN72AfQ+8xU0QHcmumP9dT8x/0l+CPvn+Yj4lTkCu3S+UgHLhH+FQwW+hE6DFgIHAj4CxIT+RqEIUUlVybrJEgivx9QHlgedR9JIB4gvh7THAMb/hmaGfYYhhcvFZMRBA0uCN0DDAGg/wj/BP/P/rr9ePvY9xTzCO4i6mDoAul/62zuLvAx8PLuoexu6mDpsel96+PtiPA289n1mPiO+qz7gvw1/Ub+WACqAtcE6gbfCE0L7w2eEAcTMxRPFIwToxI0EnwS/RMgFhgYXRmZGQMZSRerFKsRvQ5tDKELMAyJDY0OWw54DP0I7gQMAQH+IfxT+3T74/tJ/DL8I/un+Qb3sfTW8rPx4PHt8sD0WPY593v3SPcw90v3zPeA+KX5aPp6+9b8//2i/+wAMAKpAuACVQOYAwMEFQTsA4MDagN8A70DIARKAyoCzf9H/W77k/mM+Eb3SvUb8obsWubr4e3dKtyV3+vlYe0b8yPyI+nR2lnNzMafygvXe+bN8kL44faI8SXreOWT4prjVOg68ez9LwsTFPUVoBHvCfkD5gPgCR0T1BvnILsiVCOOI9Mj/CMNIxghVx/+HvEfGiF8IUUgBh4iHEobLhtEGpgWkhBmCV8DlQAyAccDoAWpBNcA8Prg9EXwEe3o6u/p2Ony6vzsSe+u8JbvN+zl55jkluQG6HftnfKK9SL2xPXb9Uz3sfkl/C7+8/9DAvAEtgdCCgQMYQ25Dn4QrRJ4FHMVdhVkFFATvhPBFYQY2xpwG+kZ8xajEykRhQ97DksOhw7tDukO+A31Cz4IzQPk/yn9cfxa/XP+4f6g/Rr7oPiD9tf1dvWk9Ev0x/Pn8+703/Uj92r3ZPcG+F74g/l9+uX6ivuc+5n8lf7AACoDUgQ3BNIDQgMoA8ADGwTSBNcE5QSDBcAFnQVcBDACZP8e/eb7cftI+875Vvfo8xjwO+z95yHjGt212M7ZReGJ63nzzfMa6k/aKMyuxk3Lqtei5QTvS/Nn8+vwTO4/61PnW+Vx58/u4ftyCiIUFBaSEZ8KBAZKB+kNBBb+G7kesh8BISEjLCX8JbskmCGIHswdzx4BIC4guh4dHDIaIxqwGswZ9RUQD9AGOQB8/bD+6wHNA+0CNf/i+Xb0CPC97AfqM+jB5xzpH+yg79bxsPDz7EbocOXo5Xzpre778kb1aPZ29wD5IPsp/fn+MQBgAXkDKAYpCcELjg33DmMQrRJzFX4XuRckFm0TmRECEoMU/xekGnkbJhpWF9YTaRCeDZgLcApYCj8LPAyCDE0LDghaA1T+8vqw+ef5Jfu2+1b7Tvqv+Dv3//XB9LnzDPPV8pTzw/Qo9jv3zfdP+L34mvkv+2f8Uv2E/Yn9Iv5s/8gBMATlBeoGxQZjBg4GxwX7BfgFIgZRBrgGBgcEByQGtQTPAmQAPf5i/D77TPp7+Un4SPZ587Hv1up55Q/goNpz1jHX89yg5QPtC/CX67Xf1dKRyjbKU9En3cPo3PAH9RX2qfSL8dHtDepD6VTuUPgIBncSchgHGLoToA6tDOoPtRWVGwofiSAXIgkkEyaWJycnQSSuIFUeyx1DHvgdRxzEGWoXMBZsFk8WuxOHDg8Hk//G+pv56fqh/N78Kfu093Dzue947EjpleYW5X7l/+ei68XuzO957vDrv+lL6QfrR+648Wj00faJ+Tf8t/4SAcIC1gMRBS8H9AmMDF8OQw8CEPIR+xQPGDAaKRofGNMVQhTSE3sUURXYFVAWYBb5FdgURRJ8DjwKeQaZBDsF2AbdB1gHlwSJAOH8Svr++JX46vck95T2FPYx9o32YvbS9b30qPNn89zzufTo9dT2ovfJ+Cb6J/wh/hj/N//m/rP+i/9OAYYD2QVcBwgIbAh5CE4I7wdjB+cGfQZiBpQG+QaCB1kHUAasBGYCKQAG/sL7zPlw+Dv3efbk9Rr0jPFy7SLo2+E72qPUXtOX1uDeOuhX7kvt1eXc29DS584T0TXYWuBs6Avv9/M298337vbO8/bwsfE39+MAnArxEewUthStE/8UABnSHCMfmB5gHUIdyB6QIkEmUSgGKPcl5yMaItgffBxFGK4TrBB0EEgS1hT3FAgR8wnGAd76qfa09Gr0jvQd9OjzkPNt8gPwUuxQ6K/k9OK140DmRemY6xbt6u1w7vfuy+/H8LHx6fKa9fj5CP6CAFYC6QMqBRAHlwrSDvoRLRPLEsERGRFGEjAVvBhYG2Ic5BvwGaIXkBVHE0kRpxBVEUoSwBJmErAQFQ1PCBIEWAFWADIAGAB6/3f9vfpr+Cr3GPc29732PPVj89/xHPEf8eLxFvMq9ED1YvZA97b3x/fh95n4rflN+4X9KQB2AuMDeQSfBOEEvQU0B88IIQrrCgwLlAoxCg0KJgqPCsYKhwqaCVEI2gY4BWcDiwHY/7r+/P13/ab8m/qP9xL09/AB7zPuUu6q7hvtJuqb5YLgRdsJ1v3SoNLF1dfcWua07avvnew+5IbaetSg1U7dXOhL9I/8SAH8ATYBzgCu/3//ngA9BKoKrBJdGgIf9x9OHioc5Bu1HUUhsSPPI9Ehvh54HNQbcx2LH5cgVx+4G8AW1BA6C7MGjwM+An8C6wPLBM8Dzf+Z+aPygOz56CnorekW7CDuRO/g7nDtiOtu6cXnQ+dE6KXqV+5S8or1kvf1+IX6cPzW/iIBuALsAx4F4wbLCXMNxhC4ExAWQBdqFy0XXxZSFbwUfhRlFVoXShmBGvcZLBdeE4wPGAxGCpQJRAlBCakIiQfeBToDEwAV/Un6S/h09y73Rfcx95b2xvXP9Df0P/R19Ln0/fTq9MT0A/Xz9ZX3yvk1/B3+N/97/2v/l/9AAJsBuQMIBj4IyQlaCokKXQoYCigKbwrcCjwLWAs0C5kKoQmlCKoHeQZnBR4E8wK4ASgAqf4N/TH7aflc9631W/Ts8gnyA/F57zLtaeoI6HTmyeQ34/Dg8Nwz18LR5c8R0nHYDuKz6lvvPfDl7BDn/uCm3EDdDuMJ7W36nAaADg4QBg3PB9sD8wOfCKQQ8heEHXUg4yFCIpAiAiOfIvYh0CAWIAYgGh9UHTIaqharFLwUNBYZF2AVuQ+0B0H/3/jJ9Z31B/d7+Ob42/eJ9Rryge2z6KjkjOIY49vlDuq/7Y7vn+9M7yTvju/c8JvyvvQ99w/6fP3rAE4EvwevCs8MdQ6kD6kQ7hE/E4cUlRWUFhQYJBoEHOEcShw2GmIXnRQoEpkQ4w+UD2wPYg4wDMcJ4waPA/sA4/4X/aX7XPoI+Wf3cvUH9G/za/Po80z0VfRP9Bf0//ML9FH0A/U99jj4sPow/S//WADsADgBhwGHAlIERAYzCLcJ5wrfC6YMRg2ZDXcNQQ36DH0MZwwYDKQL9grLCaoIewdgBqUFUQRkAjEAgP1G+275Cfio9/v2JfY+9XDz4/FJ8GTukOx56tzokuhc6LzoPOna6BbnyuN44LXcg9eV0vfPI9Hd2Dzly/Od/SP/t/i47F/iJt7R4f/rpPgiBLAN5BOJFs0W3BSOEEQMsQsKDyoWhB4EJPolcyOGH1oehh94IQIiDR/0GMASWw5TDQoO1g6fDhYNSApNB+cD8P7C+Pfxp+xA6i7rZ+4V8nnzHPLb7ivr7ecn5ufl+uZF6YTsevBH9ED3N/m4+tb7MP3l/gQBcAMEBsIIdAscDq0QpxNUFnEYBBpyGqcZChg/Fv0UhRRVFVkXixlqGkMZaBUNEDEKsgWnA2EDdwT9BIQEigJN/5P7fPgh9tj0NvTJ8/PzjfTe9K/02PMr8z7zSPSS9jr5MfsV/En8b/zg/Aj+WQDuAoIFWQd8CIIJWAqsCtMK3AraCjoLoAtODAoNWg3zDBMMyApzCUoIcgcSB14GEQWCA90BaAAq/x3+T/1N/FH7L/qu+Ez3EPYV9Tz0J/Np8hnyPPKE8nPy0/H28PXv3O7h7cfsMex06ybr/epj6pDofeWr4RLdPNda03DUs9tp6B72TAHXAzr+vPMj6fLi1ePG6zH4jAQdD04WkRkrGloYKRVaEQMPng+6FE4a7R6oICIfXhzBGkgblB0rHzEdYRhpEIwHOAGa/u3+bQHCA8kEmQOxALT7UfXn7ULncuMA4+vl++oH8Jry9PKB8bjvjO527nTvr/ER9Nj2N/rY/aYBewXuCAAMoQ55ENkRUhIbEp4RPBG4EdoTBRc0GoUcBB1+GzMYmRMED4YLlwlhCZcK7gvNC5gJyAWJAaf9+fq8+Tr5gPiS9332O/Vh9B/0+vRL9o73g/gJ+Sr5U/k5+Tn5wfmN+7P+WgKyBdIHkQhcCMwHdQcWCDcJcAq9C2UMnAzaDAoNBw12DFQL5wljCF0H8AacBpsFVQT5ArgBoADb/3z/nf50/Rz8nfp4+c34tPj0+N74svib+Gb4HvjY91T35fbY9gX3wfdb+I345vhB+AX3s/Y/9nr1uvQ/80nxaO9e7azrq+m35kLj7t4E2vHVo9Mt1XfcWOj29GH+3wFY/sz0VeoG5CHk9Oo992MFyhEbGoceQR/IHMwYORVlEx4UXBebG9IejR8WHnQcXxsgHGIdTB4eHAcWQQ0mAwH7yvXz9Hb3qvqr/T/+f/y696XwZelg4g3e3t2Z4MDlmetc8L7zYPX69Z/2ePe0+Gz6vPwL/yUCwgXbCWsOuxKfFs0Z6hvIHJAcNhvbGH4WqhQWFP4Uihb+FzQYwhadE/UOqQmLBA8AAP1g+6D6QPqp+a74E/dR9fLzCPOR8mDyKPLS8bfxPfJp85z18fj4/PEAPwSVBtEH2AclB3YGYAa3B58KLA4wERYTjhN4EnIQNg5ADKsKewnZCFsIqwfjBskFdQS3AsUA3/4V/aT7rfrR+fX4Wvgv+Hv4GfnL+Tr6fPp9+mz6gPqa+hf79vtQ/dP+9P/gAHUBmwFoAZ4Atf9p/0H/NP+K/2b/ZP7R/Hr6H/jD9SbzHPHq7mPs3Onz5rDj29+E22jXKtRD0vvRwtOd2CPhtus49hj+/ABl/qv3w/C77SzwOfiHBKcRWhwpIx8mGybEIz4g3Bw9GuIYShl2Gvca/hkKGM0VERSDEyYTvBHODaMGQP2n87PrfOeC51Tqb+7v8X3zFfNK8NPrJ+dW48PhZeP+52XuY/Wr+2sA0wPsBZMHWwn5CoYM/w2BD7QQxRLgFIkXMxpuHEAemR68HUYbhBdEE1QOggpWB6UFZgUJBQEF2QPEAZ/+p/qV9s3yIvDO7rvuZu+l8KvxBfNv9Fj2Ufg5+sL7vfxY/cv9Ev/yANEDZgdjCzsP9hHTE34UvxMOEtYP/g3cDPMMDw4ADwEP/g0oDIEJhgaXAxcBEf+I/W/8uPtj+yj7yPoP+gP5J/i09+v3ePgu+Q/65vrO++n8PP5t/38AcAHtAVgCuALgAi0DgwMjBOgEKgVsBZUF/AQUBLsCzAAy/xX+Df0S/Az74Plh+Ff29fOD8RbvK+2g6//pKOjv5Zvj8uCg3S3ah9Z/0yHSpdKG1eHaSuID7Hb3lAItCycPRg7PCaoDKf84/34EBw45GfYifCnWK60qNydAIjMdbBg9FEURkw5qC+0HfQT1AaAAJABiAPL/Hv3195jw+ueX4BzcgdvO3nXkF+sp8Vb1Yfeh94v2mfXX9c/3jfswAGcFrgpgD1YTfhZWGZkbNR3/HYwdvRvSGGcVdRJqEH8PmQ9EEGQQeQ/eDJMICAMi/bX3QPNe8Ebvb++T8NXx1PLx8mnyjvEj8STxE/IB9F/2Dvmv+2b+eAHJBKEIDQznDv4QDBItEqgR3hBiECUQqRBNETsSuBJJEqgQ7Q2NCvUGzQMeATr/lv1F/Az7Avr7+I746vep97T3YPd991T3l/fn94T40/nb+xX+GgHgA10GzweKCPEIaQg5CMIH2wc5CNQIaQlTCpoKmwoKCqAIBgcdBQYDCAEg/679h/yZ+8f6Gvo5+Xr4rPfT9uL1/fQF9Pzy1PG28M7vse8K8Fzwp/Du7xfud+sD6F/kpuA13efax9nC2Qfbc97I5I/ut/qxBmYPkRKkD+UHyP4y+Nj28fvdBUQRkBucIqslDyUwIUsbUhVFEPkMKAuICVsHTgTUAI/++/0T/yABgQJAAXX8dfRQ63njBd//3i3jXOqh8if6a/9OAUAAt/0H+5L5gPrX/foCsQjgDesRlxR1FgQYeBmFGrMashkxF30TDA/lCvAHuAYiB30I5wkWCmkIcASu/lD4kPJR7g3su+vV7MPuyfCS8uXzufRr9XD2r/dD+cb6Pfyx/Tv/SAErBO0HLAxmENoT+xV9Fn0VhhNREVQPEw6hDaMNwA1XDSkMMgqBB1IEFQEv/s777vlX+Mv2hfXH9Jv0zvRb9Tn2Qfcy+Ob4c/nk+a365/ut/QkA3gIUBgkJbwsNDcsNBQ7DDUINwQxFDPoL6gvhC8cLggv8CjQKuwjEBlcEmgHQ/iP8C/ou+Cr32fbw9kn3n/fL97j3b/fc9k/2gfV19c71A/cA+T37x/3n/1MBjAHtANf/+v75/a79hf11/Tb9hvuF+T32lPL07ifr7Of848Hf/Nrd1kHUitNL1iPdxOjm9pQEbg6oEZ4NGQR6+YbxMPB59t0CYRFVHU0lUSiAJmoifB39GNkVvxOpEZMOUgk2A9T9sPnJ+CD7Ov81AzwEwwD7+GruFeQV3aXaa91x5HTtkvaX/X8BygIBAuAAggBYAcIDOAfbCgIONBABEvgTcxZiGUscSx6FHmIcyheOEbkKwASaALL+6/5dAAICdwL0AC39v/fX8ffsouk26FbokOl762/tcO+m8XD01vdZ+9z+zgEZBFsF9wVbBu8Gnwh8C6EPHxRFGBobChzhGuYX/hOvDycMagmFBz0GJwUQBKUC6AD1/tr85voM+TH3QPU+827xN/C47yfws/ES9AL3Gvr6/Gv/TAHHAugDCQVQBtAHoQmyC5cNUA90EBURHhG4EOcPpw4LDSwLCwnsBvMEMQOrAUIA4v6M/RP8m/o2+df3pvba9WL1L/Vc9Qf2//Y4+F75pvqZ+0z8ufwQ/Yn9Kv5N/94AbAKCAyQEAgQpA9IBMADD/qD90Pwx/Nf6mfid9bnxm+1H6ZjlpuGo3dTZ/9V604DS+dTd26XnUPZcBdQQJxaDFBUNoQOJ+yX4gfvSA4MO3xgyIIojcCPtIPEcLRnsFTcTFxAJC/oDnPvL82vuBu2876b1+vsgACAALfu/8mfpx+Hv3ezeA+Qb7B/1Pf1MAxYHRAnqCt4MPw/eEeATrxTZEwMSBBAtD0EQZxPVFykcxB5fHqgawxMiC4YCOfsm9rfzXPP184v0WvQz83zxs+9g7pXtaO1c7VbtUe2I7WXuafD18+r4t/7KBFcKmA5REUkSJRJ+Ee4Q3hB+EX0S7xM/FSgWRRZJFWcTqBBXDW8JWQUcARv9Pvk09uDz0/Kc8jHzVfQr9bL1e/Xs9BD0YfMX87TzFfVw95T6D/77Ab8FGAnlC+8NNw+8D7sPYg/XDkgO0A2EDWINJw2zDAIM+wp2CV4H0wTdAcj+0PtB+Sv3q/Wk9Fv0nfRF9RD25/a/92348/g9+Zz5Ifrb+gf8if1q/1QBXQNWBewG+AeCCHcIIwhsB3sGaAVBBOsCbQHT/zf+kfxK+yP6/vhr95z11/J67z3ruuZW4qDe+Nsn2n3Z8dig2RnczODf55zwf/rcBEwNIhN6FZ4TDA/WCRgGpwUcCfkPbBhsHxkjOiPcH8wanhUWEQgNXwm5BXUBpvyG92HzpvCa74rwl/Lq9Dz2hPWt8jjuaekC5mnl8udo7aP0JfybAnAHUQq5C48MNA04DqEPEhFcEhYTHROdEkUSTBLlEvYTxhTNFCETyA+NCl8EG/79+KT1GfQW9MX0U/UZ9QD0A/LM79Tt3ez27B7u4O/c8e7z0vXh9zn6UP3dAOcEnwinC5QNPQ5ADp0Naw3UDe0OhhAjEkITUhNHEh8QYQ1bCpAH+gTFAr0AiP4q/In5F/cX9QL04/N39Hb1T/bp9gj3zfaN9qz2dfcF+Tz72v25AHcD1gW0BwMJ1AmEChILpwv6CxsM/QuPC90KHQpUCXoIkweJBk4F3AM9AoMAxP4j/c37yfon+rr5XfkB+bf4ifhl+Hr42PiD+Zr6tPvK/NH9tf6M/1wALQEAAtICdAMiBJMEvATUBLQEjgSABF0EHQSyA+UC7AFxALv+7vxZ+w/6OPm9+F/40veE9rD0GPI376Lsa+oR6R7oseeB5wHoBukX61PujPId+Kz9GAM1BwEJwAgBB9wEpwNFBP4G3wo9D38SYRTOFN8TsxIiEZQPAg7RCzgJ9AVFAsb+1vva+U351/kf+yv8QvwG+6b4tfUP82XxH/Eo8gj0SvZI+B/64vuh/fz/lAJ9BSgINApTC2oLygrfCS4JRgkZClwLhAxCDSUNMwyiCs8I+gZhBfwDlgISAQn/vPxt+l/44/YJ9vb1TPbe9jL3CPea9gH2kfWJ9Rj2R/f4+Mz6o/xX/tr/WAHqApYERgb5B2kJUQqtCoMKKQrUCbsJ9QlXCr4K0gpnCkkJjgd7BU0DUQGb/0f+Hv0X/B379Pnm+AD4jfeT9xX4yvh4+fz5Nfo6+jn6d/o5+2z8Mf4iAPcBiwO9BI8FIAapBiwHxwc6CJMIlAg/CKAH4wYjBmsF1wRYBN4DQgNxAlgBGgDM/pj9n/zm+1L75PqM+k76PPpU+p/6L/ve+7L8gf0t/tv+Yf/l/3QAIQHaAZoCTAPgA0oEdQRrBEQEFQQDBO8D0gN+A/cCRgJiAV4Ab/+b/uT9Sf2u/AD8Q/ty+rr5HPm9+IP4jPiq+O34O/l0+bf5+PlF+mz6w/o1+877qPyQ/YH+eP9PACwBAwLNAp8DbwRGBewFdAZqBvIFBgXtA68CmQHbAC8Apf8b/4f+ov21/Kj7cvpI+VH4i/cZ9+b23/bo9gv3UPfI94T4m/n++mz8t/3v/uX/mQA4AcMBYgInAwIE3wSlBSEGTwYoBrIFHwWHBPsDhAMZA5oC+wFMAYQAvv8E/2n+1f1Q/c/8XPzp+477ZPty+7n7LPzf/J39av4n/7r/TgDiAJkBZgJSA1AEPQULBqMGEQdLB3gHiweNB3YHRgf9BpkGDAZ2BcYEAARKA5cC5QEvAXgAy/8r/5X+Av6G/Rv93fy+/LT8y/z5/Dr9hf3m/Un+t/48/8f/VADvAIQBHQKgAh8DhAPOAxAERARSBFIEQgQXBOwDvAN4Ay4D5AKGAhoCtAFZAewAkAAWAK3/Nf/Q/mz+Nf4N/vT9+P32/fn9Gv5C/mX+hf6u/tb+H/9b/6f/8f82AHYAvgD6ADQBXwGNAZ0BngGOAWgBSQEfAfcAvgB/ADUA6f+b/07/+v6j/lr+E/7O/Zn9Z/09/RH99/zq/Ob8+PwH/Sz9V/18/ar98v03/or+3f4+/6P/EwB7ANcAHAFTAX8BmAGlAacBlAGIAWIBOwEbAe4AuQCDAEsAGgDo/6z/Xv8J/7z+cP4c/uL9uP2V/X79d/1i/VT9TP1K/VD9ZP18/ZD9oP25/c/97f0I/jP+cP6w/uf+JP9A/1L/WP9G/zb/LP8m/yf/MP8v/yj/HP8G//T+2v7D/rr+rP6Z/ob+hf58/o3+s/7W/vv+L/9U/3r/tP/p/yIAZQCoAOYAIgFJAXYBjgGjAdMB+QEjAjkCSwI9AikCAwLcAckBwwHDAcgBxgG9AacBkAFnAVABQQEsASQBFQH/AN0AwQCsAKgAvADOAPkAJwFEAWYBdQF7AYABhQGKAZEBqAGzAckBzQHMAc4ByQHBAbwBuAGhAYsBYgE3ARAB5ACzAJEAdgBfAFMAUAAyAB0ADQDs/9P/xf+z/7D/rf+k/5n/jv+E/3D/Zv9k/2j/cf+E/4//mP+R/2//Wv8p/xv/Cf8G/wL/8v7u/tr+xP6m/on+gP5s/nH+dP5z/nX+d/6E/pP+s/7I/tf+6f7x/v3+FP8D//b+9/7x/gj/Gv8l/zr/P/8w/yX/Ef8C//L+5f7h/s3+0v7V/tj+7f4E/z//eP+j/8j/u/+D/1z/Pv8e/xT/I/8g/xr/Hv8R/xT/F/8S/x3/JP84/0v/U/9b/1D/V/9M/1H/Yf+A/7T/2//0/xIAIAAjADYAPQBLAFMAYwBvAHwAiACYAK8AvQDWAOIA+wABAQQBBQH7APgAAAEIAR4BNAFKAVkBYQFkAWUBXAFcAVYBSwE4ASoBJgEVARMBCAEPAQ0BGQElASoBJwEsASEBIgEhASUBJwE0ATMBQwE7ASIBJQEuATABOgFKAVEBSwE+ARwB/wDgAMUAoACDAHMAWAAzAAkA4f/H/67/mv+J/3X/Yv9I/zD/FP///uv+3f7U/sL+wf7D/r/+uv68/r/+vf7E/sH+uP6n/oj+c/5J/jT+I/4K/v39+/3r/d79yv2x/Z79j/17/Xj9eP1x/XT9eP17/X79kP2i/bD9yf3j/fn9BP7z/eb97/3t/QH+If5A/lf+dv6H/oz+jf6W/qr+w/7r/hX/M/9Y/3f/k/+q/8j/5P8JADQAYACMALQAyADZAO4ADgEeAUABXwF+AZEBrwHMAfIBEwI7AmYCiwKtAr0CxwLPAuQCAgMnA0gDbAOIA6EDpwO0A7ADrwOvA7gDuwO2A7IDkQNzA1cDPgM2Ay4DJQMfAxwDBgP6AtgCswKeAocCgQJ3AnICbQJtAmgCWQJbAlICTQJDAi0CBwLhAb8BkgF3AV0BSAEmAQoB5gCwAIkAWAAuAAoA7//Z/8H/rf+D/1H/H//1/s7+s/6f/pP+fv5i/j3+GP7x/dP9vf2v/aX9kf12/VD9J/0A/eX8wfy9/Lb8sPyu/KH8g/xm/EH8FfwM/A38+fsK/An88/vg+8T7o/uL+3D7a/to+2r7XvtS+zH7Cfvc+rn6n/qh+rf6x/rx+hH7Ovt6+6b73vsm/Gj8nPzQ/PT8Ff0//V79oP35/V3+uP4j/2j/q//f/wsANwB1AMMAFAFaAa8B9wEvAlwCmALfAisDhgPhAykEZwSYBKEEpwS8BNUEBgVJBZMF3gUbBlEGTgZFBjUGHAYJBgUGCQYCBgEG9AXZBboFqAWcBZsFogWuBaAFhgVfBS4FAwXoBNYE0ATCBJoEdARLBBUE7wPBA54DgwNyA14DMAPtAq0CbQIaAt8BuQGWAXgBRAEOAdQAiwAyAOb/nv9e/yH/6f6q/m3+M/71/cv9o/2C/VT9M/31/MH8dfxD/BT89vv1++776Pvr+8/7tPul+5L7lfuJ+5L7jvuG+3f7Xvsw+xH7A/sC+wb7GPs5+0D7RPtE+zP7KPsx+0P7W/t/+6H7s/vA+8P7xvvM+8r7yPvI+8b7q/uR+2X7J/sB++b6zfrS+vL6Jfuc+0r8FP0w/mL/bABYASYCYgIaAscBPwHoABYBnwE7AtQCcQPXA8UDbwMJA7cCzQIPA5IDJwR0BKMEjwRVBAIE5wMhBKEEEAWlBecF+QWoBTgF3gSjBM0ECQV5Bc4FAAb0BaMFPAXqBMwEvAS1BNgE3ASyBGUEHwT8A/wDMASKBOgEDwUNBc0EUwTwA6oDlQOUA6gDqwOKAzsDvQI6AtMBiQFvAYgBoQGDAUABBgGeAFIAHwAKAA4AJwA0AC0A4v96/xz/vf5n/lL+YP5d/k/+R/4n/tr9dv0z/f/8z/y9/NL87vzF/IX8OPzr+6H7iPuH+6v71/v2+wv83vuB+x/7zvql+pD6sfrC+rP6g/o6+tr5a/kp+S35a/m4+QT6Uvp7+nX6YPpJ+j36Zvq3+g37dfvI+wj8K/w5/Fr8sPwD/YT9Gf6C/r7+zv7d/t3+5f4T/2L/xf8SAGcAoACxALUAzAD2AEABgAGzAeYBFAI1AlYCbAKGArUC7gIhA1cDeAOHA7MD0gPlAwoEKQREBGYEegSEBJIEsQS7BNME+gQnBTEFJAURBfgE1wS+BL8ExQS+BK8ElARuBDIE8wPDA6UDnAOXA4sDdAM/A/MCpAJXAiECAALsAdsB0QG0AYYBXwEyARsB/ADrAOMAygCrAIIAWgAoAP//5f/D/6r/jP90/1//Sf8t/yX/Hv8P//v+z/6m/nz+Uv41/hb+CP4G/gL+4v28/ab9ev1Y/Tb9Jv0t/Tj9PP1S/U79Mv0l/R/9D/0K/Rb9Jf0x/Ur9Wv1o/Xf9hv2Y/bH9uf2//dL90v3b/f39Hv4u/kf+VP44/hj+D/4Z/iT+SP54/qb+zf7G/q3+rv65/sH+8/4//2r/df9b/zH/BP/X/sr+5f4g/2T/pf/T/9b/nP9V/xr/9P7u/g3/Mv9j/3//if9n/zv/G/8O/yP/Yv+w/+X/+v8SAAEA5P/P/8j/3P8LADoAVgBvAG0AfQCHALEA7gBLAaAB5wEXAjICNwJAAjoCSgJ+AsACAwNXA30DhwOLA4EDiwOWA8UD4AMCBAgECAT7A+YDuQOjA6wDsAPLA9UD0gPMA7IDlgNoA0EDLAMYA/0C6wLXAroChgJjAkkCMwIXAggC+AHuAcABjgFfATwB+QDWAMgArgCXAIkAYABDABYAAADg/8v/sf+m/43/b/9K/zH/BP/R/qb+fP5e/jr+Lv4a/gv+7/3M/aX9g/1a/UD9KP3//L/8n/xz/Eb8Lfwf/P/7BPz/+9L73vvo+8b7xPvS+7j7u/uh+3L7Tfsl+wr78fru+uf6yPqx+oD6M/oJ+u754vnh+QH6HPor+kv6cPqd+tL6EftU+6773/vj+9H77vsY/Dv8jPza/B39X/2O/Zv9qP27/df9+P1A/oD+sP7D/tD+1P7q/gD/O/+L/xAAXACoANkA7ADhAOIA9wAiAXUB0QFWAr4CDAMuA0gDYQOMA9gDMwSZBBEFaAWwBdMF3wUKBkMGpAYRB2wHqQfTB9cHwAecB3cHiQeFB7MHyQfiB9cHuweUB28HSAdABy8HKQcfBwIHzQZvBhQGzQWXBWoFYQVDBR8F7QS6BIwEWAQvBBQECQQCBN8DsQN6AzgDAgPbAsQCvQK4AqACgAI5Au0BnAFQARQB6wDSALUAjABSAAsAtf9i/x//7v7M/rX+pP57/jX+5v2H/SL92PyR/FP8Ofwb/Mf7qPuS+z377Pqt+lP6BvrR+aD5Zfkv+fv4uPhK+Mv3XPf09mX27PV99fv0bvTk81fzyfJL8vTxxPHH8fzxYvLG8i/zlfPP89PzxvOy88fzIPSx9GL1O/YM96H3Fvie+Bz5qfmC+oX7nPyL/Wb+Cf90/7j/LgC8AIEBggKIA3QENAW3Be8FFQY/BoUG6AZkB+cHTghuCEgIEAjLB6wHwQcCCEYIjQitCJcIYAgGCKgHbQdMB00HYQdsB0QHAQekBjUG6QWwBakFvQXKBcQFqQViBe0EjQQ7BAsE8wMBBAgEDATzA8wDmAOAA3cDhwOtA+UDGgQhBAcE1AOkA2sDWgNyA5kDxwP8AxcECgQDBPcD4APPA90D6APyA+4DyAOxA3kDUgNLA1sDaQN8A5ADhwN3A08DGwP/AuMC3ALSAs8CtwKRAnACRQIVAgUC+gHlAdIByQGTAV4BJgHaAJoAdQBOACEA/v/V/5n/Wv8T/9P+pv5y/iz++f3E/YD9GP3K/Gj8Bfy7+3j7BPu5+kX6zvla+fv4b/jx96P3HfeM9hn2c/W79B70dfPK8jvykvHv8Fvwue8k78zumO617jfv3O+U8FvxE/J98rfyuvKe8sLyMPPj8+H0C/YW9/33qfhA+dH5lvqb++f8QP6S/6gAZgHSAR0CawIAA+ADBwVYBpsHeggFCVUJXglrCaQJBgqcCi8LjQuXC0kLpwr+CYgJXgmBCdIJIAo5Cv8JgAnFCAUIfwc2BzUHRwdEBw4HjQbPBQcFZQQFBOUD+QMnBC8E+QOAA+cCRwLIAYUBhwGoAdEB3gG5AXYBIgHUALIAywAcAXoB0QH9AQAC3AGZAXsBkQHRASEChwLXAuwC7ALTAsgC2AL+Aj0DjwPUA/QD/wP1A94D2gPnAwEEMQRcBIEEhAR6BGQESwQ6BDgESwRWBGcEVgQnBOwDuAN+A2IDXgNjA3IDdQNjA0YDHQPpArcClwKBAlwCOQL9AbEBWQH+ALYAfwBaADUADADy/7P/Wv8T/7n+aP4e/t/9kv07/er8i/wr/M77cvsx++z6p/pZ+v/5mPkl+ab4M/i890H3zfZS9sj1MvWG9ObzQ/OS8ubxVPG18Ajwb+/E7jXu0e1+7X/t2e1K7v/uvO938CnxlfG38cvxBPJb8vHy5vMO9SP2SPdM+AH5uvmg+rX75/x6/gUAawGVAlED3ANcBMsEeQV+BpcHrQjQCYUK6goSCycLTQt1C9cLTAyqDMsMfwz7C00LqQoiCvAJ+wkYClAKSwoOCosJ+AhVCM0HkgdmB0UHAwecBvsFPAWCBOwDogOOA7MD3APmA7YDWQPZAkUC0wGNAWIBZwFkAUwBGQHcAJwAcwByAKQA+wBUAaoB2gHbAdgBtQGfAawBzgH9ASsCVQJ7AoMCiQKXAroC5gIdA1sDlQOwA78DpgOjA6QDtgPVA/QDJQQ/BE0EQAQnBA8ECgT9A+cD1gPBA5cDYwMnAw8D7gLWAtgC0ALGArUCnQJ2AlsCSAI2AjECIwIKAukBwgGKAUwBHQEFAe0A6ADXAMQAowBpADUA9f+//5D/gf9b/zD/BP/I/nf+D/6u/Vj99/yu/GD8Gfy/+2D79/qF+iT6ovlH+dD4SvjM9yf3gPbJ9Tr1m/QN9IrzEfN38tLxOPF18LjvKu+N7gfuwu2q7aLty+0d7rnuru+98OHx4/KF84bzK/PV8rzyF/P787D1kvda+fj68fuP/En9Ff4q/5oAVALnAxwFzgUDBvIF2gVLBi4HswhyCjwMlg01DhYOaA2pDPQLsQvVCz8MqQzMDHUMxAvzCkEK3wkSCrYKZQv1C+sLUwsyCskIeQd+BgAG6AUGBgEGwQUyBXkEqwMYA9sC8AIqA1ADJgOXArgBmQCU/+P+rP7P/iz/pv/l/+7/p/9Q/w3/CP8y/3z/zf/6/8f/af/2/qD+jv7I/mP/JgDqAFUBnQGUAVsBIwEJASgBcgHYASYCRwI7AjoCMQJCAoQC9gKMA/oDKgQXBN8DdAMMA9IC4QIFA00DkwO0A6UDdgNbAzMDNANZA4YDoQOoA3kDNAPRAocCagJvAqoC5gIwA0MDLQP/ArgCVwI6AiwCOgJFAigCBwKsAVAB7QDCALEAwgDfAO0AzwCHABoAof8v/9n+kf5Y/i/+4/2G/RL9svxJ/Or7wPum+5j7UPvs+mD6xvkM+UH4uPcl95/2FPaA9bP08fMN8wnyGPEj8DPvWO577aLs+euE60LrbOsf7CXtse548GTy/vOS9BD0JfMc8mLxavHc8lv1C/i7+hf9Xf4Z/9L/qAABArcDpQU9BwgIBAiFB78GWQbXBlwIuwpyDeQPgBGzEZkQuQ66DO0K8Qn3CZIKOAt/CzMLeAplCX4IJwh3CDUJ2wk4CrIJZQiMBpkEHANfAngCDgPlA3MEXgSiA3gCLwEvALr/xP87ALgA7wC2AAUAFP8X/nr9Yv2t/Vn+9P5X/33/TP8b/wb/O//L/3QABwFMARsBlQDb/y//9P46//X/AQETAgADkQO0A2MD+AKTAk4CNgJLAlACbAJtAkwCHQIhAm0C3AJVA9EDFgQMBMIDVAP3ApQCdQKiAtkCNANjA58DvwOoA4IDTAMYA/4CBQMgA2sDzgMhBFYEaQRHBPgDngM6AwQD8gLwAgsDIgNEA1ADPwM7AxwD8QLMAm4CHAKQAeYAOwDD/5j/vP9JAOcAaQHYAdIBYAF6AHL/k/7c/VP9P/1Q/Ur9N/0Q/cD8cfzv+1T7sPq6+YL4B/dq9f3zsfKJ8dzwcPD27zLvvu3Y64HpoObC417hb99O3jHeUt/C4VvlOOrQ78r1ufv7/2wBmwCf/fr4N/XS87P1tfqgARwJTQ8IE8MTMROLEeYP4w5pDuQNgwxhCuUH3AXlBOwFBgn8DOgQEBOcElcPdAkLAyL9GfnT9/H47PvO/lkBfQKCAvYBVgFeAd0BbwJwArQBzf+o/ez7iPtQ/dkAngUwCjANAA46DG0ILQSHAIv+hP4QAGwCiASrBacF1wS2A6UCIAIWAuEB+gBH/wD9bvqI+BH4XPk5/K//+wL/BB0FmAPHAOb9vPsG+8z70f1UAIUCBATrBHoFxQVPBusGhQeiB8cGQwVUA6wB2ABZARcDdgX1B64JMApmCZIHagViAwgCUgFpAbIB+gE7AkYCYAKoAkoDDASpBMIEXwRRA7oBUgCE/3z/UADuAb0DUwUyBl4G3QXcBN4DAQOeAmUCdQKpArUCzgLAAtgCIANcA5cDlgM0A20ChAF3AKH/Mv8U/2T/yP89AGgATADj/zn/vP75/Zn9MP3k/Hv8+vuT+736QPrH+UX5FPld+EP3Efb685Pxsu/67ZjsVuxb7ELshuvO6UPn0+Mm4JLc+tn12JDZS9vV3jHky+rF83H+iAg4EIUTixCOCNv+fvYi83723v+qDJ8XYB5XIAkdZxeqEqUP8w4pD/YNaQviBogBlv35/AUAeQUpC98O0w4ICiUC6fj58JzsfexF8Mb2z/0VAyEGlwYlBUID8wGJAUsCeANRBIoEXgRUBEAFowdHC8UPYhMgFSUUSRByCgIE3v70+yr8hv45AlwF5gYtBk0DQv8M+9P3Mfa29br1x/WO9S/1CvU59tj4qfzRADsEHQapBXoDgwA2/mn90P4+Aq8GvAqJDZwOxA2ZC3AJtgdqBuAFqQW+BUAFOARSA9ICygI8AycEwQSbBFUDYAHV/nX8Gfsb+4T8tf5nAXUDbQRoBJYDOwJIAfcA5QE8A84EbwajB2UIpQj+CFsJrQmdCWAJhAgRB1IF7gMEA8ACVQNABHEFTQZRBpcFCgTTAa7/zv2+/K/8I/0c/iL//P8oABAApP9N/9v+gv4t/pP90/zf+2j7HPtb+wH8wvyU/RP+yP0F/Xv7q/nS9yX2rPRN80LyBvFl76Pt7usg6qDo6eY45YrjHeGM3j/c4tmQ2GrY6dmo3YPj7OqK9A4AqQp8EzgYqRYAEKMGnf3s+M/6SgO0D10bsSNGJn0iixsfFGMOzQtNCi8JrAedA3L+mvon+Qb7k//hBD4J6Qm9BV/+Q/Xs7MTnM+dL68LyVvvgAh8ICQpaCTwHFwXlAzYEmwVGB9QIxgkoCpEKzgswDjsRDBSAFaQU5xC2ClwDr/wv+Jz2Jfiu+3n/9gE4Avj/Dvx996LzT/HK8JXx5/JS9Gj1hvYM+Iv6Jf6BAncGTQlRCmYJPwfcBIkD6gMJBmEJ+AykD2wQbw8XDVsKggeFBYoEMwT6A60DEwMgAmABwQB/AJsAcgAYAEX/7v2e/Hz78vpG+5X8qP7eABoD3AT+BV4GWAYdBuYFzQU5BhgHJwhlCU4KFwtXCw0LUApNCQQIvQZ/BWwEjQP/ApICMAIkAtABfgG8ALD/hf4j/Rz8c/t7+9P7ePxp/W7+Qf+//wsAQAA1ANj/bv8s/yX/+/4c/6z/FAA0ADQA4/9v/5v+Uv0V/Mj6W/mu98H1G/SS8onwle7G7AXrWekG55XkIOIa35Xb8tjw1pvVVtUr1obYVtwp4uDpDfPr/n4LgBX8G8gdixiODgAExPw+/K4CoA5wHCInGytZKPUgTxfYDjMJtQa7BfED9ADg/LD4Q/ay9u351P6EA08FZwOV/TT1E+215sfkz+cc77b48QE4CRYNNw03C4QI7QbPBu0HNwoNDBYNbg2MDUMO/Q9qEqwUvRUfFAMQagnCAcr61vXn86r0T/d++qT89vw1+1D40/S58SDwqu9X8LHxNvMN9Rr33flE/UoBgQUxCYULNAyRC+AJGQgKBzgHvwg/CyIOKBAZEYEQiA6LC+0HyAQ5Ao0Anf/m/sP+m/5f/jP+Fv4w/iv+Df6z/fv8Bvwz+8v6V/vG/DH/IwLtBD4HxAg5CQoJhwgmCBUIIwjiCI4JAwpACkYKTgrmCXwJ6gj2B5UG3AQoA2oBDwA4/xz/Uf+y/yoATQAXAGr/if6S/af8MfwX/KX8lv2r/tL/3QCkAfoBGAIKAqUB+gD7//L+Uf4J/gf+1P65/4gAzwD6/5n+pfyI+pz48/bc9Xj0rfLE8CruoOux6SboPOfo5uTl3uM94czdRtqb1xjWRtbB2LbcneHU5yPwDvq/BN8PPBm/HfcbHRVcCyYCUv3j/t4GlBLUHSAlOyblIUwa0BFVC/sHWAY5BVQDw/9o+zH3DfUG9s/55P7KAiwEEQJ//PX0Ne456jDqfu7e9ab+bwaHC2kN0gwGC/gI2AdYCJkJMwtYDOQMNA1rDSsOkg9mEX8SKRLGDzwLOwWN/t34PvUq9Ev1//fK+rT8z/wQ+xL4fPSd8frv2+8X8TTzcfXk91r6//zK/8MC5wVnCBEKbQoICusItQcNB4wHPwlCC0oNzQ7lDowN7grXB8cEPAJtADn/yv50/h3+l/3z/Aj9Vf3Q/Vn+s/6+/iD+L/2+/Pv82P20/zgC/wT8BnsISgmDCT4J6wjUCCYJUQmOCdQJ/gkLCqwJYwm6COQHjwbuBCYDcAHz/8v+Yv6b/gf/nf9ZANIA8QCdAOL/C/8h/nX9gP0K/v3+bwC4AfECsQMWBNkDWQO0Au8BDAExAK3/F//Z/t3+Kv8//w7/lP6//bL8SPuI+SP4ifYk9dfzX/Ia8YjvC+5S7I3qCemu5y/mY+R64nfgUd4p3Obakdrd2sDcAuC95G/revPu/BQIYhNHG8YeQh0jFiwMJQOK/oMAKAjnEl8d4CObJKcfnBfKD48JwgWKBIADlgFN/rv5E/ab9Kn1X/ko/vsBRgMTAdL7hvXY753sBO0+8Vb4OQA2BxoMeQ5QDr0M9goHCrYJ/wmzClkLtwulC9oLuAz+DUAP7Q9bDxIN5AhpA7z9vPhS9RH0s/St9sX4WvrD+vT5Eviw9X/z8PFY8Zzx0fLk9Gj3PPp0/b4ACgS5BtcIGwqdCkQKeQnRCGIIdQgiCXQK1wvUDC4NkAwyC+UIPwZUA/4AcP9R/uD9zv0m/ln+Pv7k/WX9D/25/Lb85fwV/WX9x/1I/jr/ZAAoAtADqQU7B1AI/QgFCegItAijCLQIBwlhCZEJgAkcCWkIcAdRBisFAAT3AvgBPgGrACwAEwD6/ysAJAAXANb/Jf+A/sH9W/09/cH9hf50/0oAxgAgAUwBRwFKAU8BRAFNAQ0BpAA0AP7/0P+e/67/0f+6/xX/RP5Z/VL88fpk+UH4L/fB9Wn0+PKP8c/v7O1a7Ozq2Oml6D7nfuWE4/fgo95F3XLcrNwN3n/g+uOn6MDuifZIAGgLyRXLHJkfbhwXFAcKzAHD/toBLArlFGMeYyM9ItIcFxU8DVkHJAQFA+gBw/9I/Dj4oPTF8unzX/cY/A8AwQFWACX8cPYb8RDusO718gj6WAJYCYUObhDTDw4OAAwFC/wK1AsHDb4NpA0SDXQMYAyjDB0Nkg3pDGcKPgb1AHb7tvaV88PynvOT9WT3rfjO+Lj3FvY59O3yW/KZ8njz7vTS9vP4f/t+/soB2QS8B9kJIAuJCw4LQgpqCbUIcQiQCE4JLwrWCiQL7goACkwI4AVGA+QAzP42/Sj88vsM/F/80/wC/Wb9f/2Y/bb93f0U/kP+pf40/zcAgAFMA14FaQchCTQK0wq0CgoKOAmSCFQIIQgQCCAICwjjBzoHuwYUBjgFcwSNA54CaQFJAFz/xf5p/mT+qP7+/g//Ff/o/o/+Tf4l/jX+Y/66/jr/yP8tAK4AEwF1AbABkwFyATsBxQA/AK3/AP+l/jX+Af73/RP++f18/cz8Afz5+or5kvhw91T2JvWS8w/ypfAl7/3tPO3Z7Fvsc+tK6ojoP+am42bhud/D3s3eON8C4TjlTeuv8wT/SQt5FY0bFhwhF5AOxQU8AAgA6QTsDG8VeBtUHT4buRatEYAN/Ap4CcQHwATw/1r6B/WH8TnxqfMf+BT9uADvAcT/dPtY9s7x+e8B8U31lvv7AZAHMAsKDWENOw2GDVUOiA9PEC8QEQ8RDd8KVAkLCdQJXQu7DNgMagvvB04DBf5P+dP1/PPH82H0j/U99kz22fXc9D/02PNG9EX1pfbw9yP5QPo7+7T8WP60AFQDFgbWCMQKCwwoDJ8LxQqgCeoIvwjvCBsJ5wiCCKoHUga2BBUDogEhAMH+nf2//AT8cvtR+5v7A/zB/Kr9Xv7w/qL/VgDVAIUBJQLDAq4DmATGBekGDAgMCakJJwr5CeQJjAm9CP0HcQfsBpIGSgYFBuMFYgWnBOUDCgMtAnQB+QCQADUA0v91/2r/Of9R/6X/4P8HAPL/BgD3/8T/vf+y//X/8/8aABMAw//B/3z/aP88/wj/Df/V/pH+TP4j/uP9uP2T/Xr9Yv3K/Af8JPtO+nn5cPh991T2U/Uj9OzyrPGZ8JXvPO4T7cfroeoU6Q7n/eS/4mrghN7M3UrereC/5XXtT/hkBLwOyhWZF/wT+QwpBdj/yf81BGoLWxMRGewaRBlWFZARAg/ODYUNiwyBCQUE0fwF9ljx0O8s8h/3ufwTAZECpwBx/Db3wPKe8JPxGfUM+gT/5wKOBSkHHAieCRIMsw4eEZkSXxKcEL8NuArdCFwIKAnuCqYMLg0bDD8JOAXbAOH8EfqZ+Ar4/vcn+O/3YPdo9mP1vfSV9B319/UG9xb4xPiH+Rz6Mvvo/AH/0wFuBP0G0gi9Cc4JKglyCKYHeAeDB+gHTgiBCHMIugfZBoYF6gNmAoAAuP5J/fr7aPsw+2j7Nvz1/Fj9sP3B/bb9Af5F/gP/6v/SAIYBLAKkAugCzgO3BAgGjQfdCOQJXApwChwKWQnPCDgIzQdrB9EGGwY6BSUEMwOkAlMCTgKaAssCrQIhAjMBDADM/uj9X/19/SX+Ff9bAG4BNgKzAu0CuQJSAgoCmAEDAWIAwv9u/yX//P4c/2b/vP8YAFIAKQCL//X+H/5R/aX8Jvze+3D7OvsF+7/6dPrO+an5Jvmw+N/3wfY09tL0MfR08/jy3PLe8VbxK/Aa76btw+sz6nXopeat5AjjAuJx4Rbia+UJ7DP2OQInDo0X6Bp2GHwRjQiiAXz+xwDQBugNMBQ3FwUXkhTGEcAP4w6HDnQNfQqMBPr8ivWn79zsKu7C8gH59/68AuYD6QGB/Qf5kfV99Nr1A/kS/aYAdgOOBWkHEQpyDQcRTRQHFqUVLxMDD9EKRAdYBR0FOQb3BwAJ/wjAB1MFUQJA/9f8/vp0+SX4svYd9Y/zN/K08TPyq/MH9pr49vqU/Gb9df0a/QH9XP10/j4AVwKmBI8G4gfgCHYJ1glTCscKEAvOCvYJsAjeBjoFxgO3AkcCtwFFAXsAJv/H/Vr8WPvs+iP7Cvz2/L/9TP5a/jr+UP61/tL/PwHUAk0EMQWTBYoFnQXoBYYGpwf7CDAK4ArhCg8KqwjcBi0F6gMAA5QCcAJtAjsC6wFxAaoA4v8//wH/B/9A/5H/0v+k/0H/uP5Q/nP+5/4XAHoBxALNAxgE+gNDA5UC+wF6AZYBtAHnAdUBOQFCAN3+o/0J/fT8ef1I/hH/k/8y/x/+hfzg+rf5u/ij+On4E/n++GX49/c39732i/aw9iD3Sff+9jr2IPVs88HxQ/D/7hLuC+0L7Prqrekg6HHmBeUD5NLjjuVk6j/ywvyPCCATExrVG6cYthECCoYEyALVBG0Jdg4NEv0S6BF1D0cNSAw1DKQMFwx3CSYEB/1A9dzubevR667v9fWQ/KgBHgSYA98AHf0J+oz4MvlO+4z+1wGCBM4G7QhvC6MOKxKxFSEYiRidFlUSoAy2BqUBvf7o/e/+YgF0A7kERQR7Asn/ufwr+ib46PbU9b/0hPNX8pvxz/Fn83P2Qvp5/h0CgQSkBV8FPQT1AtoBmQEoAmYDMwXxBoYIeAkTCjsKEgqlCR0JYQgBBzgFHQOqAGr+gPx6+3H7C/xI/bT+yP8pANr/C/8Z/hz9u/wO/e39Q//MAFUCqwPOBK0FWgbsBpkHRwh6CIMIFAgsB0gGRwXPBLME/ARwBecFSAYLBk4FFQSKAgUB7P9T/2b/vP9DALwA0wDGAFsA+/+d/2//gv+2/+H/x/+P/2H/Sf+a/zwAEQH7Ac4CZgNmA7IClgEtANv+Ev6u/e/9qf5Q/73/gv+0/rr96PyM/JX8A/1P/RH99Ptl+rP4OPdV9jH2xvaE9773WPdg9vj0UvP48fTwSvCa71Xuhuz36bXm9+JE37PcRtz73pHl5+9O/P8HrRDKFC0U+Q+UCoAG9gREBk0JggzNDrQPRQ+HDlQOLg/8EMASLxNYEW8MmwSh+xHzEO316mjsHPEN91T80P+6AJP/gP1d+2r6nPqt+xj94v10/u7+9v97AmEGjAsEEZsVphhPGaEXKxSJD+UK3wYTBJwCNAKOAvMCMwPLAvYB3wB3/xv+pvwr+6D5nfeh9b7zVfL28cHyq/Rg90n69Pzy/iQAngCnALwA2AA9ASQCQgNuBH0FTgb4BlkHqQfmB/wHFQj+B+gHjwfQBqsF/AMsAkMAvP7m/Wn9jP3j/Tr+iP6I/mr+Rv43/qD+Zf9fAGMBIgJ0AnMCAQLaAfYBfgLHA/IEXQYgB1wHSgefBloGxwUGBlUGkwYhB4AGuQU+BLUCmQHxADsB6AHzAqAD1gM3A08CDgEyAPP/8f+yAPEASwHHABsAeP/i/hf/Zf96AG0BQAKpAlACnwEyADL/P/4M/lD+BP8AAE4AfACx//j+J/6M/bP9BP62/gX/Bf+J/oX9XPwZ+zr62/mI+VD5+Phz+Lz37PZM9vb1y/XS9bX1cfW99GTzWPGx7pHrb+h65SXjgeGt4C3hXuMD6Krvb/nuAy0NUhNvFWUTrg56CUsFJgMxA+EEPwdKCcQK7gsGDRsOcQ+zEBYR7g+NDD4HiQAs+RPzDO+x7T7vpvI/95j7y/5uAK8ACwA2/8D+tf4d/3L/yf8GAHoAzAEGBIEHxQtQEEAUzBZrF8kVixIlDrMJ2gUOA30BlAAgAMf/V//o/rL+hP57/jb+h/1v/Jv6i/g59lX0C/Oa8lrz6PRg9x36BP2p/7oBagM6BL8EuASHBF4EDgQSBPwDOASXBAUFngVIBvwGgAflB9EHRwf8BTAENgIYAID+Yf0a/Vf9+P3L/l7/7f/6/xsADQAMAEcAZgDwAEoBtgEVAjgCpALxAqEDbgRgBW4GNAfYBxAI1AdhB8oGIwaaBR8FrARoBB0E7wPIA6gDnANrA1ADDgPJAmMC3gFXAbsAJwCW/zT/+v7//hr/PP9x/5n/0//q//f/+v/S/8P/i/9s/0f/Lv8q/z//Yf+S/87/7P8CAOz/3P+Q/0T/+v6K/ij+jP3x/DH8j/vj+l/6Cvq++aH5XfkK+YL4n/et9q714vQZ9D7zQvIw8bbv5u3k67Xp4uc/5tfkAOQb5IjlAunA7iz2xf64BskMEhDnEAEQJw5wDCELVwq3CSUJvQibCPYI9wlmCw0NfA5ZDz0Pnw1zCsYFSwDA+vL1qPIM8STxUfIp9Az21/en+Xv7nP22/7IBHwObA1MDSgJMAbEABQF0Au8EOAiuCwEPlBFGE9sTgBNLElcQ5w38CsAHVgTcAMr9Ovt9+bX4yPig+dr6JvwW/Vr9zvxt+275Qvd19Tj00PMy9Dr1t/aI+Jf61/xh//QBggS+Bk0IHwn5CFwINwcNBgUFXQRMBHUEEAXsBXwGHQcFB94GJQYaBQMEegI+AcD/Y/4U/Rj8ivtn+wL87/xY/vD/PAFcAvcCWgM+AwUDvAJ/AlICJwI7AnQCDgO9A8ME2wUABxgI9giBCX0J/wj9B6EGIwWtA5QC6QGyAeEBKAKoAhsDYQONA3IDMgOgArcBwgCm/57+uP0n/eH87/xU/ez9uf5t/xkAmQC8ALEAdAAVAK7/EP+N/v/9lf1a/TT9aP3J/Vr+9P6J//T/BQDF/y3/XP5t/XH8ovvU+jH6ovke+cj4Wfj895r3L/fU9lf21/Ul9UL0MfP28czwi++D7srtV+127eTt/O6M8IDyufQS94j56vsJ/tP/GQHIAeoBlwEpAdQA+QDmAaMD7gWXCAAL9wwsDoMO/w3HDCYLPAkrBwAFzgKvALX+9fyk+/H63fpV+z/8b/2r/rb/owBKAeEBNwKJAskC3wL4Au8CCQMyA6YDVQRVBbMGHwiKCasKWQtqC+EK+AmuCEwH3gVcBPsCfgEWAMz+p/3k/HP8VvyE/N/8Mf1f/T79zPwg/Ev7l/oX+tX5B/pw+gn7xPuD/GX9Pf5E/2MAmgGzApMDHwQ/BBAEjwMCA4gCOwIVAjACUQJ+Ap0ClwKNAlICGgLbAY0BSAHzALMAewBhAFoAfQC8ABUBiQHpAVcCtAIRA4ED6ANwBPgEfAXrBR4GOAYQBugFtwWWBWkFTAVIBTgFOwUsBTUFMgUYBfAEmAQQBFUDfQKwAegAWgDu/7D/mv+P/5f/nP+y/7//wf/J/8X/t/+O/1H/FP/F/m3+H/7x/ev9Fv5h/sL+Kv+T/9D/9f/x/8L/av/8/nb+5P1j/fL8qPxx/F/8WvxT/E78M/wj/P37wfuG+0/7JPv8+tj6xfqp+n36Y/o7+hP68vm5+Zb5Z/kz+Sf5Ifkn+Vb5a/mS+Zb5Uvnl+Df4Tvdh9mD1h/To83DzQfNe87jzffSd9S73U/nF+37+BQEFAz0EogRIBJ4D0QIvAvABwgHNAeQB7gEPAlECvAKCA08ERAUgBqsG7gbCBjwGeQWdBNYDPwPpAsgC0QLmAvkCEAMpA3YD2wODBEAFzQU+BkIG7QVbBacEDQSTA1ADNQMoAxQDzQJ8AgwCrgFuAVYBcQGTAbQBqAFqAQcBcADd/2n/D/8M/x7/X/+W/6T/pP9d/xr/1P6t/rT+yv7x/gL/8P67/nn+Sv4w/lb+qv4s/8z/WgDqAFsBswH2AS0CcwKhAsoC7gL7AgcDCwMaAz0DhgPSAy0EjATHBN8EwQSQBF0EOQQhBCMEQQRnBH4EigSGBHUEVQQ6BCQENARIBG0ElASuBK0EkQRrBDIE+gPNA6kDjwOGA38DcgNmA1MDQwM0AyEDEwP0ArgCaAL1AX0B6QBpAPP/i/83//H+rP5r/ir+9/3O/bL9n/2L/Xb9Rf0Y/c/8ffwa/Lf7Zvss+wv7C/ss+1n7lfvH+wn8MPxM/F38Svwp/Or7kPsg+5n6+PlU+br4Jvis91L3Dffg9rz2rvaX9nb2QPbp9Wn15fRP9MXzWPMC89zy8PJE8+/z9/RK9sH3QfmV+pT7JvxI/On7NPt0+tf5mfnv+a761fs//cT+RAC7AQYDNQRFBTMG7gZqB5QHaAcKB5gGRwYlBkEGfwbtBmIH0QcyCF0Idwh5CIAIjgiSCJQIXQgGCHUHxgYxBqwFXgVIBTcFOQUdBecErARwBFMESgRvBJwEtASrBFkEzwMZA1YClwH6AHkADgCw/1b/6f51/vr9jf1A/Sb9LP1H/WP9a/1d/TP9Cf3Z/Lj8tfzA/Oz8J/1x/cH9JP6V/g//lP8JAGwAtwDhAOQA1wDBALcAxwD1ADoBkAHyAVcCxQJAA8ADVQTmBGsFzwUEBhMG+QXHBZQFagVYBWQFkQXIBQsGTwaJBrAGzAbTBssGswZ/BkEG6QWSBTYF3ASgBGgEWQRMBD4EHwTyA7UDWAP6Ao0CJAK/AUoB2gBoAP3/n/9U/x//Bv/0/uz+3f66/oD+Jv7F/VX93/x+/Cb80fub+2z7V/tV+1r7efuV+7v71fvg+8n7lvtG++r6efoO+p75MfnJ+F348/ea90z3+Pa89n32Qfb49Zn1KfWn9CX0nfMr89Tyl/Jv8l/yb/Ki8vXyiPNc9GL1jPbO9/f4C/rM+iX7Ivvv+p/6VfpV+rj6evuB/Lv9D/9UAIsBvQLrAwQF/wXVBl8HmgeVB0IH2AZyBiEGAwYbBmwG4gZhB/QHdwj1CGEJtAkAChkKDArVCVUJsgjyBzMHgwb6BZkFTAUZBeUEugSYBH0EagRkBG4EaARUBB4EvAMwA4gC1gEyAagAKgDN/3//KP/X/n7+Kv7d/aP9d/1m/Vn9Qf0o/fb8vfyP/Fv8Qvw7/EP8YPx8/Kb8xPz0/CP9Wv2f/fL9Uf6x/hz/ef/i/0EAogAMAXUB3wFJAp8C7AIzA4gD4QM9BKQEEgVzBcUFDwZSBnwGrAbbBvkGHAc6B0UHRActBxwHAQfaBrwGigZmBkIGGgbzBcQFmQVkBSwF9gS8BIEERAT+A7YDbAMkA9kClAJfAiQC+gHVAaMBewFGAQkBxQCEADYA4P+a/0L/7P6k/lX+E/7H/YH9RP0I/dX8ofx+/FX8K/wI/N37vPuY+3j7R/sc++X6rPpw+in64PmF+R35qPgz+Lz3TPfj9oH2Lvbj9Zv1SPXr9Iv0FvSp8z3z0/J18izy9vHZ8fHxNvKx8nXzXvRk9X32gfdi+Pn4Lfkf+fX40Pjy+F75DPoD+yH8Of1Z/mX/dwCPAaECxwPhBMMFcgbUBv4G/AbnBtoG/AY6B5gHGAiPCAgJZQmlCesJKAppCp0KuAqiCloK1wk3CY8I9gdzBwAHqQZOBvIFkQUkBcYEdQQxBAIE7gPOA6YDawMIA5kCHgKbATMB1wCBACwA1P9r//z+jf4r/sv9lv1t/Vv9Vf1E/S39Hf0K/Qn9B/0J/RP9Hf0j/S/9N/1A/VT9Yf2G/cD9Cf5o/rr+Hv9+/+D/SACjAAYBXgGxAf8BSAKJAs0CAwNLA44DyAMLBE4EgwS2BPEEJgVlBaAFzQX6BR8GLwY8Bj4GOgYvBhgGCQbuBdYFxgWoBZUFhgVtBV4FTQU2BR0FAQXRBKMEbQQvBPQDsQNrAyoD6QKzAncCSwIeAvUB1AGsAXgBQAH4AKYAUgD+/6n/ZP8U/9D+jf5J/gb+zv2W/Wn9Qv0Z/e/8vvx9/DT83/uF+yz73PqN+k36C/rK+YP5LvnJ+GL4+PeG9yD3v/Zj9gj2qPVD9dz0afQF9KPzWvMc8+byvvKT8n3ya/J58rryKfPN85T0bfVI9gr3mPfu9w34FfgV+DH4gvgB+bT5ffpZ+1D8Mf0p/i7/NQBHAU4COQP4A3cEzAQHBS4FVAWVBeAFOwafBgYHagfHByQIiwjyCFgJrgnuCQAK7wm3CXEJIAnPCIYIPgj6B6oHUAf1BpUGMQbQBXkFLwXlBJcETwT5A54DOAPjApUCRwIDAr8BcQETAaQAMADA/0z/6f6S/kn+EP7l/cT9s/2w/br90v32/Rj+Ov5T/mb+bP5k/lj+UP5M/lH+cf6d/tj+Gf9l/7T/CABiALEAAQFLAZQB3gEoAmoCowLdAhcDSgOBA64D2gMDBCAEPgRgBIIEpATKBOwEEgUuBUsFYwV2BX0FhgWEBX8FbgVjBVIFQwUzBR0FBQXyBNgEvQSmBI4EbARUBDQECwToA7UDggNSAxoD4wKvAnsCRAIWAucBrgF6ATkB8QC0AGoAHQDL/3f/Kf/Z/pD+R/7//cL9if1U/SP97/y1/HT8Jvza+437PPvw+q36aPot+vr5svl3+TT56PiY+Ef48PeQ9y33zfZo9gj2pfVT9Q713vS09J30gPRa9DP0+/O383bzSfMg8ynzbPPR8130C/W39Xj2N/fc92T44fhG+Z75+PlW+qT6B/tk+9L7a/wS/eP9x/62/7AApQF9Ai8DwwM3BJgE5wQrBWAFmwXJBf8FPAZ+BtQGOAedBw0Ibwi6COQIBQkACecIwwiPCF0IIQjiB5oHUwcAB7kGcwYoBuMFmAVHBe4EjQQoBLwDWQP/AqkCYQIgAtoBlwFPAQ4BzgCKAFcAHwDp/7X/hv9T/yT/Bf/v/uD+7/7y/gf/Jv87/2H/g/+q/8r/4//8/w0AHgArAEUAbACMAMAA+gA5AXoBvgH7ATMCaAKgAswC8gIdAzgDTgNtA4ADjQOqA8MD5gMSBDIEXQR+BKUExQTdBPMEDgUeBS0FKQUlBRgFBAXoBNMEuQSgBJEEeQRqBF0ERAQuBBME7APPA6YDgANUAyQD9ALDAoMCUAIcAvYBxAGYAW8BRwEdAeoAuQCGAEgAEADb/5f/WP8T/8/+hv4//gT+u/2D/Uf9CP3R/JD8VfwP/Mr7jvtJ+wb7v/qE+k/6D/rZ+a35c/lI+R/57/jG+Jf4Yvgs+O/3tPd690X3FPfe9rv2nfaG9oP2ffaD9on2lPaU9pD2hvZz9mj2U/ZM9kz2U/Z79sb2Kfev90b45fib+UL64Ppg+7b79vsx/Fz8lPzM/An9Wf2y/Rv+lv4d/7H/UAD8AKIBPwLMAjoDjwPSA/8DFwQyBEgEZASIBLIE1wQHBTgFcAWvBekFFgY+Bk8GTgZBBioGCAblBcQFmgVsBT8FDQXVBKUEbgRBBBQE4gO9A40DXgMuA/ECvAKUAm8CUQI7Ah4CAALbAa4BhgFdATYBCwHoAMsAqgCTAHcAbwBuAHUAjQCjAMIA3gD8ABsBMgFNAV4BbAGCAZABnwG0AcoB4wELAjYCbAKcAsoC9QIVAysDRQNWA2QDbQN0A3oDdgN5A3YDdQN6A4MDkAOZA7MDywPZA+cD9gPsA9gDuAOZA3wDVAMoA/8C3gLDArICpAKXAo0ChwJ7Am4CWQI9AhwC9gHRAa0BhgFcATgBGAH2ANUAuACXAHsAZQBKAC8ACADg/77/m/92/1T/NP8T///+6/7T/rr+nv56/lP+L/4F/uP9xf2i/Yv9bv1S/UL9Lv0f/Rb9B/3u/Mv8tvyW/Gr8Q/wU/PL7zPu2+6j7mvuO+4H7ePtk+1H7S/s7+zb7Lfsf+xD7BPv7+vb6+/oB+wn7D/sX+x77Hvsm+yL7I/sl+yb7I/sk+yP7Jfsl+yz7PftX+3P7jvun+7z7xfvQ++D74Pvs+/77APwQ/Bn8K/xT/Ib8z/wj/Xb9wv0D/i/+Wf53/pL+rv7T/v3+MP9m/5f/x////z0AgQDLABcBXAGdAd8BBAIqAk4CYwKCAqcCxwLnAgMDGgM/A1oDcgOPA6cDwAPUA+AD6QPrA+QD3APdA9YDxQO7A6wDnAOGA28DXwNMA0UDQgM4AzMDIgMVAwgD+gLsAtwC1QLHAr8CsgKlApUChQJwAmICUwI/Ai8CHAIKAgEC8AHvAegB4wHoAeEB5AHbAdQBygHJAcUBwAG/Ab8BvgG5AbYBugG7AcMBzAHVAd4B6QHvAfgB+wHzAe0B5wHZAckBuQGpAZYBiAF8AXkBfAF4AXsBfAGAAXsBcgFoAVcBRQE2ASMBEgEBAfQA8gDsAOgA6gDuAO4A6wDmANcAzQC8AKEAjAB5AGIAUwBHADoALwAjABYACwD///P/6P/W/8b/u/+t/5n/kP+A/3P/Yf9d/1H/RP84/y3/Kv8i/x7/Gv8T/wb/+v7u/t7+1v7H/r7+tf6s/qP+nP6V/on+gP53/mn+Xf5N/jz+LP4Y/gL+8P3d/c/9yf2+/bj9tP2r/aP9l/2J/X79cP1f/VT9Q/0x/Sb9GP0O/QH9+/z3/PT89/z5/Pj8+vz8/Pv8+/z7/PT87/zs/On86Pzs/PD8/PwE/Q79Fv0e/Rv9If0v/Tz9Sv1c/Wr9ff2R/Z/9sP3A/df98P0R/jD+SP5i/nn+kv6o/r/+2f7t/gL/Gv8w/0X/ZP+C/6T/yf/v/xQAMgBVAHMAigCdALEAxwDZAO4AAwEVASgBPAFJAVcBbAF/AZMBqAG6AckB3gHwAQsCIAIrAjcCOAI9Aj4COwI7AjwCQgJKAlICYwJtAnUCgQKCAo4CkwKPAogCgwJ4Am4CZgJTAkkCPQI0AikCHQIaAhICEgIPAg4CEwIOAggC/wH2Ae4B4gHSAccBvwGzAaYBmAGSAYcBewF1AWgBYwFfAVcBVQFSAUsBQwE5ASsBIQEQAQEB+QDoAOEA1gDMAMoAxADFAMcAygDLAMYAyADIAMgAwwDDAMMAvgC5ALQAsQCvALEAtQCzALYAuQCzALYAuQC4ALwAvQC6ALEApgCaAIYAdwBkAFQATABCADsANAAuACgAJQAcABMADgAJAAAA9v/u/9r/zf+5/6f/mP+L/4X/fv98/3f/ev97/3j/cv9k/1f/RP8w/yD/D////vf+7/7q/uH+3v7a/tj+1P7L/sv+yP7E/rb+qv6b/oz+gP5x/mz+Zf5h/l3+X/5e/mD+ZP5m/m7+dP54/nf+cv5p/mH+Wf5Q/kz+Sv5I/kj+Sf5P/lT+V/5d/mr+b/52/nz+gv6A/oL+gv58/n7+ev52/nn+fP6B/o3+lv6i/q/+u/7G/tL+3v7g/uj+8P7z/vX+/v4B/wX/C/8O/xH/Gv8j/y//P/9K/1//bf91/4D/i/+U/5z/pP+s/7L/u//L/9L/3P/j//H///8NABoAJAA1AD4ASgBRAFcAXQBdAGgAbABzAIAAhgCRAJkApwCyALwAwwDKANQA3ADfAOgA6ADqAOsA6ADpAOkA7gD1APoA/wADAQcBCwEPARABFwEdASMBJwEkASUBJAEnASYBKQEpAS0BMgEuATMBNAExATABLAEtASsBKAEmASQBJAEoAScBKQEmAScBIwEfASIBGgEXARgBGgEbASEBIAEeAR4BIQEhASABHwEfARkBEgEPAQ4BBQH6APYA7wDpAOcA3gDgAN8A2gDWANUA0wDNAMoAxgC3AKwAngCNAH4AcQBoAGAAVgBRAEsARQBEAD4ANwA4ADEAJQAdABMAAwD5/+f/3P/R/8T/vv+2/7X/tP+1/7n/uf+4/7j/sP+s/6L/kv+H/3j/bP9i/1j/Uv9Q/1D/UP9R/1P/WP9W/1P/VP9S/0z/Sv9D/zr/M/8t/yv/J/8r/y7/L/8z/zL/N/86/zz/O/87/zr/OP80/y7/K/8m/yP/Iv8f/x//IP8e/x7/If8h/yL/I/8k/yT/I/8h/x//Hf8Y/w//Dv8J/wr/DP8M/xX/GP8d/yH/I/8n/yb/Jf8m/yD/Hv8e/x7/Hv8h/yD/Kv8q/y//Ov9B/0j/S/9Q/1D/VP9U/1n/Wv9h/2X/av9z/3j/ff+C/4z/kv+b/6X/sP+5/73/yP/N/9T/3P/j//D/9v/5/wAACgASABUAHgApADMAPABHAE0AUgBVAFsAYgBoAHAAdgB5AHsAgACIAI0AlgCgAKUAqgCuALEAsgC0ALgAuwC8ALwAvwDBAMIAwgDCAMYAyADLAMsAzgDNAM4AzADEAMIAvgC8ALwAtwC0ALYAtQC2ALoAtwC3ALgAtACwAK4AqQCjAKEAnwCZAJUAkwCQAI8AjQCLAIwAiwCHAIYAggB9AHUAbQBkAF8AWgBYAFUAUwBQAFAATgBLAEoATABLAEsASgBNAEoAQwBDAEEAPwBDAD8APQBCAEIAPwBDAEcARwBIAEsASQBEAEIAPAA2ADIALAAlACMAHAAaABgAHQAdAB4AIAAfACEAHgAeABkAEAAJAAAA+f/u/+X/4v/e/9n/2v/d/93/3v/h/+D/3//e/9z/1v/Q/8r/wv+5/7L/qv+k/6L/ov+f/53/ov+f/6H/nf+c/5n/lf+O/4b/g/99/3r/eP90/3H/c/9v/3D/cP9w/23/af9n/2T/Y/9i/17/Yf9d/1v/Wf9Z/1v/XP9d/13/XP9Y/1v/Wv9Y/17/Xf9g/2L/Y/9i/1//YP9n/2v/bv93/3z/gP+H/4j/kP+U/5b/nP+d/6j/rP+z/7j/vf/B/8P/w//G/8z/0f/W/93/4v/o//D/9v/8/wAABgAMABEAFwAdACIAKQArAC8AMQAxADQANQA8AD8AQwBFAE0AVABaAFwAYQBjAGcAaABmAGgAaABmAGoAaQBqAGsAbABrAG0AcABvAHMAcwBzAHQAcwBzAHMAcQByAHEAcQBuAGsAbABnAGcAZQBmAGYAYgBfAF0AWwBZAFgAVgBYAFcAVQBYAFUAUwBUAFAATgBPAEoASgBJAEYARwBCAEEAQABAAD8APQA8AD4AOQA5ADsAOAA3ADUANQA1ADQAMgAzADUAMAAxAC8ALwAtAC0ALQAoACgAJAAjACIAIgAiAB8AHgAcABgAGAAXABMAEgAQAAkABgAEAAIAAQABAAAAAAD8//z//P/8//n/9//0//H/8P/t/+f/5v/l/+D/3P/c/9r/1//O/83/zf/I/8j/xv/G/8f/x//F/8L/wv/B/7//vv+9/7v/uf+4/7b/tf+0/7T/tP+y/7D/sP+u/67/rv+u/7L/sv+w/7H/sP+u/6z/rP+r/6z/rP+t/63/r/+w/7P/tP+3/7j/u/+6/7r/vf+//73/v/++/7//w//E/8j/y//O/9L/0//Y/9b/2v/d/+D/4//i/+X/5f/o/+n/6v/v//D/9f/3//j///8AAAIABQAFAAYABwAHAAYACgAMAAsADgAPABAAEgARABEAEgAVABYAFwAYABcAGQAcABsAHAAcABwAHgAgACEAIwAkACIAJgAmACcAJgAjACQAIgAjACYAKAAnACkALAAsAC4ALgAsAC0ALQAqACoAKQApACkAKwAqACsALgAqACwALwAxADEAMwAxAC8AMQAtAC0ALgAuACwAMQAuADEAMgAvADQAMAAwADAALwAwAC0AKwAqACgAJwAkACIAIQAhACEAIQAgAB4AGwAcABkAGQAWABMAFAAOAA4ADgALAAkACAAJAAkABgAIAAcABwAIAAcABgAEAAMAAAAAAAAA///+//z/+//9//r/+P/3//X/9f/z//P/9f/0//L/8v/v/+v/7P/p/+j/5f/m/+b/5//o/+j/5v/l/+n/5v/m/+T/4f/g/+D/4P/f/+H/3v/e/93/3P/c/9z/3P/c/9z/3v/d/93/3//c/9z/2v/Z/9v/1//Y/9r/3f/e/9z/3//g/+D/4P/e/9//4f/c/9z/3f/c/9r/2//e/93/3v/g/+L/5P/n/+n/7f/s/+v/6//t/+z/7P/u/+3/7f/w//L/7//y//T/9v/3//j/+f/5//r//v/+//7/AQACAAIABwAGAAUABQAEAAYABAAGAAQABQAFAAUABwAHAAkACAAKAAoACQAMAA4ADAAOAA8ACgAKAAkACQAIAAkACQAIAA0ACgAMABAADwARABIAEAAQAA8AEQAQABAAEwAPAA8AEwASABAADwAOABAADwAQABIAFAAVABQAFgAVABQAEgATABEAFAAVABMAFQAXABUAFQAUABQAFgAUABQAFgAWABgAGQAYABYAFgAWABUAFQAWABIAEgAXABYAFAAUABIAEQATABEAEAAQAA8ADQAMAAsACQAKAAsACgAHAAgABgAIAAUABQADAAMA///8//r/9//5//f/9//2//j/9v/y//X/9P/z//X/8P/x/+//6//q/+j/5//q/+n/5//n/+P/4//k/+T/4//j/+X/5P/k/+P/5P/j/9//3//h/+D/4f/h/+X/5P/n/+j/6f/l/+j/6f/o/+n/6P/p/+3/7v/v//D/8f/y//L/9f/w//X/9v/1//X/9//3//f/+v/3//r//P/8//7///8AAAAAAAAAAAMAAgAAAAEAAQABAAEABAABAAMABQADAAQABQAFAAcABQADAAQABAAEAAAAAQADAAAAAgAEAAYABgAGAAUABQAGAAYABQAGAAQABgAGAAcACAAIAAcABwAJAAkACwALAAwACgAKAAsACwAIAAkACQAKAAsACwAIAAoACAAKAAkACwAJAAsACwAIAAsACwAHAAgACgAIAAgACAAJAAkACwAJAAsACAAIAAsACAAIAAYABQAGAAQABAADAAMAAgADAAAAAAACAAAAAQACAAAAAAACAAEAAAABAAAA//8AAAAA/v8AAAAAAAD//wAAAAACAAEAAAADAAIAAQADAAEAAAAEAAEAAAABAAEAAAD//wAA//8AAP///f8AAP3//v////7//v/9/wAA/f/+/wAA/v////7//f/6//v/+f/6//r/9//6//n//P/8/////P/7//z/+//7//v//P/+//r/+f/6//n/+//7//n/+v/9//r/+v/8//r/+v/5//r/+//6//n/9v/4//j/+f/5//n/+f/4//j/+P/5//f/+//9//r/+v/9//r/+v/8//z/+v/8//7//////wAAAQAAAAAA//8BAAAAAAAAAP/////+/wAAAQAAAAEAAwAAAAMAAAAAAAMAAAADAAIAAQACAAAAAgADAAEAAAADAAMAAwAAAAQABQACAAAAAgAAAAAAAAAAAAEAAQABAP//AAAAAAIABAAAAAMABAABAAIAAgACAAEAAgACAAAAAwABAAIAAgAAAAAAAAAAAAAAAgAAAAAAAgABAAIAAAABAAAA//8BAP//BAAEAAAABQAEAAYABAADAAQAAwADAAQAAwACAAMAAQACAAIAAQADAAIAAQACAAUAAwABAAEAAQABAAEAAAAAAAIAAgAAAAAAAwACAAIAAwABAAAAAQACAAAAAAAAAAAAAAD//wAAAAAAAAAAAgAAAAEAAgD+//7//f/4//v//v/6//z//f/7//n/+//6//z/+//8//3/+v/+//3//P/7//v/+//9//v/+//9//z/+v/7//z/+//7//r/+//8//3//v/8//v/+v/8//7/+v/6//v/9//7//X/+P/6//b/+v/8//r////7//v/+P/6//v/+P/9//n/+v/8//v/+v/7//v/+v/6//z//v/7//v/+//9////+//8//7/+//7//z/+//9//3//f/8//z//v/8//3////+//3//v/8//7//f/+/////v/+/wAAAAAAAAEAAgABAAAAAQABAP3/AAABAAAAAgADAAIAAwAAAAIAAAD+/wEA//8AAAAAAAD+//7////+//7///8AAAAA/v8AAAAA//8AAP//AQAAAP7//v/+/////f////3//f/9//3/AAACAAAA//8CAAAAAQABAAEAAAADAAIAAAACAAIAAwADAAEAAgABAAEAAgADAAEAAQAAAAIAAwADAAMABAAFAAQABQACAAMAAwABAAIAAwADAAEAAgACAAMAAwACAAQAAgAAAAMAAgAAAAAAAgADAAMAAgAEAAIABAAHAAQABQADAAYABwAFAAQABQADAAMAAwACAAMABAAEAAMABAADAAMABgAFAAMABAADAAMAAAACAAEAAAABAAIAAgADAAEAAAABAAEAAgABAAIAAQAAAAIAAQAAAAMAAAAAAAAA/////wAAAAABAP///v/+/wAA/f8BAP/////+//7////7/////f/+//3/AAD///3//v/+//v/+v/8//z/+//9//3//P/7//v/+v/5//r/+f/4//v/9v/4//r/+P/4//f/+P/4//r/+v/4//j/+P/6//j/9//7//v/+v/7//j/+//9//z//P/8//z/+//8//v//P/6//r//P/6//n//v/9//z//f/9/wAA/f/+//z/AAD7//z//P/8//z//v/+/////v/8//7/+//+//7//f/9//7/AAD6//v/+v/8//z//P/5//3//P/8//3//v/9//3//f/9/////f//////AAD///3//v/+//////8BAAEAAQAAAP///v8BAAEAAQAAAAAAAAAAAAAAAAAAAAEAAgACAAIAAQAAAAEAAAAAAAIAAgAAAAIAAwABAAUAAgADAAUABQAEAAQABwADAAEAAQADAAIABQAEAAMABgAGAAUABgAHAAYABgAHAAgABQAHAAgABgAHAAcABgAGAAMABAADAAMABAAEAAQABAAEAAYABwAGAAYABQAHAAYABAAFAAYABQADAAQAAAACAAIAAwAAAAIAAgABAAEAAAAAAAIAAwAAAAAAAAD//wAAAAD//wAA/v8BAAAA//8AAAAAAQAAAAAAAAAAAP//AAD///7////+//3//v/7//3//v///////v////z//v/7//z/+//7//3/+f/7//z//f/7//7//P/7//r//P/8//n/+//4//3//P/9//v//P/9//z//v/7//3//f/9////AAD9/wAA//8AAP/////////////+//3/AAD+//3//v/7//z////5//3//v/8//3//v/9//3//P/6//3/+//9//z/+v/7//3/+//9//v//P////3//v/7//3//f/9//v//v////3//v/9/wEAAAAAAAEA//8AAAAAAAD//wEAAQAAAAAAAAAAAAAAAAD8//7/AAD//wEAAQAAAAAAAgAAAAAAAAD+//7//v8AAP////8BAAEAAAD//////v/+/wAA//8AAAAAAAAAAP//AAD//wIAAAD//wAAAAD+/wEAAAAAAP////8DAAEAAgACAAAAAQACAAAAAQD//wAAAQACAAAAAAABAAAAAgABAAEAAQD//wEAAAD//wAA//8AAAEA//8BAP///v8AAP//AAD//wAAAQAAAAAAAQABAAAAAQABAAAAAgABAAAAAAABAAAA//8AAP7/AAAAAP/////9////AAD//////v8AAAAA//8AAAAAAAAAAAAAAAD+//3/AAD8//7/AAD//wAA//////3///8AAPz//f/+//3////9////AAD+//7//v////z//f/9//7//v/8/wAA/v/8//7//f/9/////v////7//f/9//7//v/9//7////+////AAAAAP//AAAAAP//AAAAAAEAAAAAAAAAAAAAAAAA//8AAAAAAAAAAAAA//8AAAEAAAAAAP7////+/wAA///9//////8AAAEAAgABAAEAAAAAAP//AAABAP//AAD///7///8AAAAAAgAAAAAAAQAAAAAA//8AAAAA//8AAAAAAAAAAAAAAQAAAAAAAAAAAAAAAAABAP//AAABAAAAAAAAAAAA//8AAAIAAQAAAAEAAQAAAP//AAAAAP7/AAAAAAAAAAD///////8AAP///v/9/wAAAAD+/////v////3/////////AAAAAAAAAAAAAP////8AAAAAAAD//wEAAQABAAEAAAAAAAAAAAAAAP//AAAAAAEAAAAAAAEA/f8AAP//AAAAAAEAAAD//wAAAAABAAAA//8AAAAAAAD//wAAAAAAAAAAAAABAAAAAQABAAAAAAD//wAAAAABAAIAAAABAAEA/v8AAP//AAACAAIAAAAAAAIAAAABAAAA/////wAAAAD9//7//f/9//7//f/+//3//f8AAP///v8AAP///f////7////+//7/AAD///z////+////AAD//wEAAAD9/wAA//8AAAAA//8AAAAAAAD//wAAAAD7//z//P/9//z//f/9//z//P////7//////////f/9/wAAAAD+//////////3//f/+//3//f/+//z//v/7//r//f/8//z//P/9//3//P/8//3//f/+//z//f/+//3//v/+//7//f/8//z//v/+////AAD//wAAAAD9//3//v///wEAAAAAAP//AAABAAAAAQAAAAAAAAABAAAAAQABAAIAAQABAAAAAAABAAAAAAAAAAMAAAABAAEAAgABAAEAAgADAAMAAQAAAAAAAgABAAEABQADAAMAAgADAAMABQAEAAYABQACAAMAAQADAAIAAQADAAAABAADAAIAAgADAAIAAwADAAIAAQABAAEAAAD//wAAAQAAAP//AAD/////AAD/////AAAAAP//AAAAAAAA///+//3//v/+//7//v//////AAAAAAAA/P8CAAAA/v/9//3//P///wAAAAAAAAAA//8AAAAA//8AAP//AAABAP////8AAP7///8AAAAA//8AAP///v/9//7////+/////f/+/w==\" type=\"audio/wav\" />\n",
       "                    Your browser does not support the audio element.\n",
       "                </audio>\n",
       "              "
      ],
      "text/plain": [
       "<IPython.lib.display.Audio object>"
      ]
     },
     "execution_count": 12,
     "metadata": {},
     "output_type": "execute_result"
    }
   ],
   "source": [
    "from utils.generation import SAMPLE_RATE, generate_audio, preload_models\n",
    "from scipy.io.wavfile import write as write_wav\n",
    "from IPython.display import Audio\n",
    "\n",
    "# download and load all models\n",
    "preload_models()\n",
    "\n",
    "# generate audio from text\n",
    "text_prompt = \"\"\"\n",
    "Xin chao, Viet Nam.\n",
    "\"\"\"\n",
    "audio_array = generate_audio(text_prompt)\n",
    "\n",
    "# save audio to disk\n",
    "write_wav(\"vallex_generation.wav\", SAMPLE_RATE, audio_array)\n",
    "\n",
    "# play text in notebook\n",
    "Audio(audio_array, rate=SAMPLE_RATE)"
   ]
  }
 ],
 "metadata": {
  "kaggle": {
   "accelerator": "gpu",
   "dataSources": [
    {
     "datasetId": 5859839,
     "sourceId": 9652454,
     "sourceType": "datasetVersion"
    }
   ],
   "dockerImageVersionId": 30787,
   "isGpuEnabled": true,
   "isInternetEnabled": true,
   "language": "python",
   "sourceType": "notebook"
  },
  "kernelspec": {
   "display_name": "Python 3",
   "language": "python",
   "name": "python3"
  },
  "language_info": {
   "codemirror_mode": {
    "name": "ipython",
    "version": 3
   },
   "file_extension": ".py",
   "mimetype": "text/x-python",
   "name": "python",
   "nbconvert_exporter": "python",
   "pygments_lexer": "ipython3",
   "version": "3.10.14"
  },
  "papermill": {
   "default_parameters": {},
   "duration": 7312.253211,
   "end_time": "2024-10-18T13:50:05.580095",
   "environment_variables": {},
   "exception": null,
   "input_path": "__notebook__.ipynb",
   "output_path": "__notebook__.ipynb",
   "parameters": {},
   "start_time": "2024-10-18T11:48:13.326884",
   "version": "2.6.0"
  }
 },
 "nbformat": 4,
 "nbformat_minor": 5
}
